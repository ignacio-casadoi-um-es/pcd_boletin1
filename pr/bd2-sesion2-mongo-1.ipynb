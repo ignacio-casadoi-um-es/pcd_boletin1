{
  "cells": [
    {
      "cell_type": "markdown",
      "id": "136f9eb1",
      "metadata": {
        "id": "136f9eb1"
      },
      "source": [
        "# NoSQL (MongoDB) (sesión 1)\n",
        "\n",
        "## Contenidos\n",
        "\n",
        "* Introducción\n",
        "* Instalación inicial de MongoDB\n",
        "* Descarga de datos CSV\n",
        "* Instalación de la librería `pymongo`\n",
        "* Conexión a la base de datos\n",
        "* El API de colección de MongoDB\n",
        "* Búsqueda de documentos\n",
        "* Borrado de documentos\n",
        "* Inserción de elementos\n",
        "* Operadores de colección\n",
        "* Ejemplos básicos de agregación\n",
        "* Ejercicios\n",
        "\n",
        "\n"
      ]
    },
    {
      "cell_type": "markdown",
      "id": "bb02e0bc",
      "metadata": {
        "id": "bb02e0bc"
      },
      "source": [
        "## Introducción\n",
        "\n",
        "![MongoDB](https://webassets.mongodb.com/_com_assets/cms/MongoDB_Logo_FullColorBlack_RGB-4td3yuxzjs.png)\n",
        "\n",
        "Esta hoja muestra cómo acceder a bases de datos MongoDB y también a conectar la salida con Jupyter. Se puede utilizar el *shell* propio de MongoDB. La diferencia es que ese programa espera código Javascript y aquí trabajaremos con Python. A continuación, se introducen los conceptos básicos para la realización de consultas sencillas en Python.\n",
        "\n",
        "\n",
        "En primer lugar unas comprobaciones iniciales."
      ]
    },
    {
      "cell_type": "code",
      "execution_count": 1,
      "id": "d9df0277",
      "metadata": {
        "id": "d9df0277"
      },
      "outputs": [],
      "source": [
        "RunningInCOLAB: bool = 'google.colab' in str(get_ipython()) if hasattr(__builtins__,'__IPYTHON__') else False"
      ]
    },
    {
      "cell_type": "code",
      "execution_count": 2,
      "id": "afc0bacd",
      "metadata": {
        "id": "afc0bacd"
      },
      "outputs": [],
      "source": [
        "if not RunningInCOLAB:\n",
        "    !sudo apt-get update -qq\n",
        "    !sudo apt-get install -y -qq gpg p7zip"
      ]
    },
    {
      "cell_type": "markdown",
      "id": "dfda1433",
      "metadata": {
        "id": "dfda1433"
      },
      "source": [
        "## Instalación inicial de MongoDB (sólo necesaria en Google Colab)"
      ]
    },
    {
      "cell_type": "code",
      "execution_count": 3,
      "id": "ff6cfb44",
      "metadata": {
        "id": "ff6cfb44",
        "outputId": "bf71728e-2ce1-4327-b097-15dbe713d651",
        "colab": {
          "base_uri": "https://localhost:8080/"
        }
      },
      "outputs": [
        {
          "output_type": "stream",
          "name": "stdout",
          "text": [
            "Adding system user `mongodb' (UID 104) ...\n",
            "Adding new user `mongodb' (UID 104) with group `nogroup' ...\n",
            "Not creating home directory `/home/mongodb'.\n",
            "Adding group `mongodb' (GID 107) ...\n",
            "Done.\n",
            "Adding user `mongodb' to group `mongodb' ...\n",
            "Adding user mongodb to group mongodb\n",
            "Done.\n",
            "deb [ arch=amd64,arm64 ] https://repo.mongodb.org/apt/ubuntu jammy/mongodb-org/8.0 multiverse\n",
            "W: Skipping acquire of configured file 'main/source/Sources' as repository 'https://r2u.stat.illinois.edu/ubuntu jammy InRelease' does not seem to provide it (sources.list entry misspelt?)\n",
            "debconf: unable to initialize frontend: Dialog\n",
            "debconf: (No usable dialog-like program is installed, so the dialog based frontend cannot be used. at /usr/share/perl5/Debconf/FrontEnd/Dialog.pm line 78, <> line 10.)\n",
            "debconf: falling back to frontend: Readline\n",
            "debconf: unable to initialize frontend: Readline\n",
            "debconf: (This frontend requires a controlling tty.)\n",
            "debconf: falling back to frontend: Teletype\n",
            "dpkg-preconfigure: unable to re-open stdin: \n",
            "Selecting previously unselected package dialog.\n",
            "(Reading database ... 124926 files and directories currently installed.)\n",
            "Preparing to unpack .../0-dialog_1.3-20211214-1_amd64.deb ...\n",
            "Unpacking dialog (1.3-20211214-1) ...\n",
            "Selecting previously unselected package mongodb-database-tools.\n",
            "Preparing to unpack .../1-mongodb-database-tools_100.11.0_amd64.deb ...\n",
            "Unpacking mongodb-database-tools (100.11.0) ...\n",
            "Selecting previously unselected package mongodb-mongosh.\n",
            "Preparing to unpack .../2-mongodb-mongosh_2.3.9_amd64.deb ...\n",
            "Unpacking mongodb-mongosh (2.3.9) ...\n",
            "Selecting previously unselected package mongodb-org-shell.\n",
            "Preparing to unpack .../3-mongodb-org-shell_8.0.4_amd64.deb ...\n",
            "Unpacking mongodb-org-shell (8.0.4) ...\n",
            "Selecting previously unselected package mongodb-org-server.\n",
            "Preparing to unpack .../4-mongodb-org-server_8.0.4_amd64.deb ...\n",
            "Unpacking mongodb-org-server (8.0.4) ...\n",
            "Selecting previously unselected package mongodb-org-mongos.\n",
            "Preparing to unpack .../5-mongodb-org-mongos_8.0.4_amd64.deb ...\n",
            "Unpacking mongodb-org-mongos (8.0.4) ...\n",
            "Selecting previously unselected package mongodb-org-database-tools-extra.\n",
            "Preparing to unpack .../6-mongodb-org-database-tools-extra_8.0.4_amd64.deb ...\n",
            "Unpacking mongodb-org-database-tools-extra (8.0.4) ...\n",
            "Selecting previously unselected package mongodb-org-database.\n",
            "Preparing to unpack .../7-mongodb-org-database_8.0.4_amd64.deb ...\n",
            "Unpacking mongodb-org-database (8.0.4) ...\n",
            "Selecting previously unselected package mongodb-org-tools.\n",
            "Preparing to unpack .../8-mongodb-org-tools_8.0.4_amd64.deb ...\n",
            "Unpacking mongodb-org-tools (8.0.4) ...\n",
            "Selecting previously unselected package mongodb-org.\n",
            "Preparing to unpack .../9-mongodb-org_8.0.4_amd64.deb ...\n",
            "Unpacking mongodb-org (8.0.4) ...\n",
            "Setting up mongodb-mongosh (2.3.9) ...\n",
            "Setting up mongodb-org-server (8.0.4) ...\n",
            "Setting up mongodb-org-shell (8.0.4) ...\n",
            "Setting up dialog (1.3-20211214-1) ...\n",
            "Setting up mongodb-database-tools (100.11.0) ...\n",
            "Setting up mongodb-org-mongos (8.0.4) ...\n",
            "Setting up mongodb-org-database-tools-extra (8.0.4) ...\n",
            "Setting up mongodb-org-database (8.0.4) ...\n",
            "Setting up mongodb-org-tools (8.0.4) ...\n",
            "Setting up mongodb-org (8.0.4) ...\n",
            "Processing triggers for man-db (2.10.2-1) ...\n",
            "about to fork child process, waiting until server is ready for connections.\n",
            "forked process: 1672\n",
            "child process started successfully, parent exiting\n",
            "db version v8.0.4\n",
            "Build Info: {\n",
            "    \"version\": \"8.0.4\",\n",
            "    \"gitVersion\": \"bc35ab4305d9920d9d0491c1c9ef9b72383d31f9\",\n",
            "    \"openSSLVersion\": \"OpenSSL 3.0.2 15 Mar 2022\",\n",
            "    \"modules\": [],\n",
            "    \"allocator\": \"tcmalloc-google\",\n",
            "    \"environment\": {\n",
            "        \"distmod\": \"ubuntu2204\",\n",
            "        \"distarch\": \"x86_64\",\n",
            "        \"target_arch\": \"x86_64\"\n",
            "    }\n",
            "}\n"
          ]
        }
      ],
      "source": [
        "if RunningInCOLAB:\n",
        "  !wget -q https://raw.githubusercontent.com/dsevilla/bdge/refs/heads/24-25/addendum/mongo-utils/run-mongo-local.sh\n",
        "  !bash run-mongo-local.sh"
      ]
    },
    {
      "cell_type": "markdown",
      "id": "7130f81d",
      "metadata": {
        "id": "7130f81d"
      },
      "source": [
        "## Descarga de los datos en formato CSV"
      ]
    },
    {
      "cell_type": "markdown",
      "id": "25735008",
      "metadata": {
        "id": "25735008"
      },
      "source": [
        " - Formato: 7zipped\n",
        " - Ficheros:\n",
        "   - **Comments**.csv\n",
        "       - Id\n",
        "       - PostId\n",
        "       - Score\n",
        "       - Text, e.g.: \"@Stu Thompson: Seems possible to me - why not try it?\"\n",
        "       - CreationDate, e.g.:\"2008-09-06T08:07:10.730\"\n",
        "       - UserId\n",
        "   - **Posts**.csv\n",
        "       - Id\n",
        "       - PostTypeId\n",
        "          - 1: Question\n",
        "          - 2: Answer\n",
        "       - ParentID (only present if PostTypeId is 2)\n",
        "       - AcceptedAnswerId (only present if PostTypeId is 1)\n",
        "       - CreationDate\n",
        "       - Score\n",
        "       - ViewCount\n",
        "       - Body\n",
        "       - OwnerUserId\n",
        "       - LastEditorUserId\n",
        "       - LastEditorDisplayName=\"Jeff Atwood\"\n",
        "       - LastEditDate=\"2009-03-05T22:28:34.823\"\n",
        "       - LastActivityDate=\"2009-03-11T12:51:01.480\"\n",
        "       - CommunityOwnedDate=\"2009-03-11T12:51:01.480\"\n",
        "       - ClosedDate=\"2009-03-11T12:51:01.480\"\n",
        "       - Title=\n",
        "       - Tags=\n",
        "       - AnswerCount\n",
        "       - CommentCount\n",
        "       - FavoriteCount\n",
        "   - **Tags**.csv\n",
        "    - Id\n",
        "    - Count\n",
        "    - ExcerptPostId\n",
        "    - TagName\n",
        "    - WikiPostId\n",
        "   - **Users**.csv\n",
        "     - Id\n",
        "     - Reputation\n",
        "     - CreationDate\n",
        "     - DisplayName\n",
        "     - EmailHash\n",
        "     - LastAccessDate\n",
        "     - WebsiteUrl\n",
        "     - Location\n",
        "     - Age\n",
        "     - AboutMe\n",
        "     - Views\n",
        "     - UpVotes\n",
        "     - DownVotes\n",
        "   - **Votes**.csv\n",
        "     - Id\n",
        "     - PostId\n",
        "     - VoteTypeId\n",
        "        - ` 1`: AcceptedByOriginator\n",
        "        - ` 2`: UpMod\n",
        "        - ` 3`: DownMod\n",
        "        - ` 4`: Offensive\n",
        "        - ` 5`: Favorite - if VoteTypeId = 5 UserId will be populated\n",
        "        - ` 6`: Close\n",
        "        - ` 7`: Reopen\n",
        "        - ` 8`: BountyStart\n",
        "        - ` 9`: BountyClose\n",
        "        - `10`: Deletion\n",
        "        - `11`: Undeletion\n",
        "        - `12`: Spam\n",
        "        - `13`: InformModerator\n",
        "     - CreationDate\n",
        "     - UserId (only for VoteTypeId 5)\n",
        "     - BountyAmount (only for VoteTypeId 9)"
      ]
    },
    {
      "cell_type": "code",
      "execution_count": 4,
      "id": "765a7744",
      "metadata": {
        "id": "765a7744",
        "outputId": "f4b229a3-3338-4caf-936a-c2a7023336fa",
        "colab": {
          "base_uri": "https://localhost:8080/"
        }
      },
      "outputs": [
        {
          "output_type": "stream",
          "name": "stdout",
          "text": [
            "--2025-02-20 10:28:38--  https://github.com/dsevilla/bd2-data/raw/main/es.stackoverflow/es.stackoverflow.csv.7z.001\n",
            "Resolving github.com (github.com)... 140.82.113.4\n",
            "Connecting to github.com (github.com)|140.82.113.4|:443... connected.\n",
            "HTTP request sent, awaiting response... 302 Found\n",
            "Location: https://raw.githubusercontent.com/dsevilla/bd2-data/main/es.stackoverflow/es.stackoverflow.csv.7z.001 [following]\n",
            "--2025-02-20 10:28:38--  https://raw.githubusercontent.com/dsevilla/bd2-data/main/es.stackoverflow/es.stackoverflow.csv.7z.001\n",
            "Resolving raw.githubusercontent.com (raw.githubusercontent.com)... 185.199.108.133, 185.199.109.133, 185.199.110.133, ...\n",
            "Connecting to raw.githubusercontent.com (raw.githubusercontent.com)|185.199.108.133|:443... connected.\n",
            "HTTP request sent, awaiting response... 200 OK\n",
            "Length: 104857600 (100M) [application/octet-stream]\n",
            "Saving to: ‘STDOUT’\n",
            "\n",
            "-                   100%[===================>] 100.00M   214MB/s    in 0.5s    \n",
            "\n",
            "2025-02-20 10:28:39 (214 MB/s) - written to stdout [104857600/104857600]\n",
            "\n",
            "--2025-02-20 10:28:39--  https://github.com/dsevilla/bd2-data/raw/main/es.stackoverflow/es.stackoverflow.csv.7z.002\n",
            "Resolving github.com (github.com)... 140.82.113.4\n",
            "Connecting to github.com (github.com)|140.82.113.4|:443... connected.\n",
            "HTTP request sent, awaiting response... 302 Found\n",
            "Location: https://raw.githubusercontent.com/dsevilla/bd2-data/main/es.stackoverflow/es.stackoverflow.csv.7z.002 [following]\n",
            "--2025-02-20 10:28:39--  https://raw.githubusercontent.com/dsevilla/bd2-data/main/es.stackoverflow/es.stackoverflow.csv.7z.002\n",
            "Resolving raw.githubusercontent.com (raw.githubusercontent.com)... 185.199.108.133, 185.199.109.133, 185.199.110.133, ...\n",
            "Connecting to raw.githubusercontent.com (raw.githubusercontent.com)|185.199.108.133|:443... connected.\n",
            "HTTP request sent, awaiting response... 200 OK\n",
            "Length: 95599938 (91M) [application/octet-stream]\n",
            "Saving to: ‘STDOUT’\n",
            "\n",
            "-                   100%[===================>]  91.17M   185MB/s    in 0.5s    \n",
            "\n",
            "2025-02-20 10:28:40 (185 MB/s) - written to stdout [95599938/95599938]\n",
            "\n"
          ]
        }
      ],
      "source": [
        "!wget https://github.com/dsevilla/bd2-data/raw/main/es.stackoverflow/es.stackoverflow.csv.7z.001 -O - > es.stackoverflow.csv.7z\n",
        "!wget https://github.com/dsevilla/bd2-data/raw/main/es.stackoverflow/es.stackoverflow.csv.7z.002 -O - >> es.stackoverflow.csv.7z"
      ]
    },
    {
      "cell_type": "code",
      "execution_count": 5,
      "id": "00fc396d",
      "metadata": {
        "id": "00fc396d",
        "outputId": "eedc6cf5-ef2c-4a93-a658-0bcf7d355759",
        "colab": {
          "base_uri": "https://localhost:8080/"
        }
      },
      "outputs": [
        {
          "output_type": "stream",
          "name": "stdout",
          "text": [
            "\n",
            "7-Zip (a) [64] 16.02 : Copyright (c) 1999-2016 Igor Pavlov : 2016-05-21\n",
            "p7zip Version 16.02 (locale=en_US.UTF-8,Utf16=on,HugeFiles=on,64 bits,2 CPUs Intel(R) Xeon(R) CPU @ 2.20GHz (406F0),ASM,AES-NI)\n",
            "\n",
            "Scanning the drive for archives:\n",
            "  0M Scan\b\b\b\b\b\b\b\b\b         \b\b\b\b\b\b\b\b\b1 file, 200457538 bytes (192 MiB)\n",
            "\n",
            "Extracting archive: es.stackoverflow.csv.7z\n",
            "--\n",
            "Path = es.stackoverflow.csv.7z\n",
            "Type = 7z\n",
            "Physical Size = 200457538\n",
            "Headers Size = 248\n",
            "Method = LZMA2:24\n",
            "Solid = +\n",
            "Blocks = 1\n",
            "\n",
            "  0%\b\b\b\b    \b\b\b\b  1% - Comments.csv\b\b\b\b\b\b\b\b\b\b\b\b\b\b\b\b\b\b\b                   \b\b\b\b\b\b\b\b\b\b\b\b\b\b\b\b\b\b\b  2% - Comments.csv\b\b\b\b\b\b\b\b\b\b\b\b\b\b\b\b\b\b\b                   \b\b\b\b\b\b\b\b\b\b\b\b\b\b\b\b\b\b\b  3% - Comments.csv\b\b\b\b\b\b\b\b\b\b\b\b\b\b\b\b\b\b\b                   \b\b\b\b\b\b\b\b\b\b\b\b\b\b\b\b\b\b\b  4% - Comments.csv\b\b\b\b\b\b\b\b\b\b\b\b\b\b\b\b\b\b\b                   \b\b\b\b\b\b\b\b\b\b\b\b\b\b\b\b\b\b\b  5% - Comments.csv\b\b\b\b\b\b\b\b\b\b\b\b\b\b\b\b\b\b\b                   \b\b\b\b\b\b\b\b\b\b\b\b\b\b\b\b\b\b\b  6% - Comments.csv\b\b\b\b\b\b\b\b\b\b\b\b\b\b\b\b\b\b\b                   \b\b\b\b\b\b\b\b\b\b\b\b\b\b\b\b\b\b\b  7% - Comments.csv\b\b\b\b\b\b\b\b\b\b\b\b\b\b\b\b\b\b\b                   \b\b\b\b\b\b\b\b\b\b\b\b\b\b\b\b\b\b\b  8% - Comments.csv\b\b\b\b\b\b\b\b\b\b\b\b\b\b\b\b\b\b\b                   \b\b\b\b\b\b\b\b\b\b\b\b\b\b\b\b\b\b\b  9% - Comments.csv\b\b\b\b\b\b\b\b\b\b\b\b\b\b\b\b\b\b\b                   \b\b\b\b\b\b\b\b\b\b\b\b\b\b\b\b\b\b\b 10% - Comments.csv\b\b\b\b\b\b\b\b\b\b\b\b\b\b\b\b\b\b\b                   \b\b\b\b\b\b\b\b\b\b\b\b\b\b\b\b\b\b\b 11% - Comments.csv\b\b\b\b\b\b\b\b\b\b\b\b\b\b\b\b\b\b\b                   \b\b\b\b\b\b\b\b\b\b\b\b\b\b\b\b\b\b\b 12% - Comments.csv\b\b\b\b\b\b\b\b\b\b\b\b\b\b\b\b\b\b\b                   \b\b\b\b\b\b\b\b\b\b\b\b\b\b\b\b\b\b\b 13% - Comments.csv\b\b\b\b\b\b\b\b\b\b\b\b\b\b\b\b\b\b\b                   \b\b\b\b\b\b\b\b\b\b\b\b\b\b\b\b\b\b\b 14% - Comments.csv\b\b\b\b\b\b\b\b\b\b\b\b\b\b\b\b\b\b\b                   \b\b\b\b\b\b\b\b\b\b\b\b\b\b\b\b\b\b\b 15% - Comments.csv\b\b\b\b\b\b\b\b\b\b\b\b\b\b\b\b\b\b\b                   \b\b\b\b\b\b\b\b\b\b\b\b\b\b\b\b\b\b\b 16% 1 - Posts.csv\b\b\b\b\b\b\b\b\b\b\b\b\b\b\b\b\b\b                  \b\b\b\b\b\b\b\b\b\b\b\b\b\b\b\b\b\b 17% 1 - Posts.csv\b\b\b\b\b\b\b\b\b\b\b\b\b\b\b\b\b\b                  \b\b\b\b\b\b\b\b\b\b\b\b\b\b\b\b\b\b 18% 1 - Posts.csv\b\b\b\b\b\b\b\b\b\b\b\b\b\b\b\b\b\b                  \b\b\b\b\b\b\b\b\b\b\b\b\b\b\b\b\b\b 19% 1 - Posts.csv\b\b\b\b\b\b\b\b\b\b\b\b\b\b\b\b\b\b                  \b\b\b\b\b\b\b\b\b\b\b\b\b\b\b\b\b\b 20% 1 - Posts.csv\b\b\b\b\b\b\b\b\b\b\b\b\b\b\b\b\b\b                  \b\b\b\b\b\b\b\b\b\b\b\b\b\b\b\b\b\b 21% 1 - Posts.csv\b\b\b\b\b\b\b\b\b\b\b\b\b\b\b\b\b\b                  \b\b\b\b\b\b\b\b\b\b\b\b\b\b\b\b\b\b 22% 1 - Posts.csv\b\b\b\b\b\b\b\b\b\b\b\b\b\b\b\b\b\b                  \b\b\b\b\b\b\b\b\b\b\b\b\b\b\b\b\b\b 23% 1 - Posts.csv\b\b\b\b\b\b\b\b\b\b\b\b\b\b\b\b\b\b                  \b\b\b\b\b\b\b\b\b\b\b\b\b\b\b\b\b\b 24% 1 - Posts.csv\b\b\b\b\b\b\b\b\b\b\b\b\b\b\b\b\b\b                  \b\b\b\b\b\b\b\b\b\b\b\b\b\b\b\b\b\b 25% 1 - Posts.csv\b\b\b\b\b\b\b\b\b\b\b\b\b\b\b\b\b\b                  \b\b\b\b\b\b\b\b\b\b\b\b\b\b\b\b\b\b 27% 1 - Posts.csv\b\b\b\b\b\b\b\b\b\b\b\b\b\b\b\b\b\b                  \b\b\b\b\b\b\b\b\b\b\b\b\b\b\b\b\b\b 28% 1 - Posts.csv\b\b\b\b\b\b\b\b\b\b\b\b\b\b\b\b\b\b                  \b\b\b\b\b\b\b\b\b\b\b\b\b\b\b\b\b\b 29% 1 - Posts.csv\b\b\b\b\b\b\b\b\b\b\b\b\b\b\b\b\b\b                  \b\b\b\b\b\b\b\b\b\b\b\b\b\b\b\b\b\b 31% 1 - Posts.csv\b\b\b\b\b\b\b\b\b\b\b\b\b\b\b\b\b\b                  \b\b\b\b\b\b\b\b\b\b\b\b\b\b\b\b\b\b 32% 1 - Posts.csv\b\b\b\b\b\b\b\b\b\b\b\b\b\b\b\b\b\b                  \b\b\b\b\b\b\b\b\b\b\b\b\b\b\b\b\b\b 34% 1 - Posts.csv\b\b\b\b\b\b\b\b\b\b\b\b\b\b\b\b\b\b                  \b\b\b\b\b\b\b\b\b\b\b\b\b\b\b\b\b\b 36% 1 - Posts.csv\b\b\b\b\b\b\b\b\b\b\b\b\b\b\b\b\b\b                  \b\b\b\b\b\b\b\b\b\b\b\b\b\b\b\b\b\b 37% 1 - Posts.csv\b\b\b\b\b\b\b\b\b\b\b\b\b\b\b\b\b\b                  \b\b\b\b\b\b\b\b\b\b\b\b\b\b\b\b\b\b 39% 1 - Posts.csv\b\b\b\b\b\b\b\b\b\b\b\b\b\b\b\b\b\b                  \b\b\b\b\b\b\b\b\b\b\b\b\b\b\b\b\b\b 40% 1 - Posts.csv\b\b\b\b\b\b\b\b\b\b\b\b\b\b\b\b\b\b                  \b\b\b\b\b\b\b\b\b\b\b\b\b\b\b\b\b\b 42% 1 - Posts.csv\b\b\b\b\b\b\b\b\b\b\b\b\b\b\b\b\b\b                  \b\b\b\b\b\b\b\b\b\b\b\b\b\b\b\b\b\b 43% 1 - Posts.csv\b\b\b\b\b\b\b\b\b\b\b\b\b\b\b\b\b\b                  \b\b\b\b\b\b\b\b\b\b\b\b\b\b\b\b\b\b 44% 1 - Posts.csv\b\b\b\b\b\b\b\b\b\b\b\b\b\b\b\b\b\b                  \b\b\b\b\b\b\b\b\b\b\b\b\b\b\b\b\b\b 46% 1 - Posts.csv\b\b\b\b\b\b\b\b\b\b\b\b\b\b\b\b\b\b                  \b\b\b\b\b\b\b\b\b\b\b\b\b\b\b\b\b\b 47% 1 - Posts.csv\b\b\b\b\b\b\b\b\b\b\b\b\b\b\b\b\b\b                  \b\b\b\b\b\b\b\b\b\b\b\b\b\b\b\b\b\b 48% 1 - Posts.csv\b\b\b\b\b\b\b\b\b\b\b\b\b\b\b\b\b\b                  \b\b\b\b\b\b\b\b\b\b\b\b\b\b\b\b\b\b 50% 1 - Posts.csv\b\b\b\b\b\b\b\b\b\b\b\b\b\b\b\b\b\b                  \b\b\b\b\b\b\b\b\b\b\b\b\b\b\b\b\b\b 51% 1 - Posts.csv\b\b\b\b\b\b\b\b\b\b\b\b\b\b\b\b\b\b                  \b\b\b\b\b\b\b\b\b\b\b\b\b\b\b\b\b\b 53% 1 - Posts.csv\b\b\b\b\b\b\b\b\b\b\b\b\b\b\b\b\b\b                  \b\b\b\b\b\b\b\b\b\b\b\b\b\b\b\b\b\b 54% 1 - Posts.csv\b\b\b\b\b\b\b\b\b\b\b\b\b\b\b\b\b\b                  \b\b\b\b\b\b\b\b\b\b\b\b\b\b\b\b\b\b 55% 1 - Posts.csv\b\b\b\b\b\b\b\b\b\b\b\b\b\b\b\b\b\b                  \b\b\b\b\b\b\b\b\b\b\b\b\b\b\b\b\b\b 57% 1 - Posts.csv\b\b\b\b\b\b\b\b\b\b\b\b\b\b\b\b\b\b                  \b\b\b\b\b\b\b\b\b\b\b\b\b\b\b\b\b\b 59% 1 - Posts.csv\b\b\b\b\b\b\b\b\b\b\b\b\b\b\b\b\b\b                  \b\b\b\b\b\b\b\b\b\b\b\b\b\b\b\b\b\b 60% 1 - Posts.csv\b\b\b\b\b\b\b\b\b\b\b\b\b\b\b\b\b\b                  \b\b\b\b\b\b\b\b\b\b\b\b\b\b\b\b\b\b 61% 1 - Posts.csv\b\b\b\b\b\b\b\b\b\b\b\b\b\b\b\b\b\b                  \b\b\b\b\b\b\b\b\b\b\b\b\b\b\b\b\b\b 63% 1 - Posts.csv\b\b\b\b\b\b\b\b\b\b\b\b\b\b\b\b\b\b                  \b\b\b\b\b\b\b\b\b\b\b\b\b\b\b\b\b\b 65% 1 - Posts.csv\b\b\b\b\b\b\b\b\b\b\b\b\b\b\b\b\b\b                  \b\b\b\b\b\b\b\b\b\b\b\b\b\b\b\b\b\b 66% 1 - Posts.csv\b\b\b\b\b\b\b\b\b\b\b\b\b\b\b\b\b\b                  \b\b\b\b\b\b\b\b\b\b\b\b\b\b\b\b\b\b 68% 1 - Posts.csv\b\b\b\b\b\b\b\b\b\b\b\b\b\b\b\b\b\b                  \b\b\b\b\b\b\b\b\b\b\b\b\b\b\b\b\b\b 69% 1 - Posts.csv\b\b\b\b\b\b\b\b\b\b\b\b\b\b\b\b\b\b                  \b\b\b\b\b\b\b\b\b\b\b\b\b\b\b\b\b\b 71% 1 - Posts.csv\b\b\b\b\b\b\b\b\b\b\b\b\b\b\b\b\b\b                  \b\b\b\b\b\b\b\b\b\b\b\b\b\b\b\b\b\b 73% 1 - Posts.csv\b\b\b\b\b\b\b\b\b\b\b\b\b\b\b\b\b\b                  \b\b\b\b\b\b\b\b\b\b\b\b\b\b\b\b\b\b 74% 1 - Posts.csv\b\b\b\b\b\b\b\b\b\b\b\b\b\b\b\b\b\b                  \b\b\b\b\b\b\b\b\b\b\b\b\b\b\b\b\b\b 75% 1 - Posts.csv\b\b\b\b\b\b\b\b\b\b\b\b\b\b\b\b\b\b                  \b\b\b\b\b\b\b\b\b\b\b\b\b\b\b\b\b\b 76% 1 - Posts.csv\b\b\b\b\b\b\b\b\b\b\b\b\b\b\b\b\b\b                  \b\b\b\b\b\b\b\b\b\b\b\b\b\b\b\b\b\b 78% 1 - Posts.csv\b\b\b\b\b\b\b\b\b\b\b\b\b\b\b\b\b\b                  \b\b\b\b\b\b\b\b\b\b\b\b\b\b\b\b\b\b 79% 1 - Posts.csv\b\b\b\b\b\b\b\b\b\b\b\b\b\b\b\b\b\b                  \b\b\b\b\b\b\b\b\b\b\b\b\b\b\b\b\b\b 81% 1 - Posts.csv\b\b\b\b\b\b\b\b\b\b\b\b\b\b\b\b\b\b                  \b\b\b\b\b\b\b\b\b\b\b\b\b\b\b\b\b\b 82% 1 - Posts.csv\b\b\b\b\b\b\b\b\b\b\b\b\b\b\b\b\b\b                  \b\b\b\b\b\b\b\b\b\b\b\b\b\b\b\b\b\b 83% 1 - Posts.csv\b\b\b\b\b\b\b\b\b\b\b\b\b\b\b\b\b\b                  \b\b\b\b\b\b\b\b\b\b\b\b\b\b\b\b\b\b 85% 1 - Posts.csv\b\b\b\b\b\b\b\b\b\b\b\b\b\b\b\b\b\b                  \b\b\b\b\b\b\b\b\b\b\b\b\b\b\b\b\b\b 86% 1 - Posts.csv\b\b\b\b\b\b\b\b\b\b\b\b\b\b\b\b\b\b                  \b\b\b\b\b\b\b\b\b\b\b\b\b\b\b\b\b\b 87% 1 - Posts.csv\b\b\b\b\b\b\b\b\b\b\b\b\b\b\b\b\b\b                  \b\b\b\b\b\b\b\b\b\b\b\b\b\b\b\b\b\b 89% 1 - Posts.csv\b\b\b\b\b\b\b\b\b\b\b\b\b\b\b\b\b\b                  \b\b\b\b\b\b\b\b\b\b\b\b\b\b\b\b\b\b 90% 1 - Posts.csv\b\b\b\b\b\b\b\b\b\b\b\b\b\b\b\b\b\b                  \b\b\b\b\b\b\b\b\b\b\b\b\b\b\b\b\b\b 91% 1 - Posts.csv\b\b\b\b\b\b\b\b\b\b\b\b\b\b\b\b\b\b                  \b\b\b\b\b\b\b\b\b\b\b\b\b\b\b\b\b\b 92% 1 - Posts.csv\b\b\b\b\b\b\b\b\b\b\b\b\b\b\b\b\b\b                  \b\b\b\b\b\b\b\b\b\b\b\b\b\b\b\b\b\b 93% 1 - Posts.csv\b\b\b\b\b\b\b\b\b\b\b\b\b\b\b\b\b\b                  \b\b\b\b\b\b\b\b\b\b\b\b\b\b\b\b\b\b 94% 3 - Users.csv\b\b\b\b\b\b\b\b\b\b\b\b\b\b\b\b\b\b                  \b\b\b\b\b\b\b\b\b\b\b\b\b\b\b\b\b\b 95% 3 - Users.csv\b\b\b\b\b\b\b\b\b\b\b\b\b\b\b\b\b\b                  \b\b\b\b\b\b\b\b\b\b\b\b\b\b\b\b\b\b 96% 3 - Users.csv\b\b\b\b\b\b\b\b\b\b\b\b\b\b\b\b\b\b                  \b\b\b\b\b\b\b\b\b\b\b\b\b\b\b\b\b\b 96% 4 - Votes.csv\b\b\b\b\b\b\b\b\b\b\b\b\b\b\b\b\b\b                  \b\b\b\b\b\b\b\b\b\b\b\b\b\b\b\b\b\b 98% 4 - Votes.csv\b\b\b\b\b\b\b\b\b\b\b\b\b\b\b\b\b\b                  \b\b\b\b\b\b\b\b\b\b\b\b\b\b\b\b\b\b 99% 4 - Votes.csv\b\b\b\b\b\b\b\b\b\b\b\b\b\b\b\b\b\b                  \b\b\b\b\b\b\b\b\b\b\b\b\b\b\b\b\b\bEverything is Ok\n",
            "\n",
            "Files: 5\n",
            "Size:       1044736301\n",
            "Compressed: 200457538\n"
          ]
        }
      ],
      "source": [
        "!7zr x -aoa es.stackoverflow.csv.7z\n",
        "!rm es.stackoverflow.csv.7z"
      ]
    },
    {
      "cell_type": "code",
      "execution_count": 6,
      "id": "5e6568a9",
      "metadata": {
        "id": "5e6568a9",
        "outputId": "0efdd98c-9927-4b2b-f87c-b3cc20d5f526",
        "colab": {
          "base_uri": "https://localhost:8080/"
        }
      },
      "outputs": [
        {
          "output_type": "stream",
          "name": "stdout",
          "text": [
            "Id,AboutMe,AccountId,CreationDate,DisplayName,DownVotes,LastAccessDate,Location,Reputation,UpVotes,Views,WebsiteUrl\r\n",
            "-1,\"<p>Hola, no soy una persona real.</p><br/><br/><p>¡Soy un proceso que ayuda a mantener el sitio limpio!</p><br/><br/><p>Hago cosas como:</p><br/><br/><ul><br/><li>Dar empujoncitos a preguntas antiguas sin respuesta aproximadamente cada hora, para que atraigan algo de atención.</li><br/><li>Tener la propiedad de las preguntas y respuestas wiki para que nadie se lleve reputación por ellas</li><br/><li>Recibir la propiedad de los votos negativos en las publicaciones de spam o dañinas que son borradas permanentemente</li><br/><li>Tener la propiedad de las ediciones sugeridas por usuarios anónimos</li><br/><li><a href=\"\"http://meta.stackoverflow.com/a/92006\"\">Quitar preguntas abandonadas</a></li><br/></ul><br/>\",-1,2015-10-26T21:36:24.767,Comunidad,22504,2015-10-26T21:36:24.767,en la granja de servidores,1,10211,2516,\r\n",
            "1,\"<p>Dev #2 who helped create Stack Overflow currently working at Microsoft. I love all people willing to share their knowledge. Without community we are nothing.</p><br/><p>Find me on:</p><br/><p><a href=\"\"http://www.twitter.com/SuperDalgas\"\" rel=\"\"nofollow noreferrer\"\">Twitter</a><br/><br><br><br/><a href=\"\"http://blog.stackoverflow.com/2009/05/welcome-stack-overflow-valued-associate-00003/\"\">Stack Overflow Valued Associate #00003</a></p><br/>\",2,2015-10-26T22:50:12.710,Geoff Dalgas,0,2021-01-05T19:45:26.807,\"Corvallis, OR\",101,0,2917,http://stackoverflow.com\r\n",
            "2,\"<p>developer, techie, nerd.... ex-DBRE at Stack Overflow, previously a Community Manager for Stack Overflow.  When I'm not at my desk, I do CrossFit and run (a lot).</p><br/>\",188123,2015-10-26T22:51:07.007,Taryn,0,2020-08-18T17:39:10.693,Arizona,101,0,109,https://tarynpivots.com\r\n",
            "3,\"<p>Topics you might be interested in reading about:</p><br/><ul><br/><li><a href=\"\"https://jlericson.com/2023/10/16/catija.html\"\" rel=\"\"nofollow noreferrer\"\">why Stack Exchange Inc undervalues community managers</a></li><br/><li><a href=\"\"https://jlericson.com/tag/strike\"\" rel=\"\"nofollow noreferrer\"\">the moderator strike</a></li><br/><li><a href=\"\"https://jlericson.com/tag/documentation\"\" rel=\"\"nofollow noreferrer\"\">documentation</a></li><br/><li><a href=\"\"https://jlericson.com/tag/support\"\" rel=\"\"nofollow noreferrer\"\">customer support</a></li><br/></ul><br/><p>I'm Head of Community at <a href=\"\"https://talk.collegeconfidential.com/\"\" rel=\"\"nofollow noreferrer\"\">College Confidential</a> and former <a href=\"\"https://jlericson.com/2021/04/30/developer_advocate.html\"\" rel=\"\"nofollow noreferrer\"\">Developer Advocate at EDB</a>. Stack Exchange no longer employs me as a <a href=\"\"http://blog.stackoverflow.com/2013/08/please-welcome-jon-ericson-community-manager/\"\">Community Manager</a>.  I maintain an <a href=\"\"http://chat.meta.stackexchange.com/rooms/738/jons-java-jitter-joint\"\">office on chat</a>. (Please ignore the meta cruft.)</p><br/><blockquote><br/><p><a href=\"\"https://www.mechon-mamre.org/p/pt/pt2685.htm\"\" rel=\"\"nofollow noreferrer\"\">Mercy and truth are met together; righteousness and peace have kissed each other.</a></p><br/></blockquote><br/><p>I write about my experience as a community manager at <a href=\"\"https://jlericson.com/\"\" rel=\"\"nofollow noreferrer\"\">jlericson.com</a>. You can read about what I've done over the years in my <a href=\"\"https://web.archive.org/web/20220113195358/https://stackoverflow.com/users/story/1438\"\" rel=\"\"nofollow noreferrer\"\" title=\"\"Not guaranteed to be current.\"\"><em>curriculum vitae</em></a>.</p><br/><p>On a personal note, I'm married and have three children.  Our oldest son loves school, friends, games, and music. Two of my children happen to have been born on the same day.  I <a href=\"\"http://taking1and1.wordpress.com/\"\" rel=\"\"nofollow noreferrer\"\" title=\"\"Yet another half-assed blog.\"\">sometimes write</a> about that experience. My wife loves taking care of people as a registered nurse and an all around wonderful person.</p><br/><p>Don't have time for a full review of something?  Why not try <a href=\"\"http://fivesecondreview.wordpress.com/\"\" rel=\"\"nofollow noreferrer\"\" title=\"\"All reviews accurate and helpful or your money back.\"\">my 5-second reviews</a>?</p><br/><p>I once wrote for <a href=\"\"http://christianity.blogoverflow.com/author/jonericson/\"\" rel=\"\"nofollow noreferrer\"\" title=\"\"I haven't been on the rotation for a while, however.\"\">Eschewmenical</a>, which was an experiment of <a href=\"\"http://christianity.stackexchange.com/\"\">Christianity Stack Exchange</a>. For <em>a lot more</em> writing about the Bible, see <a href=\"\"https://hermeneutics.stackexchange.com/users/68/jon-ericson?tab=summary\"\">my Biblical Hermeneutics posts</a>.</p><br/><br/>\",1083,2015-10-26T22:52:12.923,Jon 'links in bio' Ericson,0,2023-06-04T23:58:02.373,Downtown Burbank,101,0,87,https://jlericson.com/\r\n",
            "4,\"<p>Lover of all things sharp including pencils, wit, and knives but not cheddar.</p><br/>\",6254215,2015-10-26T23:18:40.547,Juan M,0,2022-02-11T16:07:18.457,Behind the Glass,101,56,260,\r\n",
            "5,\"<p>I am a Principal Software Engineer at Microsoft working on Azure Functions and related hosting technologies. Formerly the Architecture Lead for Stack Overflow where my day job consisted of being a Developer, Site Reliability Engineer, and DBA.</p><br/><p>I design and build very fast things in hopes of making life easier for millions of developers.</p><br/><p>Blog: <a href=\"\"https://nickcraver.com/blog/\"\" rel=\"\"nofollow noreferrer\"\">nickcraver.com/blog</a><br /><br/>Twitter: <a href=\"\"https://twitter.com/Nick_Craver\"\" rel=\"\"nofollow noreferrer\"\">@Nick_Craver</a><br /><br/>My Developer Story: <a href=\"\"https://stackoverflow.com/story/ncraver\"\">stackoverflow.com/story/ncraver</a></p><br/><p><sub>Disclaimer: I have <em>no idea</em> what I'm talking about, all my answers are guesses!</sub></p><br/>\",7598,2015-10-26T23:46:20.807,Nick Craver,0,2019-04-02T20:05:34.147,\"Winston-Salem, NC\",101,0,53,https://nickcraver.com/blog/\r\n",
            "6,\"<p>Chief Technical Officer at <a href=\"\"https://postop.ai\"\" rel=\"\"nofollow noreferrer\"\">https://postop.ai</a>.</p><br/><ul><br/><li>Stack Overflow Contributor since 2008</li><br/><li>Skeptics mod since 2011</li><br/><li>Core dev since March 2013</li><br/><li>Stack Overflow alumnus since February 2017</li><br/></ul><br/><p>You can find me on</p><br/><ul><br/><li><a href=\"\"http://sklivvz.com\"\" rel=\"\"nofollow noreferrer\"\">Personal site</a></li><br/><li><a href=\"\"https://mastodon.social/@sklivvz\"\" rel=\"\"nofollow noreferrer\"\">Mastodon</a></li><br/><li><a href=\"\"https://github.com/sklivvz\"\" rel=\"\"nofollow noreferrer\"\">Github</a></li><br/><li><a href=\"\"https://www.linkedin.com/in/sklivvz/\"\" rel=\"\"nofollow noreferrer\"\">LinkedIn</a></li><br/></ul><br/>\",4623,2015-10-26T23:57:13.187,Sklivvz,0,2017-11-04T17:02:40.430,\"Trento, Province of Trento, Italy\",101,0,40,https://sklivvz.com\r\n",
            "7,\"<p><a href=\"\"http://blog.stackoverflow.com/2013/09/summer-hiring-happened-so-fast/\"\">I'm</a> a Web Developer on the Stack Overflow Q&A Core <a href=\"\"http://stackexchange.com/about/team\"\">team</a>. You can email me via sprelog (at) stackoverflow.com</p><br/>\",51875,2015-10-27T07:03:55.417,m0sa,0,2023-01-24T10:24:53.517,Slovenia,101,0,51,\r\n",
            "8,\"<p>My top interests here are:</p><br/><br/><ul><br/><li>Python</li><br/><li>Django</li><br/><li>Software security</li><br/></ul><br/><br/><p>In the past, I used <code>python</code> and <code>django</code> to develop a payment solution at <a href=\"\"https://www.my-bee.fr/pro/\"\" rel=\"\"nofollow noreferrer\"\">MyBee</a> - I'm glad they're still going strong today! I also worked at <a href=\"\"http://scalr.com/\"\" rel=\"\"nofollow noreferrer\"\">Scalr</a> as a Product Manager, and at <a href=\"\"http://www.accenture.com/\"\" rel=\"\"nofollow noreferrer\"\">Accenture</a> as a consultant on business / IT projects. Today, I'm Lead Backend Engineer at <a href=\"\"https://aptible.com\"\" rel=\"\"nofollow noreferrer\"\">Aptible</a>.</p><br/><br/><p>Personal email: <code>thomas@orozco.fr</code></p><br/>\",467632,2015-10-27T08:25:59.317,Thomas Orozco,0,2017-03-14T23:25:52.540,\"Paris, France\",101,0,27,\r\n"
          ]
        }
      ],
      "source": [
        "!head Users.csv"
      ]
    },
    {
      "cell_type": "markdown",
      "id": "e5b1b418",
      "metadata": {
        "id": "e5b1b418"
      },
      "source": [
        "## Instalación de la librería `pymongo`"
      ]
    },
    {
      "cell_type": "code",
      "execution_count": 7,
      "id": "5731f742",
      "metadata": {
        "id": "5731f742",
        "outputId": "9ecf2a80-88cd-4f58-8838-404669f404d3",
        "colab": {
          "base_uri": "https://localhost:8080/"
        }
      },
      "outputs": [
        {
          "output_type": "stream",
          "name": "stdout",
          "text": [
            "Collecting pymongo\n",
            "  Downloading pymongo-4.11.1-cp311-cp311-manylinux_2_17_x86_64.manylinux2014_x86_64.whl.metadata (22 kB)\n",
            "Requirement already satisfied: pandas in /usr/local/lib/python3.11/dist-packages (2.2.2)\n",
            "Requirement already satisfied: matplotlib in /usr/local/lib/python3.11/dist-packages (3.10.0)\n",
            "Requirement already satisfied: tqdm[notebook] in /usr/local/lib/python3.11/dist-packages (4.67.1)\n",
            "Requirement already satisfied: dnspython<3.0.0,>=1.16.0 in /usr/local/lib/python3.11/dist-packages (from pymongo) (2.7.0)\n",
            "Requirement already satisfied: numpy>=1.23.2 in /usr/local/lib/python3.11/dist-packages (from pandas) (1.26.4)\n",
            "Requirement already satisfied: python-dateutil>=2.8.2 in /usr/local/lib/python3.11/dist-packages (from pandas) (2.8.2)\n",
            "Requirement already satisfied: pytz>=2020.1 in /usr/local/lib/python3.11/dist-packages (from pandas) (2025.1)\n",
            "Requirement already satisfied: tzdata>=2022.7 in /usr/local/lib/python3.11/dist-packages (from pandas) (2025.1)\n",
            "Requirement already satisfied: contourpy>=1.0.1 in /usr/local/lib/python3.11/dist-packages (from matplotlib) (1.3.1)\n",
            "Requirement already satisfied: cycler>=0.10 in /usr/local/lib/python3.11/dist-packages (from matplotlib) (0.12.1)\n",
            "Requirement already satisfied: fonttools>=4.22.0 in /usr/local/lib/python3.11/dist-packages (from matplotlib) (4.56.0)\n",
            "Requirement already satisfied: kiwisolver>=1.3.1 in /usr/local/lib/python3.11/dist-packages (from matplotlib) (1.4.8)\n",
            "Requirement already satisfied: packaging>=20.0 in /usr/local/lib/python3.11/dist-packages (from matplotlib) (24.2)\n",
            "Requirement already satisfied: pillow>=8 in /usr/local/lib/python3.11/dist-packages (from matplotlib) (11.1.0)\n",
            "Requirement already satisfied: pyparsing>=2.3.1 in /usr/local/lib/python3.11/dist-packages (from matplotlib) (3.2.1)\n",
            "Requirement already satisfied: ipywidgets>=6 in /usr/local/lib/python3.11/dist-packages (from tqdm[notebook]) (7.7.1)\n",
            "Requirement already satisfied: ipykernel>=4.5.1 in /usr/local/lib/python3.11/dist-packages (from ipywidgets>=6->tqdm[notebook]) (6.17.1)\n",
            "Requirement already satisfied: ipython-genutils~=0.2.0 in /usr/local/lib/python3.11/dist-packages (from ipywidgets>=6->tqdm[notebook]) (0.2.0)\n",
            "Requirement already satisfied: traitlets>=4.3.1 in /usr/local/lib/python3.11/dist-packages (from ipywidgets>=6->tqdm[notebook]) (5.7.1)\n",
            "Requirement already satisfied: widgetsnbextension~=3.6.0 in /usr/local/lib/python3.11/dist-packages (from ipywidgets>=6->tqdm[notebook]) (3.6.10)\n",
            "Requirement already satisfied: ipython>=4.0.0 in /usr/local/lib/python3.11/dist-packages (from ipywidgets>=6->tqdm[notebook]) (7.34.0)\n",
            "Requirement already satisfied: jupyterlab-widgets>=1.0.0 in /usr/local/lib/python3.11/dist-packages (from ipywidgets>=6->tqdm[notebook]) (3.0.13)\n",
            "Requirement already satisfied: six>=1.5 in /usr/local/lib/python3.11/dist-packages (from python-dateutil>=2.8.2->pandas) (1.17.0)\n",
            "Requirement already satisfied: debugpy>=1.0 in /usr/local/lib/python3.11/dist-packages (from ipykernel>=4.5.1->ipywidgets>=6->tqdm[notebook]) (1.8.0)\n",
            "Requirement already satisfied: jupyter-client>=6.1.12 in /usr/local/lib/python3.11/dist-packages (from ipykernel>=4.5.1->ipywidgets>=6->tqdm[notebook]) (6.1.12)\n",
            "Requirement already satisfied: matplotlib-inline>=0.1 in /usr/local/lib/python3.11/dist-packages (from ipykernel>=4.5.1->ipywidgets>=6->tqdm[notebook]) (0.1.7)\n",
            "Requirement already satisfied: nest-asyncio in /usr/local/lib/python3.11/dist-packages (from ipykernel>=4.5.1->ipywidgets>=6->tqdm[notebook]) (1.6.0)\n",
            "Requirement already satisfied: psutil in /usr/local/lib/python3.11/dist-packages (from ipykernel>=4.5.1->ipywidgets>=6->tqdm[notebook]) (5.9.5)\n",
            "Requirement already satisfied: pyzmq>=17 in /usr/local/lib/python3.11/dist-packages (from ipykernel>=4.5.1->ipywidgets>=6->tqdm[notebook]) (24.0.1)\n",
            "Requirement already satisfied: tornado>=6.1 in /usr/local/lib/python3.11/dist-packages (from ipykernel>=4.5.1->ipywidgets>=6->tqdm[notebook]) (6.4.2)\n",
            "Requirement already satisfied: setuptools>=18.5 in /usr/local/lib/python3.11/dist-packages (from ipython>=4.0.0->ipywidgets>=6->tqdm[notebook]) (75.1.0)\n",
            "Collecting jedi>=0.16 (from ipython>=4.0.0->ipywidgets>=6->tqdm[notebook])\n",
            "  Downloading jedi-0.19.2-py2.py3-none-any.whl.metadata (22 kB)\n",
            "Requirement already satisfied: decorator in /usr/local/lib/python3.11/dist-packages (from ipython>=4.0.0->ipywidgets>=6->tqdm[notebook]) (4.4.2)\n",
            "Requirement already satisfied: pickleshare in /usr/local/lib/python3.11/dist-packages (from ipython>=4.0.0->ipywidgets>=6->tqdm[notebook]) (0.7.5)\n",
            "Requirement already satisfied: prompt-toolkit!=3.0.0,!=3.0.1,<3.1.0,>=2.0.0 in /usr/local/lib/python3.11/dist-packages (from ipython>=4.0.0->ipywidgets>=6->tqdm[notebook]) (3.0.50)\n",
            "Requirement already satisfied: pygments in /usr/local/lib/python3.11/dist-packages (from ipython>=4.0.0->ipywidgets>=6->tqdm[notebook]) (2.18.0)\n",
            "Requirement already satisfied: backcall in /usr/local/lib/python3.11/dist-packages (from ipython>=4.0.0->ipywidgets>=6->tqdm[notebook]) (0.2.0)\n",
            "Requirement already satisfied: pexpect>4.3 in /usr/local/lib/python3.11/dist-packages (from ipython>=4.0.0->ipywidgets>=6->tqdm[notebook]) (4.9.0)\n",
            "Requirement already satisfied: notebook>=4.4.1 in /usr/local/lib/python3.11/dist-packages (from widgetsnbextension~=3.6.0->ipywidgets>=6->tqdm[notebook]) (6.5.5)\n",
            "Requirement already satisfied: parso<0.9.0,>=0.8.4 in /usr/local/lib/python3.11/dist-packages (from jedi>=0.16->ipython>=4.0.0->ipywidgets>=6->tqdm[notebook]) (0.8.4)\n",
            "Requirement already satisfied: jupyter-core>=4.6.0 in /usr/local/lib/python3.11/dist-packages (from jupyter-client>=6.1.12->ipykernel>=4.5.1->ipywidgets>=6->tqdm[notebook]) (5.7.2)\n",
            "Requirement already satisfied: jinja2 in /usr/local/lib/python3.11/dist-packages (from notebook>=4.4.1->widgetsnbextension~=3.6.0->ipywidgets>=6->tqdm[notebook]) (3.1.5)\n",
            "Requirement already satisfied: argon2-cffi in /usr/local/lib/python3.11/dist-packages (from notebook>=4.4.1->widgetsnbextension~=3.6.0->ipywidgets>=6->tqdm[notebook]) (23.1.0)\n",
            "Requirement already satisfied: nbformat in /usr/local/lib/python3.11/dist-packages (from notebook>=4.4.1->widgetsnbextension~=3.6.0->ipywidgets>=6->tqdm[notebook]) (5.10.4)\n",
            "Requirement already satisfied: nbconvert>=5 in /usr/local/lib/python3.11/dist-packages (from notebook>=4.4.1->widgetsnbextension~=3.6.0->ipywidgets>=6->tqdm[notebook]) (7.16.6)\n",
            "Requirement already satisfied: Send2Trash>=1.8.0 in /usr/local/lib/python3.11/dist-packages (from notebook>=4.4.1->widgetsnbextension~=3.6.0->ipywidgets>=6->tqdm[notebook]) (1.8.3)\n",
            "Requirement already satisfied: terminado>=0.8.3 in /usr/local/lib/python3.11/dist-packages (from notebook>=4.4.1->widgetsnbextension~=3.6.0->ipywidgets>=6->tqdm[notebook]) (0.18.1)\n",
            "Requirement already satisfied: prometheus-client in /usr/local/lib/python3.11/dist-packages (from notebook>=4.4.1->widgetsnbextension~=3.6.0->ipywidgets>=6->tqdm[notebook]) (0.21.1)\n",
            "Requirement already satisfied: nbclassic>=0.4.7 in /usr/local/lib/python3.11/dist-packages (from notebook>=4.4.1->widgetsnbextension~=3.6.0->ipywidgets>=6->tqdm[notebook]) (1.2.0)\n",
            "Requirement already satisfied: ptyprocess>=0.5 in /usr/local/lib/python3.11/dist-packages (from pexpect>4.3->ipython>=4.0.0->ipywidgets>=6->tqdm[notebook]) (0.7.0)\n",
            "Requirement already satisfied: wcwidth in /usr/local/lib/python3.11/dist-packages (from prompt-toolkit!=3.0.0,!=3.0.1,<3.1.0,>=2.0.0->ipython>=4.0.0->ipywidgets>=6->tqdm[notebook]) (0.2.13)\n",
            "Requirement already satisfied: platformdirs>=2.5 in /usr/local/lib/python3.11/dist-packages (from jupyter-core>=4.6.0->jupyter-client>=6.1.12->ipykernel>=4.5.1->ipywidgets>=6->tqdm[notebook]) (4.3.6)\n",
            "Requirement already satisfied: notebook-shim>=0.2.3 in /usr/local/lib/python3.11/dist-packages (from nbclassic>=0.4.7->notebook>=4.4.1->widgetsnbextension~=3.6.0->ipywidgets>=6->tqdm[notebook]) (0.2.4)\n",
            "Requirement already satisfied: beautifulsoup4 in /usr/local/lib/python3.11/dist-packages (from nbconvert>=5->notebook>=4.4.1->widgetsnbextension~=3.6.0->ipywidgets>=6->tqdm[notebook]) (4.13.3)\n",
            "Requirement already satisfied: bleach!=5.0.0 in /usr/local/lib/python3.11/dist-packages (from bleach[css]!=5.0.0->nbconvert>=5->notebook>=4.4.1->widgetsnbextension~=3.6.0->ipywidgets>=6->tqdm[notebook]) (6.2.0)\n",
            "Requirement already satisfied: defusedxml in /usr/local/lib/python3.11/dist-packages (from nbconvert>=5->notebook>=4.4.1->widgetsnbextension~=3.6.0->ipywidgets>=6->tqdm[notebook]) (0.7.1)\n",
            "Requirement already satisfied: jupyterlab-pygments in /usr/local/lib/python3.11/dist-packages (from nbconvert>=5->notebook>=4.4.1->widgetsnbextension~=3.6.0->ipywidgets>=6->tqdm[notebook]) (0.3.0)\n",
            "Requirement already satisfied: markupsafe>=2.0 in /usr/local/lib/python3.11/dist-packages (from nbconvert>=5->notebook>=4.4.1->widgetsnbextension~=3.6.0->ipywidgets>=6->tqdm[notebook]) (3.0.2)\n",
            "Requirement already satisfied: mistune<4,>=2.0.3 in /usr/local/lib/python3.11/dist-packages (from nbconvert>=5->notebook>=4.4.1->widgetsnbextension~=3.6.0->ipywidgets>=6->tqdm[notebook]) (3.1.1)\n",
            "Requirement already satisfied: nbclient>=0.5.0 in /usr/local/lib/python3.11/dist-packages (from nbconvert>=5->notebook>=4.4.1->widgetsnbextension~=3.6.0->ipywidgets>=6->tqdm[notebook]) (0.10.2)\n",
            "Requirement already satisfied: pandocfilters>=1.4.1 in /usr/local/lib/python3.11/dist-packages (from nbconvert>=5->notebook>=4.4.1->widgetsnbextension~=3.6.0->ipywidgets>=6->tqdm[notebook]) (1.5.1)\n",
            "Requirement already satisfied: fastjsonschema>=2.15 in /usr/local/lib/python3.11/dist-packages (from nbformat->notebook>=4.4.1->widgetsnbextension~=3.6.0->ipywidgets>=6->tqdm[notebook]) (2.21.1)\n",
            "Requirement already satisfied: jsonschema>=2.6 in /usr/local/lib/python3.11/dist-packages (from nbformat->notebook>=4.4.1->widgetsnbextension~=3.6.0->ipywidgets>=6->tqdm[notebook]) (4.23.0)\n",
            "Requirement already satisfied: argon2-cffi-bindings in /usr/local/lib/python3.11/dist-packages (from argon2-cffi->notebook>=4.4.1->widgetsnbextension~=3.6.0->ipywidgets>=6->tqdm[notebook]) (21.2.0)\n",
            "Requirement already satisfied: webencodings in /usr/local/lib/python3.11/dist-packages (from bleach!=5.0.0->bleach[css]!=5.0.0->nbconvert>=5->notebook>=4.4.1->widgetsnbextension~=3.6.0->ipywidgets>=6->tqdm[notebook]) (0.5.1)\n",
            "Requirement already satisfied: tinycss2<1.5,>=1.1.0 in /usr/local/lib/python3.11/dist-packages (from bleach[css]!=5.0.0->nbconvert>=5->notebook>=4.4.1->widgetsnbextension~=3.6.0->ipywidgets>=6->tqdm[notebook]) (1.4.0)\n",
            "Requirement already satisfied: attrs>=22.2.0 in /usr/local/lib/python3.11/dist-packages (from jsonschema>=2.6->nbformat->notebook>=4.4.1->widgetsnbextension~=3.6.0->ipywidgets>=6->tqdm[notebook]) (25.1.0)\n",
            "Requirement already satisfied: jsonschema-specifications>=2023.03.6 in /usr/local/lib/python3.11/dist-packages (from jsonschema>=2.6->nbformat->notebook>=4.4.1->widgetsnbextension~=3.6.0->ipywidgets>=6->tqdm[notebook]) (2024.10.1)\n",
            "Requirement already satisfied: referencing>=0.28.4 in /usr/local/lib/python3.11/dist-packages (from jsonschema>=2.6->nbformat->notebook>=4.4.1->widgetsnbextension~=3.6.0->ipywidgets>=6->tqdm[notebook]) (0.36.2)\n",
            "Requirement already satisfied: rpds-py>=0.7.1 in /usr/local/lib/python3.11/dist-packages (from jsonschema>=2.6->nbformat->notebook>=4.4.1->widgetsnbextension~=3.6.0->ipywidgets>=6->tqdm[notebook]) (0.22.3)\n",
            "Requirement already satisfied: jupyter-server<3,>=1.8 in /usr/local/lib/python3.11/dist-packages (from notebook-shim>=0.2.3->nbclassic>=0.4.7->notebook>=4.4.1->widgetsnbextension~=3.6.0->ipywidgets>=6->tqdm[notebook]) (1.24.0)\n",
            "Requirement already satisfied: cffi>=1.0.1 in /usr/local/lib/python3.11/dist-packages (from argon2-cffi-bindings->argon2-cffi->notebook>=4.4.1->widgetsnbextension~=3.6.0->ipywidgets>=6->tqdm[notebook]) (1.17.1)\n",
            "Requirement already satisfied: soupsieve>1.2 in /usr/local/lib/python3.11/dist-packages (from beautifulsoup4->nbconvert>=5->notebook>=4.4.1->widgetsnbextension~=3.6.0->ipywidgets>=6->tqdm[notebook]) (2.6)\n",
            "Requirement already satisfied: typing-extensions>=4.0.0 in /usr/local/lib/python3.11/dist-packages (from beautifulsoup4->nbconvert>=5->notebook>=4.4.1->widgetsnbextension~=3.6.0->ipywidgets>=6->tqdm[notebook]) (4.12.2)\n",
            "Requirement already satisfied: pycparser in /usr/local/lib/python3.11/dist-packages (from cffi>=1.0.1->argon2-cffi-bindings->argon2-cffi->notebook>=4.4.1->widgetsnbextension~=3.6.0->ipywidgets>=6->tqdm[notebook]) (2.22)\n",
            "Requirement already satisfied: anyio<4,>=3.1.0 in /usr/local/lib/python3.11/dist-packages (from jupyter-server<3,>=1.8->notebook-shim>=0.2.3->nbclassic>=0.4.7->notebook>=4.4.1->widgetsnbextension~=3.6.0->ipywidgets>=6->tqdm[notebook]) (3.7.1)\n",
            "Requirement already satisfied: websocket-client in /usr/local/lib/python3.11/dist-packages (from jupyter-server<3,>=1.8->notebook-shim>=0.2.3->nbclassic>=0.4.7->notebook>=4.4.1->widgetsnbextension~=3.6.0->ipywidgets>=6->tqdm[notebook]) (1.8.0)\n",
            "Requirement already satisfied: idna>=2.8 in /usr/local/lib/python3.11/dist-packages (from anyio<4,>=3.1.0->jupyter-server<3,>=1.8->notebook-shim>=0.2.3->nbclassic>=0.4.7->notebook>=4.4.1->widgetsnbextension~=3.6.0->ipywidgets>=6->tqdm[notebook]) (3.10)\n",
            "Requirement already satisfied: sniffio>=1.1 in /usr/local/lib/python3.11/dist-packages (from anyio<4,>=3.1.0->jupyter-server<3,>=1.8->notebook-shim>=0.2.3->nbclassic>=0.4.7->notebook>=4.4.1->widgetsnbextension~=3.6.0->ipywidgets>=6->tqdm[notebook]) (1.3.1)\n",
            "Downloading pymongo-4.11.1-cp311-cp311-manylinux_2_17_x86_64.manylinux2014_x86_64.whl (1.4 MB)\n",
            "\u001b[2K   \u001b[90m━━━━━━━━━━━━━━━━━━━━━━━━━━━━━━━━━━━━━━━━\u001b[0m \u001b[32m1.4/1.4 MB\u001b[0m \u001b[31m18.3 MB/s\u001b[0m eta \u001b[36m0:00:00\u001b[0m\n",
            "\u001b[?25hDownloading jedi-0.19.2-py2.py3-none-any.whl (1.6 MB)\n",
            "\u001b[2K   \u001b[90m━━━━━━━━━━━━━━━━━━━━━━━━━━━━━━━━━━━━━━━━\u001b[0m \u001b[32m1.6/1.6 MB\u001b[0m \u001b[31m61.8 MB/s\u001b[0m eta \u001b[36m0:00:00\u001b[0m\n",
            "\u001b[?25hInstalling collected packages: pymongo, jedi\n",
            "Successfully installed jedi-0.19.2 pymongo-4.11.1\n"
          ]
        }
      ],
      "source": [
        "%pip install pymongo pandas matplotlib tqdm[notebook]"
      ]
    },
    {
      "cell_type": "code",
      "execution_count": 8,
      "id": "79849b71",
      "metadata": {
        "id": "79849b71"
      },
      "outputs": [],
      "source": [
        "from pprint import pprint as pp\n",
        "import pandas as pd\n",
        "import matplotlib.pyplot as plt\n",
        "import matplotlib\n",
        "\n",
        "%matplotlib inline\n",
        "matplotlib.style.use('ggplot')"
      ]
    },
    {
      "cell_type": "markdown",
      "id": "fa0c5a14",
      "metadata": {
        "id": "fa0c5a14"
      },
      "source": [
        "Usaremos la librería `pymongo` para python. La cargamos a continuación."
      ]
    },
    {
      "cell_type": "code",
      "execution_count": 9,
      "id": "952e992a",
      "metadata": {
        "id": "952e992a"
      },
      "outputs": [],
      "source": [
        "from pymongo import MongoClient"
      ]
    },
    {
      "cell_type": "markdown",
      "id": "fa73507b",
      "metadata": {
        "id": "fa73507b"
      },
      "source": [
        "## Conexión a la base de datos"
      ]
    },
    {
      "cell_type": "markdown",
      "id": "bedfd3b2",
      "metadata": {
        "id": "bedfd3b2"
      },
      "source": [
        "La conexión se inicia con `MongoClient` en el `host` descrito en el fichero `docker-compose.yml` (`mongo`), o bien a `localhost` si lo estamos haciendo en Colab."
      ]
    },
    {
      "cell_type": "code",
      "execution_count": 10,
      "id": "c202a680",
      "metadata": {
        "id": "c202a680"
      },
      "outputs": [],
      "source": [
        "import os\n",
        "db_hostname: str = \"localhost\" if RunningInCOLAB else os.getenv('DB_HOSTNAME', \"mongo\")"
      ]
    },
    {
      "cell_type": "markdown",
      "id": "b1ffca07",
      "metadata": {
        "id": "b1ffca07"
      },
      "source": [
        "Nótese cómo especificamos que los documentos que usaremos en la base de datos son de tipo `dict[str, Any]`. Este es el tipo genérico de los documentos, y nos permite tener cierto grado de tipado en los documentos. Existen otras formas de generar tipos más específicos, pero no las veremos por ahora."
      ]
    },
    {
      "cell_type": "code",
      "execution_count": 12,
      "id": "1bd4550a",
      "metadata": {
        "id": "1bd4550a",
        "outputId": "4469715a-ea96-449a-a1a2-ef90a0a3dc5a",
        "colab": {
          "base_uri": "https://localhost:8080/"
        }
      },
      "outputs": [
        {
          "output_type": "execute_result",
          "data": {
            "text/plain": [
              "MongoClient(host=['localhost:27017'], document_class=dict, tz_aware=False, connect=True)"
            ]
          },
          "metadata": {},
          "execution_count": 12
        }
      ],
      "source": [
        "from typing import Any\n",
        "\n",
        "client: MongoClient[dict[str, Any]] = MongoClient(db_hostname,27017)\n",
        "client"
      ]
    },
    {
      "cell_type": "code",
      "execution_count": 13,
      "id": "f59c46d3",
      "metadata": {
        "id": "f59c46d3",
        "outputId": "753873e3-70b5-4c2a-b479-54506acfbff9",
        "colab": {
          "base_uri": "https://localhost:8080/"
        }
      },
      "outputs": [
        {
          "output_type": "execute_result",
          "data": {
            "text/plain": [
              "['admin', 'config', 'local']"
            ]
          },
          "metadata": {},
          "execution_count": 13
        }
      ],
      "source": [
        "client.list_database_names()"
      ]
    },
    {
      "cell_type": "markdown",
      "id": "e9535f43",
      "metadata": {
        "id": "e9535f43"
      },
      "source": [
        "Las bases de datos se crean conforme se nombran. Se puede utilizar la notación punto o la de diccionario. Las colecciones también."
      ]
    },
    {
      "cell_type": "code",
      "execution_count": 14,
      "id": "3dedb5e9",
      "metadata": {
        "id": "3dedb5e9",
        "outputId": "bf22725f-be50-42b6-d098-e2b5ff141d60",
        "colab": {
          "base_uri": "https://localhost:8080/"
        }
      },
      "outputs": [
        {
          "output_type": "execute_result",
          "data": {
            "text/plain": [
              "Database(MongoClient(host=['localhost:27017'], document_class=dict, tz_aware=False, connect=True), 'stackoverflow')"
            ]
          },
          "metadata": {},
          "execution_count": 14
        }
      ],
      "source": [
        "from pymongo.database import Database\n",
        "\n",
        "db: Database = client.stackoverflow\n",
        "# db: Database = client['stackoverflow'] # (equivalente)\n",
        "db"
      ]
    },
    {
      "cell_type": "markdown",
      "id": "40d8d0ae",
      "metadata": {
        "id": "40d8d0ae"
      },
      "source": [
        "## Colecciones en MongoDB\n",
        "\n",
        "Las bases de datos están compuestas por un conjunto de **colecciones**. Cada colección aglutina a un conjunto de objetos (documentos) del mismo tipo, aunque como vimos en teoría, cada documento puede tener un conjunto de atributos diferente."
      ]
    },
    {
      "cell_type": "markdown",
      "id": "bf406245",
      "metadata": {
        "id": "bf406245"
      },
      "source": [
        "Las colecciones en Mongo pueden cambiarse de nombre con la función `.rename`.\n",
        "\n",
        "Vamos a crear una colección ficticia llamada *colleccion* para posteriormente renombrarla como *startwars*.\n",
        "\n",
        "Al establecer el parámetro `dropTarget`a `True` forzamos a que, si ya existía una colección `starwars` sus datos se  sobreescriben por la nueva colección renombrada."
      ]
    },
    {
      "cell_type": "code",
      "execution_count": 15,
      "id": "39652419",
      "metadata": {
        "id": "39652419",
        "outputId": "1856306b-025d-45dc-e0f9-1d50195f0f04",
        "colab": {
          "base_uri": "https://localhost:8080/"
        }
      },
      "outputs": [
        {
          "output_type": "stream",
          "name": "stdout",
          "text": [
            "['admin', 'config', 'local', 'stackoverflow']\n",
            "['starwars']\n"
          ]
        }
      ],
      "source": [
        "from pymongo.collection import Collection\n",
        "\n",
        "# creamos la colección\n",
        "collection: Collection = db['coleccion']\n",
        "docs: list[dict] = [{\"id\":1, \"nombre\": \"Luke\"},\n",
        "        {\"id\":3, \"nombre\": \"Leia\"}]\n",
        "collection.insert_many(docs)\n",
        "\n",
        "# Ahora la renombramos\n",
        "collection.rename('starwars', dropTarget=True)\n",
        "\n",
        "pp(client.list_database_names())\n",
        "pp(db.list_collection_names())"
      ]
    },
    {
      "cell_type": "markdown",
      "id": "155ec593",
      "metadata": {
        "id": "155ec593"
      },
      "source": [
        "Ahora vemos que se ha creado una nueva BD `stackoverflow` en Mongo."
      ]
    },
    {
      "cell_type": "code",
      "execution_count": 16,
      "id": "6a314cf5",
      "metadata": {
        "id": "6a314cf5",
        "outputId": "7a413620-dfb1-489e-b5f2-49db348b2790",
        "colab": {
          "base_uri": "https://localhost:8080/"
        }
      },
      "outputs": [
        {
          "output_type": "execute_result",
          "data": {
            "text/plain": [
              "['admin', 'config', 'local', 'stackoverflow']"
            ]
          },
          "metadata": {},
          "execution_count": 16
        }
      ],
      "source": [
        "client.list_database_names()"
      ]
    },
    {
      "cell_type": "markdown",
      "id": "a6b5ee22",
      "metadata": {
        "id": "a6b5ee22"
      },
      "source": [
        "## Importación de los ficheros CSV\n",
        "\n",
        "Procedemos a importar los ficheros CVS descargados. Por ahora creamos una colección diferente para cada uno. Después estudiaremos cómo poder optimizar el acceso usando agregación."
      ]
    },
    {
      "cell_type": "code",
      "execution_count": 17,
      "id": "24f4fd49",
      "metadata": {
        "id": "24f4fd49"
      },
      "outputs": [],
      "source": [
        "import csv\n",
        "import sys\n",
        "from pymongo.collection import Collection\n",
        "from datetime import datetime\n",
        "from typing import Any\n",
        "from collections.abc import Callable, Iterable, Iterator\n",
        "from tqdm.notebook import tqdm\n",
        "\n",
        "def batched(iterable: Iterable, n) -> Iterable:\n",
        "    from itertools import islice\n",
        "    if n < 1:\n",
        "        raise ValueError('n must be at least one')\n",
        "    it: Iterator = iter(iterable)\n",
        "    while batch := tuple(islice(it, n)):\n",
        "        yield batch\n",
        "\n",
        "db_type = str | datetime | float | int | None\n",
        "\n",
        "def csv_to_mongo(file: str, coll: Collection) -> None:\n",
        "    \"\"\"\n",
        "    Carga un fichero CSV en Mongo. file especifica el fichero, coll la colección\n",
        "    dentro de la base de datos, y date_cols las columnas que serán interpretadas\n",
        "    como fechas.\n",
        "    \"\"\"\n",
        "    # Convertir todos los elementos que se puedan a números\n",
        "    def to_numeric(d: str) -> str| int | float:\n",
        "        if len(d) == 0:\n",
        "            return ''\n",
        "        if not ((d[0] >= '0' and d[0] <= '9') or d[0] == '-' or d[0] == '+' or d[0]=='.'):\n",
        "            return d\n",
        "        try:\n",
        "            return int(d) if abs(int(d)) <= sys.maxsize else d # Ensure number is inside MongoDB max number range\n",
        "        except ValueError:\n",
        "            try:\n",
        "                return float(d)\n",
        "            except ValueError:\n",
        "                return d\n",
        "\n",
        "    def to_date(d: str) -> datetime | None:\n",
        "        \"\"\"To ISO Date. If this cannot be converted, return NULL (None)\"\"\"\n",
        "        try:\n",
        "            return datetime.strptime(d, \"%Y-%m-%dT%H:%M:%S.%f\")\n",
        "        except ValueError:\n",
        "            return None\n",
        "\n",
        "    coll.drop()\n",
        "\n",
        "    with open(file, encoding='utf-8') as f:\n",
        "        # La llamada csv.reader() crea un iterador sobre un fichero CSV\n",
        "        reader = csv.reader(f, dialect='excel')\n",
        "\n",
        "        # Se leen las columnas. Sus nombres se usarán para crear las diferentes columnas en la familia\n",
        "        columns: list[str] = next(reader)\n",
        "\n",
        "        # Las columnas que contienen 'Date' se interpretan como fechas\n",
        "        func_to_cols: list[Callable[[str], Any]] = list(map(lambda c: to_date if 'date' in c.lower() else to_numeric, columns))\n",
        "\n",
        "        for batch in batched(tqdm(reader, desc='Leyendo e insertando filas...'), 10000):\n",
        "            docs: list[dict[str, db_type]] = []\n",
        "            for row in batch:\n",
        "                built_row: list[db_type] = [func(e) for (func,e) in zip(func_to_cols, row)]\n",
        "                docs.append(dict(zip(columns, built_row)))\n",
        "            coll.insert_many(docs)\n",
        "\n",
        "        print(\"¡Hecho!\")"
      ]
    },
    {
      "cell_type": "code",
      "execution_count": 18,
      "id": "e38f5610",
      "metadata": {
        "id": "e38f5610",
        "outputId": "545eb324-8531-4a72-faea-a916a7ee0a49",
        "colab": {
          "base_uri": "https://localhost:8080/",
          "height": 66,
          "referenced_widgets": [
            "ff60a055fdeb4d8fbf2b91a369cf5a54",
            "207e570455ee49649fb401db659f7a88",
            "41fb4d8f0b4549ffa6f741503d7e8292",
            "58887dc776a4419aaf64fa60fc1327f9",
            "754fe82c0d044f6b93a57305b6edaf50",
            "5b4800027c9d4426af627ac781b848fb",
            "61595819ea884178a60dbc9a17e71688",
            "6a3bbb51eda14fba8acfbb63a53e9b9d",
            "11d1fa48f8f643c19d3e012eb04128e0",
            "68838065c0da4795bb4b0597a3278002",
            "a642270f023d4ee893e2d0b615ffd40e"
          ]
        }
      },
      "outputs": [
        {
          "output_type": "display_data",
          "data": {
            "text/plain": [
              "Leyendo e insertando filas...: 0it [00:00, ?it/s]"
            ],
            "application/vnd.jupyter.widget-view+json": {
              "version_major": 2,
              "version_minor": 0,
              "model_id": "ff60a055fdeb4d8fbf2b91a369cf5a54"
            }
          },
          "metadata": {}
        },
        {
          "output_type": "stream",
          "name": "stdout",
          "text": [
            "¡Hecho!\n"
          ]
        }
      ],
      "source": [
        "csv_to_mongo('Posts.csv',db.posts)"
      ]
    },
    {
      "cell_type": "code",
      "execution_count": 19,
      "id": "144601e1",
      "metadata": {
        "id": "144601e1",
        "outputId": "8ab49a72-8aab-4b2f-e63b-cdcf2915413b",
        "colab": {
          "base_uri": "https://localhost:8080/",
          "height": 66,
          "referenced_widgets": [
            "00a237b3af794c35a9a7644062728486",
            "0d778b95f4d1485e8b351897299e9865",
            "b7d7624097dd4c67892a2dd271005658",
            "27e51b51086144fbbc1ec21bcef8c401",
            "1071f5bcd2f5409186af344887aa4c0f",
            "0a8d8576e4764b449525341234883630",
            "82dfc00bca29456c9fb005215aa74bc8",
            "27b434d902be41839e286747e8be3b29",
            "75d05cfd2c924424bd23472fd34ca0e0",
            "406b0501cbca4aa495e89c1465f2d6aa",
            "85eb10ebad5e41b4bc2e937b22243823"
          ]
        }
      },
      "outputs": [
        {
          "output_type": "display_data",
          "data": {
            "text/plain": [
              "Leyendo e insertando filas...: 0it [00:00, ?it/s]"
            ],
            "application/vnd.jupyter.widget-view+json": {
              "version_major": 2,
              "version_minor": 0,
              "model_id": "00a237b3af794c35a9a7644062728486"
            }
          },
          "metadata": {}
        },
        {
          "output_type": "stream",
          "name": "stdout",
          "text": [
            "¡Hecho!\n"
          ]
        }
      ],
      "source": [
        "csv_to_mongo('Users.csv',db.users)"
      ]
    },
    {
      "cell_type": "code",
      "execution_count": 20,
      "id": "bc78c4ed",
      "metadata": {
        "id": "bc78c4ed",
        "outputId": "313c2af2-5130-4923-fb09-d259396492ce",
        "colab": {
          "base_uri": "https://localhost:8080/",
          "height": 66,
          "referenced_widgets": [
            "fabbd33757ed40c99cf6f73627d74b58",
            "b4492d32194a4e00996e4967fa5150d0",
            "23d278322ce14d2289404734ac36e08a",
            "b4a9b269a2b8434f9c04d060f1243cfe",
            "09cf6218ac11434fbe854cbd2609a69f",
            "1c2d46c94f8949849fca09e9c4bb902b",
            "55355e8d233f41fbbe57c0f05b1f0c76",
            "d7eea4a3b3e343329879ad4084cbd958",
            "c486379a14c9495384141e10b199cea8",
            "893c466e02b0442585cca9df060d4000",
            "e610e4eec03f4e95a6f7838666215bd8"
          ]
        }
      },
      "outputs": [
        {
          "output_type": "display_data",
          "data": {
            "text/plain": [
              "Leyendo e insertando filas...: 0it [00:00, ?it/s]"
            ],
            "application/vnd.jupyter.widget-view+json": {
              "version_major": 2,
              "version_minor": 0,
              "model_id": "fabbd33757ed40c99cf6f73627d74b58"
            }
          },
          "metadata": {}
        },
        {
          "output_type": "stream",
          "name": "stdout",
          "text": [
            "¡Hecho!\n"
          ]
        }
      ],
      "source": [
        "csv_to_mongo('Votes.csv',db.votes)"
      ]
    },
    {
      "cell_type": "code",
      "execution_count": 21,
      "id": "11fc99b6",
      "metadata": {
        "id": "11fc99b6",
        "outputId": "37afba2b-6f6c-4cf3-eab8-a7586f74575c",
        "colab": {
          "base_uri": "https://localhost:8080/",
          "height": 66,
          "referenced_widgets": [
            "ec84b2643b6d4138a9f369acdecb8892",
            "d1d5db625fef400a8ccd419e6d31fc43",
            "711882d4157c42858545e367657ba192",
            "6036ba5c214d4428a472fb4cfbc85455",
            "a197838ff0254f319eb194018c42cb29",
            "73dec8e482ae41839e964ed8beac3137",
            "996524874676443b89ce3a5cfeed8eab",
            "fbc5355367f6415a8119de9977154a75",
            "a7c7c9fca662431fa8e4540eb32ac3fe",
            "20020244893249df85a0e7b20ec86e97",
            "4a23fd6b51f8439e8daa5eaf26c42ca9"
          ]
        }
      },
      "outputs": [
        {
          "output_type": "display_data",
          "data": {
            "text/plain": [
              "Leyendo e insertando filas...: 0it [00:00, ?it/s]"
            ],
            "application/vnd.jupyter.widget-view+json": {
              "version_major": 2,
              "version_minor": 0,
              "model_id": "ec84b2643b6d4138a9f369acdecb8892"
            }
          },
          "metadata": {}
        },
        {
          "output_type": "stream",
          "name": "stdout",
          "text": [
            "¡Hecho!\n"
          ]
        }
      ],
      "source": [
        "csv_to_mongo('Comments.csv',db.comments)"
      ]
    },
    {
      "cell_type": "code",
      "execution_count": 22,
      "id": "99b4f78a",
      "metadata": {
        "id": "99b4f78a",
        "outputId": "993db90d-9d85-4847-a7a1-b8dfc548941d",
        "colab": {
          "base_uri": "https://localhost:8080/",
          "height": 66,
          "referenced_widgets": [
            "e4f3b8da602840258cf537a3c1cea3ed",
            "28155000c7484cdf8bb77f00ac4e8d82",
            "1939dea4d9444701acf5a554ad2bb76d",
            "a8e9e2b70cc4481fb0000024931679f7",
            "682c6d8b0cb4486b917638aae5443c3f",
            "56d2094ab8114c0a960e7ceb2988f947",
            "ab59df6542a042d492aa74bc36fc3a6d",
            "525adffeb2744672a265a125048bb911",
            "188060a0b7df445c8e26755f6ad0cdba",
            "af8bb190f6f0497fa9ba59db497b6992",
            "46d7439a938f4569a20302ff3801434f"
          ]
        }
      },
      "outputs": [
        {
          "output_type": "display_data",
          "data": {
            "text/plain": [
              "Leyendo e insertando filas...: 0it [00:00, ?it/s]"
            ],
            "application/vnd.jupyter.widget-view+json": {
              "version_major": 2,
              "version_minor": 0,
              "model_id": "e4f3b8da602840258cf537a3c1cea3ed"
            }
          },
          "metadata": {}
        },
        {
          "output_type": "stream",
          "name": "stdout",
          "text": [
            "¡Hecho!\n"
          ]
        }
      ],
      "source": [
        "csv_to_mongo('Tags.csv',db.tags)"
      ]
    },
    {
      "cell_type": "code",
      "execution_count": 23,
      "id": "093fffcc",
      "metadata": {
        "id": "093fffcc",
        "outputId": "86350306-fe93-486e-f7cf-169cec2ee57f",
        "colab": {
          "base_uri": "https://localhost:8080/"
        }
      },
      "outputs": [
        {
          "output_type": "execute_result",
          "data": {
            "text/plain": [
              "Collection(Database(MongoClient(host=['localhost:27017'], document_class=dict, tz_aware=False, connect=True), 'stackoverflow'), 'posts')"
            ]
          },
          "metadata": {},
          "execution_count": 23
        }
      ],
      "source": [
        "posts: Collection[dict[str, Any]] = db.posts\n",
        "posts"
      ]
    },
    {
      "cell_type": "code",
      "execution_count": 24,
      "id": "7de3ae05",
      "metadata": {
        "id": "7de3ae05",
        "outputId": "2e0821ae-70aa-436f-d063-830699e3c515",
        "colab": {
          "base_uri": "https://localhost:8080/"
        }
      },
      "outputs": [
        {
          "output_type": "execute_result",
          "data": {
            "text/plain": [
              "410346"
            ]
          },
          "metadata": {},
          "execution_count": 24
        }
      ],
      "source": [
        "posts.count_documents({})"
      ]
    },
    {
      "cell_type": "markdown",
      "id": "968930d1",
      "metadata": {
        "id": "968930d1"
      },
      "source": [
        "## El API de colección de MongoDB\n",
        "\n",
        "El API de colección en Python se puede encontrar aquí: https://docs.mongodb.com/drivers/pymongo/. La mayoría de libros y referencias muestran el uso de mongo desde Javascript, ya que el *shell* de MongoDB acepta ese lenguaje. La sintaxis con respecto a Python cambia un poco, y se puede seguir en el enlace anterior. Existe incluso un curso de la MongoDB University que se puede realizar de forma gratuita: https://learn.mongodb.com/learning-paths/using-mongodb-with-python"
      ]
    },
    {
      "cell_type": "markdown",
      "id": "8b609823",
      "metadata": {
        "id": "8b609823"
      },
      "source": [
        "Con `.find_one` obtenemos el primer elemento de una colección."
      ]
    },
    {
      "cell_type": "code",
      "execution_count": 25,
      "id": "d3e09536",
      "metadata": {
        "id": "d3e09536",
        "scrolled": true,
        "outputId": "a7e8ad00-696f-4f22-a84a-c84ae5155712",
        "colab": {
          "base_uri": "https://localhost:8080/"
        }
      },
      "outputs": [
        {
          "output_type": "execute_result",
          "data": {
            "text/plain": [
              "{'_id': ObjectId('67b70819600680a3a1d2c9d1'),\n",
              " 'Id': 1,\n",
              " 'AcceptedAnswerId': 2,\n",
              " 'AnswerCount': 1,\n",
              " 'Body': '<p>Estoy creando un servicio usando <em>ASP.NET WebApi</em>. Quiero añadir soporte para la negociación del tipo de contenido basado en extensiones en el <em>URI</em>, así que he añadido lo siguiente al código de inicialización del servicio:</p><br/><br/><pre><code>public static class WebApiConfig<br/>{<br/>  public static void Register(HttpConfiguration config)<br/>  {<br/>    config.Formatters.JsonFormatter.AddUriPathExtensionMapping(\"json\", \"application/json\");<br/>    config.Formatters.XmlFormatter.AddUriPathExtensionMapping(\"xml\", \"application/xml\");<br/>  }<br/>}<br/></code></pre><br/><br/><p>Para que esto funcione necesito crear dos rutas para cada acción del controlador (estoy usando exclusivamente enrutamiento basado en atributos):</p><br/><br/><pre><code>[Route(\"item/{id}/details\")]<br/>[Route(\"item/{id}/details.{ext}\")]<br/>[HttpGet]<br/>public ItemDetail[] GetItemDetails(int id)<br/>{<br/>  return itemsService.GetItemDetails(id);<br/>}<br/><br/>[Route(\"item/{name}\")]<br/>[Route(\"item/{name}.{ext}\")]<br/>[HttpPost]<br/>public int CreateItem(string name)<br/>{<br/>  return itemsService.Create(name);<br/>}<br/></code></pre><br/><br/><p>Esto queda feo y hace que el código sea innecesariamente largo, así que investigué una forma de añadir la ruta con la extensión, automáticamente cuando se crea la ruta normal. Como resultado desarrollé una implementación personalizada de <code>IDirectRouteProvider</code> que puedo usar al registrar los atributos de ruta:</p><br/><br/><pre><code>config.MapHttpAttributeRoutes(new AutomaticExtensionRouteProvider());<br/></code></pre><br/><br/><p>El código del proveedor personalizado es:</p><br/><br/><pre><code>public class AutomaticExtensionRouteProvider : DefaultDirectRouteProvider<br/>{<br/>    protected override IReadOnlyList<RouteEntry> GetActionDirectRoutes(<br/>      HttpActionDescriptor actionDescriptor,<br/>      IReadOnlyList<IDirectRouteFactory> factories,<br/>      IInlineConstraintResolver constraintResolver)<br/>    {<br/>        var result = base.GetActionDirectRoutes(actionDescriptor, factories, constraintResolver);<br/>        var list = new List<RouteEntry>(result);<br/>        foreach(var route in result.Where(r => !r.Route.RouteTemplate.EndsWith(\".{ext}\")))<br/>        {<br/>            var newTemplate = route.Route.RouteTemplate + \".{ext}\";<br/>            if (!result.Any(r => r.Route.RouteTemplate == newTemplate))<br/>            {<br/>                var entry = new RouteEntry(null, new HttpRoute(newTemplate,<br/>                    new HttpRouteValueDictionary(route.Route.Defaults),<br/>                    new HttpRouteValueDictionary(route.Route.Constraints),<br/>                    new HttpRouteValueDictionary(route.Route.DataTokens)));<br/>                list.Add(entry);<br/>            }<br/>        }<br/>        return list.AsReadOnly();<br/>    }<br/>}<br/></code></pre><br/><br/><p>El problema es que esto funciona bien, pero falla en un caso: <strong>Cuando la última parte de la ruta es un parámetro sin restricciones</strong>. Así pues, en el ejemplo anterior, la creación de rutas para <code>GetItemDetails</code> funciona, pero para <code>CreateItem</code> lanza lo siguiente:</p><br/><br/><pre><code>System.InvalidOperationException: Multiple actions were found that match the request: <br/>CreateItem on type FooBar.Api.Controllers.ItemsController<br/>CreateItem on type FooBar.Api.Controllers.ItemsController<br/>   at System.Web.Http.Controllers.ApiControllerActionSelector.ActionSelectorCacheItem.SelectAction(HttpControllerContext controllerContext)<br/>   at System.Web.Http.Controllers.ApiControllerActionSelector.SelectAction(HttpControllerContext controllerContext)<br/></code></pre><br/><br/><p>Me imagino de dónde puede venir el problema: Una cadena arbitraria cumple los patrones <code>{name}</code> y <code>{name}.{ext}</code>, por lo que el motor de <em>WebApi</em> se confunde al intentar seleccionar la ruta adecuada. <strong>Pero entonces, ¿Por qué funciona cuando se especifican las dos rutas explícitamente en atributos?</strong> Por lo que yo entiendo, la ruta que yo creo en la clase <code>AutomaticExtensionRouteProvider</code> es idéntica a la que se crea explícitamente con un atributo (y si depuro veo que en efecto así es).</p><br/><br/><p>Así pues, ¿Qué está pasando aquí?</p><br/>',\n",
              " 'ClosedDate': None,\n",
              " 'CommentCount': 2,\n",
              " 'CommunityOwnedDate': None,\n",
              " 'ContentLicense': 'CC BY-SA 4.0',\n",
              " 'CreationDate': datetime.datetime(2015, 10, 29, 15, 56, 52, 933000),\n",
              " 'FavoriteCount': '',\n",
              " 'LastActivityDate': datetime.datetime(2021, 3, 12, 17, 49, 40, 687000),\n",
              " 'LastEditDate': datetime.datetime(2019, 7, 7, 21, 36, 17, 737000),\n",
              " 'LastEditorDisplayName': 'user13558',\n",
              " 'LastEditorUserId': '',\n",
              " 'OwnerDisplayName': '',\n",
              " 'OwnerUserId': 23,\n",
              " 'ParentId': '',\n",
              " 'PostTypeId': 1,\n",
              " 'Score': 40,\n",
              " 'Tags': '<.net><asp.net-web-api><asp.net>',\n",
              " 'Title': 'La creación manual de un alias de ruta con un DirectRouteProvider personalizado causa un error \"Multiple actions were found that match the request\"',\n",
              " 'ViewCount': 780}"
            ]
          },
          "metadata": {},
          "execution_count": 25
        }
      ],
      "source": [
        "post: dict[str, Any] = posts.find_one() or {}\n",
        "post"
      ]
    },
    {
      "cell_type": "markdown",
      "id": "ed7d1288",
      "metadata": {
        "id": "ed7d1288"
      },
      "source": [
        "Ahora, utilizamos la librería `pp` (*PrettyPrint*) para imprimir los objetos grandes de una manera amigable."
      ]
    },
    {
      "cell_type": "code",
      "execution_count": 26,
      "id": "51158c2f",
      "metadata": {
        "id": "51158c2f",
        "scrolled": true,
        "outputId": "f25b6abb-a58f-4e1e-cf34-b932804864a5",
        "colab": {
          "base_uri": "https://localhost:8080/"
        }
      },
      "outputs": [
        {
          "output_type": "stream",
          "name": "stdout",
          "text": [
            "{'AboutMe': '<p>Hola, no soy una persona real.</p><br/><br/><p>¡Soy un proceso '\n",
            "            'que ayuda a mantener el sitio limpio!</p><br/><br/><p>Hago cosas '\n",
            "            'como:</p><br/><br/><ul><br/><li>Dar empujoncitos a preguntas '\n",
            "            'antiguas sin respuesta aproximadamente cada hora, para que '\n",
            "            'atraigan algo de atención.</li><br/><li>Tener la propiedad de las '\n",
            "            'preguntas y respuestas wiki para que nadie se lleve reputación '\n",
            "            'por ellas</li><br/><li>Recibir la propiedad de los votos '\n",
            "            'negativos en las publicaciones de spam o dañinas que son borradas '\n",
            "            'permanentemente</li><br/><li>Tener la propiedad de las ediciones '\n",
            "            'sugeridas por usuarios anónimos</li><br/><li><a '\n",
            "            'href=\"http://meta.stackoverflow.com/a/92006\">Quitar preguntas '\n",
            "            'abandonadas</a></li><br/></ul><br/>',\n",
            " 'AccountId': -1,\n",
            " 'CreationDate': datetime.datetime(2015, 10, 26, 21, 36, 24, 767000),\n",
            " 'DisplayName': 'Comunidad',\n",
            " 'DownVotes': 22504,\n",
            " 'Id': -1,\n",
            " 'LastAccessDate': datetime.datetime(2015, 10, 26, 21, 36, 24, 767000),\n",
            " 'Location': 'en la granja de servidores',\n",
            " 'Reputation': 1,\n",
            " 'UpVotes': 10211,\n",
            " 'Views': 2516,\n",
            " 'WebsiteUrl': '',\n",
            " '_id': ObjectId('67b70d0b600680a3a1d90cbb')}\n"
          ]
        }
      ],
      "source": [
        "users: Collection[dict[str, Any]] = db.users\n",
        "pp(users.find_one())"
      ]
    },
    {
      "cell_type": "markdown",
      "id": "0eca9810",
      "metadata": {
        "id": "0eca9810"
      },
      "source": [
        "A cada objeto se le asigna una clave implícita con nombre \"`_id`\" (si el objeto no lo incluye)."
      ]
    },
    {
      "cell_type": "code",
      "execution_count": 27,
      "id": "9be0cd74",
      "metadata": {
        "id": "9be0cd74",
        "outputId": "d1fa60ef-8bda-4035-f9b7-54986459fa01",
        "colab": {
          "base_uri": "https://localhost:8080/"
        }
      },
      "outputs": [
        {
          "output_type": "stream",
          "name": "stdout",
          "text": [
            "<class 'bson.objectid.ObjectId'>\n"
          ]
        },
        {
          "output_type": "execute_result",
          "data": {
            "text/plain": [
              "ObjectId('67b70819600680a3a1d2c9d1')"
            ]
          },
          "metadata": {},
          "execution_count": 27
        }
      ],
      "source": [
        "print (type(post['_id']))\n",
        "post['_id']"
      ]
    },
    {
      "cell_type": "markdown",
      "id": "8d4f1fd2",
      "metadata": {
        "id": "8d4f1fd2"
      },
      "source": [
        "La siguiente sintaxis está descatalogada en las nuevas versiones, pero era más conveniente:"
      ]
    },
    {
      "cell_type": "code",
      "execution_count": 28,
      "id": "5e1f5544",
      "metadata": {
        "id": "5e1f5544",
        "scrolled": true
      },
      "outputs": [],
      "source": [
        "#posts.save(post)"
      ]
    },
    {
      "cell_type": "markdown",
      "id": "a4169bf4",
      "metadata": {
        "id": "a4169bf4"
      },
      "source": [
        "Ahora hay que hacerlo así (el resultado será 0 porque el documento no ha sido modificado desde que se leyó, pero sería 1 si el documento se modificó):"
      ]
    },
    {
      "cell_type": "code",
      "execution_count": 29,
      "id": "6022b59c",
      "metadata": {
        "id": "6022b59c",
        "outputId": "196a7f39-9766-484e-a42e-355c2c73c7d1",
        "colab": {
          "base_uri": "https://localhost:8080/"
        }
      },
      "outputs": [
        {
          "output_type": "execute_result",
          "data": {
            "text/plain": [
              "0"
            ]
          },
          "metadata": {},
          "execution_count": 29
        }
      ],
      "source": [
        "from pymongo.results import UpdateResult\n",
        "\n",
        "result: UpdateResult = posts.replace_one({\"_id\": post['_id']}, post)\n",
        "result.modified_count"
      ]
    },
    {
      "cell_type": "markdown",
      "id": "519b30ae",
      "metadata": {
        "id": "519b30ae"
      },
      "source": [
        "## Búsqueda de documentos\n",
        "\n",
        "Vamos a estudiar cómo buscar documentos en una colección de la BD.\n",
        "\n",
        "En primer lugar con `.find_one` podemos buscar el primer elemento que cumpla una condición.\n"
      ]
    },
    {
      "cell_type": "code",
      "execution_count": 30,
      "id": "24b8ae13",
      "metadata": {
        "id": "24b8ae13",
        "outputId": "94854b2a-280b-4135-9a1b-888bfbb12ce4",
        "colab": {
          "base_uri": "https://localhost:8080/"
        }
      },
      "outputs": [
        {
          "output_type": "stream",
          "name": "stdout",
          "text": [
            "{'AcceptedAnswerId': 2,\n",
            " 'AnswerCount': 1,\n",
            " 'Body': '<p>Estoy creando un servicio usando <em>ASP.NET WebApi</em>. Quiero '\n",
            "         'añadir soporte para la negociación del tipo de contenido basado en '\n",
            "         'extensiones en el <em>URI</em>, así que he añadido lo siguiente al '\n",
            "         'código de inicialización del '\n",
            "         'servicio:</p><br/><br/><pre><code>public static class '\n",
            "         'WebApiConfig<br/>{<br/>  public static void '\n",
            "         'Register(HttpConfiguration config)<br/>  {<br/>    '\n",
            "         'config.Formatters.JsonFormatter.AddUriPathExtensionMapping(\"json\", '\n",
            "         '\"application/json\");<br/>    '\n",
            "         'config.Formatters.XmlFormatter.AddUriPathExtensionMapping(\"xml\", '\n",
            "         '\"application/xml\");<br/>  }<br/>}<br/></code></pre><br/><br/><p>Para '\n",
            "         'que esto funcione necesito crear dos rutas para cada acción del '\n",
            "         'controlador (estoy usando exclusivamente enrutamiento basado en '\n",
            "         'atributos):</p><br/><br/><pre><code>[Route(\"item/{id}/details\")]<br/>[Route(\"item/{id}/details.{ext}\")]<br/>[HttpGet]<br/>public '\n",
            "         'ItemDetail[] GetItemDetails(int id)<br/>{<br/>  return '\n",
            "         'itemsService.GetItemDetails(id);<br/>}<br/><br/>[Route(\"item/{name}\")]<br/>[Route(\"item/{name}.{ext}\")]<br/>[HttpPost]<br/>public '\n",
            "         'int CreateItem(string name)<br/>{<br/>  return '\n",
            "         'itemsService.Create(name);<br/>}<br/></code></pre><br/><br/><p>Esto '\n",
            "         'queda feo y hace que el código sea innecesariamente largo, así que '\n",
            "         'investigué una forma de añadir la ruta con la extensión, '\n",
            "         'automáticamente cuando se crea la ruta normal. Como resultado '\n",
            "         'desarrollé una implementación personalizada de '\n",
            "         '<code>IDirectRouteProvider</code> que puedo usar al registrar los '\n",
            "         'atributos de '\n",
            "         'ruta:</p><br/><br/><pre><code>config.MapHttpAttributeRoutes(new '\n",
            "         'AutomaticExtensionRouteProvider());<br/></code></pre><br/><br/><p>El '\n",
            "         'código del proveedor personalizado '\n",
            "         'es:</p><br/><br/><pre><code>public class '\n",
            "         'AutomaticExtensionRouteProvider : '\n",
            "         'DefaultDirectRouteProvider<br/>{<br/>    protected override '\n",
            "         'IReadOnlyList<RouteEntry> GetActionDirectRoutes(<br/>      '\n",
            "         'HttpActionDescriptor actionDescriptor,<br/>      '\n",
            "         'IReadOnlyList<IDirectRouteFactory> factories,<br/>      '\n",
            "         'IInlineConstraintResolver constraintResolver)<br/>    {<br/>        '\n",
            "         'var result = base.GetActionDirectRoutes(actionDescriptor, factories, '\n",
            "         'constraintResolver);<br/>        var list = new '\n",
            "         'List<RouteEntry>(result);<br/>        foreach(var route in '\n",
            "         'result.Where(r => '\n",
            "         '!r.Route.RouteTemplate.EndsWith(\".{ext}\")))<br/>        '\n",
            "         '{<br/>            var newTemplate = route.Route.RouteTemplate + '\n",
            "         '\".{ext}\";<br/>            if (!result.Any(r => r.Route.RouteTemplate '\n",
            "         '== newTemplate))<br/>            {<br/>                var entry = '\n",
            "         'new RouteEntry(null, new '\n",
            "         'HttpRoute(newTemplate,<br/>                    new '\n",
            "         'HttpRouteValueDictionary(route.Route.Defaults),<br/>                    '\n",
            "         'new '\n",
            "         'HttpRouteValueDictionary(route.Route.Constraints),<br/>                    '\n",
            "         'new '\n",
            "         'HttpRouteValueDictionary(route.Route.DataTokens)));<br/>                '\n",
            "         'list.Add(entry);<br/>            }<br/>        }<br/>        return '\n",
            "         'list.AsReadOnly();<br/>    }<br/>}<br/></code></pre><br/><br/><p>El '\n",
            "         'problema es que esto funciona bien, pero falla en un caso: '\n",
            "         '<strong>Cuando la última parte de la ruta es un parámetro sin '\n",
            "         'restricciones</strong>. Así pues, en el ejemplo anterior, la '\n",
            "         'creación de rutas para <code>GetItemDetails</code> funciona, pero '\n",
            "         'para <code>CreateItem</code> lanza lo '\n",
            "         'siguiente:</p><br/><br/><pre><code>System.InvalidOperationException: '\n",
            "         'Multiple actions were found that match the request: <br/>CreateItem '\n",
            "         'on type FooBar.Api.Controllers.ItemsController<br/>CreateItem on '\n",
            "         'type FooBar.Api.Controllers.ItemsController<br/>   at '\n",
            "         'System.Web.Http.Controllers.ApiControllerActionSelector.ActionSelectorCacheItem.SelectAction(HttpControllerContext '\n",
            "         'controllerContext)<br/>   at '\n",
            "         'System.Web.Http.Controllers.ApiControllerActionSelector.SelectAction(HttpControllerContext '\n",
            "         'controllerContext)<br/></code></pre><br/><br/><p>Me imagino de dónde '\n",
            "         'puede venir el problema: Una cadena arbitraria cumple los patrones '\n",
            "         '<code>{name}</code> y <code>{name}.{ext}</code>, por lo que el motor '\n",
            "         'de <em>WebApi</em> se confunde al intentar seleccionar la ruta '\n",
            "         'adecuada. <strong>Pero entonces, ¿Por qué funciona cuando se '\n",
            "         'especifican las dos rutas explícitamente en atributos?</strong> Por '\n",
            "         'lo que yo entiendo, la ruta que yo creo en la clase '\n",
            "         '<code>AutomaticExtensionRouteProvider</code> es idéntica a la que se '\n",
            "         'crea explícitamente con un atributo (y si depuro veo que en efecto '\n",
            "         'así es).</p><br/><br/><p>Así pues, ¿Qué está pasando aquí?</p><br/>',\n",
            " 'ClosedDate': None,\n",
            " 'CommentCount': 2,\n",
            " 'CommunityOwnedDate': None,\n",
            " 'ContentLicense': 'CC BY-SA 4.0',\n",
            " 'CreationDate': datetime.datetime(2015, 10, 29, 15, 56, 52, 933000),\n",
            " 'FavoriteCount': '',\n",
            " 'Id': 1,\n",
            " 'LastActivityDate': datetime.datetime(2021, 3, 12, 17, 49, 40, 687000),\n",
            " 'LastEditDate': datetime.datetime(2019, 7, 7, 21, 36, 17, 737000),\n",
            " 'LastEditorDisplayName': 'user13558',\n",
            " 'LastEditorUserId': '',\n",
            " 'OwnerDisplayName': '',\n",
            " 'OwnerUserId': 23,\n",
            " 'ParentId': '',\n",
            " 'PostTypeId': 1,\n",
            " 'Score': 40,\n",
            " 'Tags': '<.net><asp.net-web-api><asp.net>',\n",
            " 'Title': 'La creación manual de un alias de ruta con un DirectRouteProvider '\n",
            "          'personalizado causa un error \"Multiple actions were found that '\n",
            "          'match the request\"',\n",
            " 'ViewCount': 780,\n",
            " '_id': ObjectId('67b70819600680a3a1d2c9d1')}\n"
          ]
        }
      ],
      "source": [
        "post: dict[str, Any] = posts.find_one() or {}\n",
        "pp(post)"
      ]
    },
    {
      "cell_type": "code",
      "execution_count": 31,
      "id": "37aba3a4",
      "metadata": {
        "id": "37aba3a4",
        "scrolled": true,
        "outputId": "51ae36a2-e23e-4de8-b155-ca5b41243349",
        "colab": {
          "base_uri": "https://localhost:8080/"
        }
      },
      "outputs": [
        {
          "output_type": "stream",
          "name": "stdout",
          "text": [
            "_id: 67b70819600680a3a1d2c9d1\n",
            "Id: 1\n",
            "AcceptedAnswerId: 2\n",
            "AnswerCount: 1\n",
            "Body: <p>Estoy creando un servicio usando <em>ASP.NET WebApi</em>. Quiero añadir soporte para la negociación del tipo de contenido basado en extensiones en el <em>URI</em>, así que he añadido lo siguiente al código de inicialización del servicio:</p><br/><br/><pre><code>public static class WebApiConfig<br/>{<br/>  public static void Register(HttpConfiguration config)<br/>  {<br/>    config.Formatters.JsonFormatter.AddUriPathExtensionMapping(\"json\", \"application/json\");<br/>    config.Formatters.XmlFormatter.AddUriPathExtensionMapping(\"xml\", \"application/xml\");<br/>  }<br/>}<br/></code></pre><br/><br/><p>Para que esto funcione necesito crear dos rutas para cada acción del controlador (estoy usando exclusivamente enrutamiento basado en atributos):</p><br/><br/><pre><code>[Route(\"item/{id}/details\")]<br/>[Route(\"item/{id}/details.{ext}\")]<br/>[HttpGet]<br/>public ItemDetail[] GetItemDetails(int id)<br/>{<br/>  return itemsService.GetItemDetails(id);<br/>}<br/><br/>[Route(\"item/{name}\")]<br/>[Route(\"item/{name}.{ext}\")]<br/>[HttpPost]<br/>public int CreateItem(string name)<br/>{<br/>  return itemsService.Create(name);<br/>}<br/></code></pre><br/><br/><p>Esto queda feo y hace que el código sea innecesariamente largo, así que investigué una forma de añadir la ruta con la extensión, automáticamente cuando se crea la ruta normal. Como resultado desarrollé una implementación personalizada de <code>IDirectRouteProvider</code> que puedo usar al registrar los atributos de ruta:</p><br/><br/><pre><code>config.MapHttpAttributeRoutes(new AutomaticExtensionRouteProvider());<br/></code></pre><br/><br/><p>El código del proveedor personalizado es:</p><br/><br/><pre><code>public class AutomaticExtensionRouteProvider : DefaultDirectRouteProvider<br/>{<br/>    protected override IReadOnlyList<RouteEntry> GetActionDirectRoutes(<br/>      HttpActionDescriptor actionDescriptor,<br/>      IReadOnlyList<IDirectRouteFactory> factories,<br/>      IInlineConstraintResolver constraintResolver)<br/>    {<br/>        var result = base.GetActionDirectRoutes(actionDescriptor, factories, constraintResolver);<br/>        var list = new List<RouteEntry>(result);<br/>        foreach(var route in result.Where(r => !r.Route.RouteTemplate.EndsWith(\".{ext}\")))<br/>        {<br/>            var newTemplate = route.Route.RouteTemplate + \".{ext}\";<br/>            if (!result.Any(r => r.Route.RouteTemplate == newTemplate))<br/>            {<br/>                var entry = new RouteEntry(null, new HttpRoute(newTemplate,<br/>                    new HttpRouteValueDictionary(route.Route.Defaults),<br/>                    new HttpRouteValueDictionary(route.Route.Constraints),<br/>                    new HttpRouteValueDictionary(route.Route.DataTokens)));<br/>                list.Add(entry);<br/>            }<br/>        }<br/>        return list.AsReadOnly();<br/>    }<br/>}<br/></code></pre><br/><br/><p>El problema es que esto funciona bien, pero falla en un caso: <strong>Cuando la última parte de la ruta es un parámetro sin restricciones</strong>. Así pues, en el ejemplo anterior, la creación de rutas para <code>GetItemDetails</code> funciona, pero para <code>CreateItem</code> lanza lo siguiente:</p><br/><br/><pre><code>System.InvalidOperationException: Multiple actions were found that match the request: <br/>CreateItem on type FooBar.Api.Controllers.ItemsController<br/>CreateItem on type FooBar.Api.Controllers.ItemsController<br/>   at System.Web.Http.Controllers.ApiControllerActionSelector.ActionSelectorCacheItem.SelectAction(HttpControllerContext controllerContext)<br/>   at System.Web.Http.Controllers.ApiControllerActionSelector.SelectAction(HttpControllerContext controllerContext)<br/></code></pre><br/><br/><p>Me imagino de dónde puede venir el problema: Una cadena arbitraria cumple los patrones <code>{name}</code> y <code>{name}.{ext}</code>, por lo que el motor de <em>WebApi</em> se confunde al intentar seleccionar la ruta adecuada. <strong>Pero entonces, ¿Por qué funciona cuando se especifican las dos rutas explícitamente en atributos?</strong> Por lo que yo entiendo, la ruta que yo creo en la clase <code>AutomaticExtensionRouteProvider</code> es idéntica a la que se crea explícitamente con un atributo (y si depuro veo que en efecto así es).</p><br/><br/><p>Así pues, ¿Qué está pasando aquí?</p><br/>\n",
            "ClosedDate: None\n",
            "CommentCount: 2\n",
            "CommunityOwnedDate: None\n",
            "ContentLicense: CC BY-SA 4.0\n",
            "CreationDate: 2015-10-29 15:56:52.933000\n",
            "FavoriteCount: \n",
            "LastActivityDate: 2021-03-12 17:49:40.687000\n",
            "LastEditDate: 2019-07-07 21:36:17.737000\n",
            "LastEditorDisplayName: user13558\n",
            "LastEditorUserId: \n",
            "OwnerDisplayName: \n",
            "OwnerUserId: 23\n",
            "ParentId: \n",
            "PostTypeId: 1\n",
            "Score: 40\n",
            "Tags: <.net><asp.net-web-api><asp.net>\n",
            "Title: La creación manual de un alias de ruta con un DirectRouteProvider personalizado causa un error \"Multiple actions were found that match the request\"\n",
            "ViewCount: 780\n"
          ]
        }
      ],
      "source": [
        "for k,v in post.items():\n",
        "    print(\"%s: %s\" % (k,v))"
      ]
    },
    {
      "cell_type": "markdown",
      "id": "00c6a165",
      "metadata": {
        "id": "00c6a165"
      },
      "source": [
        "Además de `find_one()`, la función principal de búsqueda es `find()`. Esta función ofrece un conjunto muy amplio de opciones para búsqueda, que estudiaremos a continuación.\n",
        "\n",
        "Primero, una consulta sencilla, con el valor de un campo. En concreto, consultamos el número de respuestas:"
      ]
    },
    {
      "cell_type": "code",
      "execution_count": 32,
      "id": "880b94aa",
      "metadata": {
        "id": "880b94aa",
        "outputId": "e3d0c1e0-3d82-45ed-c22e-cf63f666d577",
        "colab": {
          "base_uri": "https://localhost:8080/"
        }
      },
      "outputs": [
        {
          "output_type": "execute_result",
          "data": {
            "text/plain": [
              "211615"
            ]
          },
          "metadata": {},
          "execution_count": 32
        }
      ],
      "source": [
        "posts.count_documents({'PostTypeId':2})"
      ]
    },
    {
      "cell_type": "markdown",
      "id": "c603805a",
      "metadata": {
        "id": "c603805a"
      },
      "source": [
        "También existe `explain()`, al estilo de SQL."
      ]
    },
    {
      "cell_type": "code",
      "execution_count": 33,
      "id": "cd5689d5",
      "metadata": {
        "id": "cd5689d5",
        "scrolled": true,
        "outputId": "fbe0104e-4139-47bd-e73f-c97bb14d7e8c",
        "colab": {
          "base_uri": "https://localhost:8080/"
        }
      },
      "outputs": [
        {
          "output_type": "execute_result",
          "data": {
            "text/plain": [
              "{'explainVersion': '1',\n",
              " 'queryPlanner': {'namespace': 'stackoverflow.posts',\n",
              "  'parsedQuery': {'PostTypeId': {'$eq': 2}},\n",
              "  'indexFilterSet': False,\n",
              "  'planCacheShapeHash': '90E96344',\n",
              "  'planCacheKey': '55086D4C',\n",
              "  'optimizationTimeMillis': 0,\n",
              "  'maxIndexedOrSolutionsReached': False,\n",
              "  'maxIndexedAndSolutionsReached': False,\n",
              "  'maxScansToExplodeReached': False,\n",
              "  'prunedSimilarIndexes': False,\n",
              "  'winningPlan': {'isCached': False,\n",
              "   'stage': 'COLLSCAN',\n",
              "   'filter': {'PostTypeId': {'$eq': 2}},\n",
              "   'direction': 'forward'},\n",
              "  'rejectedPlans': []},\n",
              " 'executionStats': {'executionSuccess': True,\n",
              "  'nReturned': 211615,\n",
              "  'executionTimeMillis': 582,\n",
              "  'totalKeysExamined': 0,\n",
              "  'totalDocsExamined': 410346,\n",
              "  'executionStages': {'isCached': False,\n",
              "   'stage': 'COLLSCAN',\n",
              "   'filter': {'PostTypeId': {'$eq': 2}},\n",
              "   'nReturned': 211615,\n",
              "   'executionTimeMillisEstimate': 560,\n",
              "   'works': 410347,\n",
              "   'advanced': 211615,\n",
              "   'needTime': 198731,\n",
              "   'needYield': 0,\n",
              "   'saveState': 29,\n",
              "   'restoreState': 29,\n",
              "   'isEOF': 1,\n",
              "   'direction': 'forward',\n",
              "   'docsExamined': 410346},\n",
              "  'allPlansExecution': []},\n",
              " 'queryShapeHash': '0AC811D83EAA26A4BE941CE832BE8613F10ED7602E9B3EA5FE2A00E3C25C3AD7',\n",
              " 'command': {'find': 'posts',\n",
              "  'filter': {'PostTypeId': 2},\n",
              "  '$db': 'stackoverflow'},\n",
              " 'serverInfo': {'host': 'd33d1d849781',\n",
              "  'port': 27017,\n",
              "  'version': '8.0.4',\n",
              "  'gitVersion': 'bc35ab4305d9920d9d0491c1c9ef9b72383d31f9'},\n",
              " 'serverParameters': {'internalQueryFacetBufferSizeBytes': 104857600,\n",
              "  'internalQueryFacetMaxOutputDocSizeBytes': 104857600,\n",
              "  'internalLookupStageIntermediateDocumentMaxSizeBytes': 104857600,\n",
              "  'internalDocumentSourceGroupMaxMemoryBytes': 104857600,\n",
              "  'internalQueryMaxBlockingSortMemoryUsageBytes': 104857600,\n",
              "  'internalQueryProhibitBlockingMergeOnMongoS': 0,\n",
              "  'internalQueryMaxAddToSetBytes': 104857600,\n",
              "  'internalDocumentSourceSetWindowFieldsMaxMemoryBytes': 104857600,\n",
              "  'internalQueryFrameworkControl': 'trySbeRestricted',\n",
              "  'internalQueryPlannerIgnoreIndexWithCollationForRegex': 1},\n",
              " 'ok': 1.0}"
            ]
          },
          "metadata": {},
          "execution_count": 33
        }
      ],
      "source": [
        "posts.find({\"PostTypeId\": 2}).explain()"
      ]
    },
    {
      "cell_type": "markdown",
      "id": "312688ca",
      "metadata": {
        "id": "312688ca"
      },
      "source": [
        "También se puede limitar la búsqueda con la función `.limit`"
      ]
    },
    {
      "cell_type": "code",
      "execution_count": 34,
      "id": "723cc05f",
      "metadata": {
        "id": "723cc05f"
      },
      "outputs": [],
      "source": [
        "from pymongo.cursor import Cursor\n",
        "\n",
        "respuestas: Cursor[dict[str, Any]] = posts.find({'PostTypeId': 2}).limit(10)"
      ]
    },
    {
      "cell_type": "markdown",
      "id": "6a329c57",
      "metadata": {
        "id": "6a329c57"
      },
      "source": [
        "La respuesta no es un conjunto de elementos, sino un cursor que puede ir recorriéndose. ¿Por qué?"
      ]
    },
    {
      "cell_type": "code",
      "execution_count": 35,
      "id": "a2fd46ad",
      "metadata": {
        "id": "a2fd46ad",
        "scrolled": true,
        "outputId": "a5b51915-080c-4c7a-b647-3abc48313c58",
        "colab": {
          "base_uri": "https://localhost:8080/"
        }
      },
      "outputs": [
        {
          "output_type": "execute_result",
          "data": {
            "text/plain": [
              "<pymongo.synchronous.cursor.Cursor at 0x786b20453ad0>"
            ]
          },
          "metadata": {},
          "execution_count": 35
        }
      ],
      "source": [
        "respuestas"
      ]
    },
    {
      "cell_type": "code",
      "execution_count": 36,
      "id": "fa1efa7c",
      "metadata": {
        "id": "fa1efa7c",
        "outputId": "c1ee7c4c-2855-4122-8dd7-91a6186b2d02",
        "colab": {
          "base_uri": "https://localhost:8080/"
        }
      },
      "outputs": [
        {
          "output_type": "execute_result",
          "data": {
            "text/plain": [
              "[{'_id': ObjectId('67b70819600680a3a1d2c9d2'),\n",
              "  'Id': 2,\n",
              "  'AcceptedAnswerId': '',\n",
              "  'AnswerCount': '',\n",
              "  'Body': '<p>He encontrado la solución.</p><br/><br/><p>Resulta que las rutas tienen asignada una <strong>precedencia</strong> numérica asignada, que el motor de enrutamiento de WebApi usa para decidir qué ruta usar en caso de conflicto. Las rutas creadas automáticamente para una misma acción siempre tienen una precedencia distinta, ¡pero la ruta que yo estaba creando manualmente tenía la misma precedencia que la ya existente!</p><br/><br/><p>Así pues la solución es añadir lo siguiente a <code>GetActionDirectRoutes</code>, inmediatamente después de <code>new RouteEntry</code>:</p><br/><br/><pre><code>entry.Route.DataTokens[\"precedence\"] = <br/>    ((decimal)route.Route.DataTokens[\"precedence\"]) - 0.1M;<br/></code></pre><br/>',\n",
              "  'ClosedDate': None,\n",
              "  'CommentCount': 2,\n",
              "  'CommunityOwnedDate': None,\n",
              "  'ContentLicense': 'CC BY-SA 3.0',\n",
              "  'CreationDate': datetime.datetime(2015, 10, 29, 19, 14, 23, 673000),\n",
              "  'FavoriteCount': '',\n",
              "  'LastActivityDate': datetime.datetime(2015, 10, 29, 19, 14, 23, 673000),\n",
              "  'LastEditDate': None,\n",
              "  'LastEditorDisplayName': '',\n",
              "  'LastEditorUserId': '',\n",
              "  'OwnerDisplayName': '',\n",
              "  'OwnerUserId': 23,\n",
              "  'ParentId': 1,\n",
              "  'PostTypeId': 2,\n",
              "  'Score': 31,\n",
              "  'Tags': '',\n",
              "  'Title': '',\n",
              "  'ViewCount': ''},\n",
              " {'_id': ObjectId('67b70819600680a3a1d2c9d4'),\n",
              "  'Id': 4,\n",
              "  'AcceptedAnswerId': '',\n",
              "  'AnswerCount': '',\n",
              "  'Body': '<p><code>.AsString</code> devuelve el mismo \"<em>string</em>\" que la propiedad <code>.Text</code> si no existe ningún controlador de eventos \"Event Handler\", <code>OnGetText</code>, pero de existir uno puede darse el caso de ser diferente, o quizás un descendiente en <code>TField</code> que no sea el estándar podría ocasionar que fuera diferente.</p><br/><br/><p>Saludos y espero ayude.</p><br/><br/><p>P.D: Sobre si hay una razón para usar una u otra no sabría decirle con total certeza eso dependería del uso que tenga previsto para el valor de retorno.</p><br/>',\n",
              "  'ClosedDate': None,\n",
              "  'CommentCount': 0,\n",
              "  'CommunityOwnedDate': None,\n",
              "  'ContentLicense': 'CC BY-SA 3.0',\n",
              "  'CreationDate': datetime.datetime(2015, 10, 30, 0, 45, 47, 640000),\n",
              "  'FavoriteCount': '',\n",
              "  'LastActivityDate': datetime.datetime(2015, 12, 14, 0, 58, 15, 613000),\n",
              "  'LastEditDate': datetime.datetime(2015, 12, 14, 0, 58, 15, 613000),\n",
              "  'LastEditorDisplayName': '',\n",
              "  'LastEditorUserId': 25,\n",
              "  'OwnerDisplayName': '',\n",
              "  'OwnerUserId': 24,\n",
              "  'ParentId': 3,\n",
              "  'PostTypeId': 2,\n",
              "  'Score': 6,\n",
              "  'Tags': '',\n",
              "  'Title': '',\n",
              "  'ViewCount': ''},\n",
              " {'_id': ObjectId('67b70819600680a3a1d2c9d7'),\n",
              "  'Id': 7,\n",
              "  'AcceptedAnswerId': '',\n",
              "  'AnswerCount': '',\n",
              "  'Body': '<p>Lo de elegancia es algo difícil de decir, es cuestión de gustos. Pero la legibilidad del código siempre es importante. Por eso, este código se puede simplificar así: (a mi me parece más legible)</p><br/><br/><pre><code>std::string tempStr;<br/>while(isstream >> tempStr) {<br/>    std::cout << tempStr << std::endl;<br/>}<br/></code></pre><br/><br/><p>Con lo cual, metiendo todo en una función quedaría algo así:</p><br/><br/><pre><code>std::vector<std::string> split_istringstream(std::string str) {<br/>    std::vector<std::string> resultado;<br/>    std::istringstream isstream(str);<br/>    std::string palabra;<br/><br/>    while(isstream >> palabra){<br/>        resultado.push_back(palabra);<br/>    }<br/><br/>    return resultado;<br/>}<br/></code></pre><br/><br/><p>Otra alternativa, que incluso permite definir el delimitador (el operador >> de <code>istringstream</code> solo divide la cadena por los espacios - ASCII 32) es utilizar <a href=\"http://es.cppreference.com/w/cpp/string/basic_string/getline\" rel=\"noreferrer\">std::getline</a>. </p><br/><br/><pre><code>std::vector<std::string> split_getline(std::string str, char delim) {<br/>    std::vector<std::string> resultado;<br/>    std::istringstream isstream(str);<br/>    std::string palabra;<br/><br/>    while(std::getline(isstream, palabra, delim)){<br/>        resultado.push_back(palabra);<br/>    }<br/><br/>    return resultado;<br/>}<br/></code></pre><br/><br/><p>Aquí abajo te dejo una comparativa entre ambas opciones, son prácticamente iguales en eficiencia, dejando de un lado los vectores, reservan prácticamente la misma memoria.</p><br/><br/><p><a href=\"http://cpp.sh/3jtw\" rel=\"noreferrer\">http://cpp.sh/3jtw</a></p><br/>',\n",
              "  'ClosedDate': None,\n",
              "  'CommentCount': 0,\n",
              "  'CommunityOwnedDate': None,\n",
              "  'ContentLicense': 'CC BY-SA 3.0',\n",
              "  'CreationDate': datetime.datetime(2015, 10, 30, 5, 30, 50, 993000),\n",
              "  'FavoriteCount': '',\n",
              "  'LastActivityDate': datetime.datetime(2017, 3, 4, 4, 16, 19, 167000),\n",
              "  'LastEditDate': datetime.datetime(2017, 3, 4, 4, 16, 19, 167000),\n",
              "  'LastEditorDisplayName': '',\n",
              "  'LastEditorUserId': 29967,\n",
              "  'OwnerDisplayName': '',\n",
              "  'OwnerUserId': 25,\n",
              "  'ParentId': 5,\n",
              "  'PostTypeId': 2,\n",
              "  'Score': 29,\n",
              "  'Tags': '',\n",
              "  'Title': '',\n",
              "  'ViewCount': ''},\n",
              " {'_id': ObjectId('67b70819600680a3a1d2c9d9'),\n",
              "  'Id': 9,\n",
              "  'AcceptedAnswerId': '',\n",
              "  'AnswerCount': '',\n",
              "  'Body': '<p>Antes de responder directamente la respuesta, hablaremos de las propiedades relevantes de TField y sus descendientes.</p><br/><br/><h1><code>Text</code>/<code>DisplayText</code></h1><br/><br/><p>Ambas propiedades sirven para obtener una representación textual del valor del campo para su uso en la Interfaz de Usuario. <br/>El propósito de la propiedad <code>Text</code> es el de obtener una representación textual del campo cuándo está siendo editado en un control asociado a datos (Data Aware), en contraste con la propiedad <code>DisplayText</code> que proporciona el valor del campo con formato de visualización para el usuario, por ejemplo, puede contener caracteres de puntuación u otra decoración al valor plano. (1234.50 en contraste con 1,234.50).</p><br/><br/><p>En otras palabras, un <code>TdbEdit</code> o controles similares, mostrarán el valor de <code>DisplayText</code> cuándo no están siendo editados, y al recibir el foco, cambiarán el valor al de la propiedad <code>Text</code> y es este valor el que el usuario \"edita\". Un TdbLabel solamente tira de la propiedad <code>DisplayText</code>, ya que no es editable.</p><br/><br/><p>La documentación para <code>Text</code> dice:</p><br/><br/><blockquote><br/>  <p>Contains the string to display in a data-aware control when the field is in edit mode</p><br/></blockquote><br/><br/><p>Un ejemplo típico es un <code>TFloatField</code> con la propiedad <code>Currency</code> establecida a <code>True</code>. La propiedad DisplayText te devuelve el string con el número conteniendo separadores de miles, el separador decimal y el símbolo de la moneda. La propiedad Text, te devuelve una cadena que no contiene separadores de miles ni símbolo de moneda.</p><br/><br/><pre><code>begin<br/>  MyFloatField.Currency := True;<br/>  MyFloatField.AsFloat := 1234.56;<br/>  A := MyFloatField.Text; //\\'1234.56\\'<br/>  B := MyFloatField.DisplayText; //\\'$1,234.56\\', depends on your locale<br/>  ShowMessage(A + #13 + B);<br/>end;<br/></code></pre><br/><br/><p>El comportamiento de ambas propiedades puede ser personalizado escribiendo un manejador de eventos para <code>OnGetText</code>, dónde se puede escribir la lógica para convertir el valor del campo en una de ambas representaciones textuales. El parámetro booleano <code>DisplayText</code> indica si la cadena solicitada es para representar el valor en la interfaz de usuario o para edición. </p><br/><br/><p>De esta manera, podemos lograr que la representación en la interfaz de usuario para un campo entero con valor 1 sea \\'uno\\', y su valor para edición sea \\'one\\'</p><br/><br/><h1><code>AsString</code></h1><br/><br/><p>Por otro lado, la propiedad AsString utiliza una conversión plana entre el tipo de dato base del campo y una cadena de caracteres. Cada descendiente de <code>TField</code> implementa el método virtual <code>GetAsString</code> que típicamente utiliza funciones de la RTL para realizar la conversión. Siguiendo con el ejemplo de TFloatField, esta clase llama a la función FloatToStr() para realizar la conversión.</p><br/><br/><h1>La respuesta</h1><br/><br/><p>Dicho todo esto, la respuesta a la pregunta sería:</p><br/><br/><p>AsString retorna usualmente el mismo valor que retorna la propiedad Text, siempre que no haya un manejador de evento para OnGetText, pero la representación podría ser diferente si hubiese un manejador de evento o un descendiente no estándar de TField.</p><br/><br/><p>Con la información dada, no puede decirse cuál es más apropiado, ya que esto depende de cuál es el uso que se le dará al valor retornado. Si se está utilizando para mostrar valores en la Interfaz de usuario, como se muestra en los ejemplos de código proporcionados, mi consejo es que utilices la propiedad <code>DisplayText</code>.</p><br/>',\n",
              "  'ClosedDate': None,\n",
              "  'CommentCount': 1,\n",
              "  'CommunityOwnedDate': None,\n",
              "  'ContentLicense': 'CC BY-SA 3.0',\n",
              "  'CreationDate': datetime.datetime(2015, 10, 30, 13, 59, 47, 113000),\n",
              "  'FavoriteCount': '',\n",
              "  'LastActivityDate': datetime.datetime(2015, 10, 30, 13, 59, 47, 113000),\n",
              "  'LastEditDate': None,\n",
              "  'LastEditorDisplayName': '',\n",
              "  'LastEditorUserId': '',\n",
              "  'OwnerDisplayName': '',\n",
              "  'OwnerUserId': 21,\n",
              "  'ParentId': 3,\n",
              "  'PostTypeId': 2,\n",
              "  'Score': 12,\n",
              "  'Tags': '',\n",
              "  'Title': '',\n",
              "  'ViewCount': ''},\n",
              " {'_id': ObjectId('67b70819600680a3a1d2c9db'),\n",
              "  'Id': 11,\n",
              "  'AcceptedAnswerId': '',\n",
              "  'AnswerCount': '',\n",
              "  'Body': '<p>En el primer caso:</p><br/><br/><pre><code>nombreCompleto1 = () => {<br/>    return this.nombre + \" \" + this.apellido;<br/>}<br/></code></pre><br/><br/><p>estás creando un <em>método de instancia</em>, es equivalente a ejecutar <code>this.nombreCompleto1 = function() {...}</code> en JavaScript.</p><br/><br/><p>En el segundo caso:</p><br/><br/><pre><code>nombreCompleto2() {<br/>    return this.nombre + \" \" + this.apellido;<br/>}<br/></code></pre><br/><br/><p>estás creando un <em>método de prototipo</em>, es equivalente a <code>Persona.prototype.nombreCompleto2 = function() {...}</code> en JavaScript.</p><br/><br/><p>En general es preferible crear métodos de prototipo: en tal caso el método se define una sola vez, mientras que los métodos de instancia se crean una vez por instancia, consumiendo más memoria.</p><br/><br/><p>Más información: <a href=\"http://www.johnpapa.net/typescriptpost3\" rel=\"noreferrer\">TypeScript Classes and Interfaces</a></p><br/>',\n",
              "  'ClosedDate': None,\n",
              "  'CommentCount': 2,\n",
              "  'CommunityOwnedDate': None,\n",
              "  'ContentLicense': 'CC BY-SA 3.0',\n",
              "  'CreationDate': datetime.datetime(2015, 10, 30, 14, 43, 43, 737000),\n",
              "  'FavoriteCount': '',\n",
              "  'LastActivityDate': datetime.datetime(2015, 12, 14, 1, 5, 34, 960000),\n",
              "  'LastEditDate': datetime.datetime(2015, 12, 14, 1, 5, 34, 960000),\n",
              "  'LastEditorDisplayName': '',\n",
              "  'LastEditorUserId': 25,\n",
              "  'OwnerDisplayName': '',\n",
              "  'OwnerUserId': 23,\n",
              "  'ParentId': 10,\n",
              "  'PostTypeId': 2,\n",
              "  'Score': 25,\n",
              "  'Tags': '',\n",
              "  'Title': '',\n",
              "  'ViewCount': ''},\n",
              " {'_id': ObjectId('67b70819600680a3a1d2c9e0'),\n",
              "  'Id': 17,\n",
              "  'AcceptedAnswerId': '',\n",
              "  'AnswerCount': '',\n",
              "  'Body': '<p>Para realizar esta operación, ejecuta <code>Xcode</code> como <code>root</code> con el comando <a href=\"https://es.wikipedia.org/wiki/Sudo\" rel=\"nofollow\"><code>sudo</code></a> e instala dentro de esa sesión:</p><br/><br/><pre><code>sudo /Applications/Xcode.app/Contents/MacOS/Xcode<br/></code></pre><br/><br/><p>Una vez hayas instalados debes salir e iniciar normalmente.</p><br/><br/><p>Debes tener precaución si tienes proyectos abiertos cuando usas sudo para lanzar Xcode.</p><br/>',\n",
              "  'ClosedDate': None,\n",
              "  'CommentCount': 0,\n",
              "  'CommunityOwnedDate': None,\n",
              "  'ContentLicense': 'CC BY-SA 3.0',\n",
              "  'CreationDate': datetime.datetime(2015, 10, 30, 20, 36, 12, 323000),\n",
              "  'FavoriteCount': '',\n",
              "  'LastActivityDate': datetime.datetime(2015, 11, 2, 17, 8, 36, 167000),\n",
              "  'LastEditDate': datetime.datetime(2015, 11, 2, 17, 8, 36, 167000),\n",
              "  'LastEditorDisplayName': '',\n",
              "  'LastEditorUserId': 21,\n",
              "  'OwnerDisplayName': '',\n",
              "  'OwnerUserId': 24,\n",
              "  'ParentId': 16,\n",
              "  'PostTypeId': 2,\n",
              "  'Score': 5,\n",
              "  'Tags': '',\n",
              "  'Title': '',\n",
              "  'ViewCount': ''},\n",
              " {'_id': ObjectId('67b70819600680a3a1d2c9e1'),\n",
              "  'Id': 18,\n",
              "  'AcceptedAnswerId': '',\n",
              "  'AnswerCount': '',\n",
              "  'Body': '<p>Como ya mencioné yo no uso Perl, pero mirando la documentación en una parte de ella dice lo siguiente:</p><br/><br/><blockquote><br/>  <p>\"Si el desplazamiento es más allá del final de la matriz, Perl emite<br/>  una advertencia, y (Perl) empalma/splice en el extremo de la matriz.\"</p><br/></blockquote><br/><br/><p><em>...If OFFSET is past the end of the array, Perl issues a warning, and splices at the end of the array.</em></p><br/><br/><p>De echo he revisado en varias versiones y es lo mismo por lo menos la documentación advierten sobre el <em>warning</em>.</p><br/><br/><p>Aquí le dejo los links (en Inglés); </p><br/><br/><ul><br/><li><p><a href=\"http://perldoc.perl.org/5.16.2/functions/splice.html\" rel=\"noreferrer\" title=\"http://perldoc.perl.org/5.16.2/functions/splice.html\">Perl v 5.16.2</a></p></li><br/><li><p><a href=\"http://perldoc.perl.org/5.20.0/functions/splice.html\" rel=\"noreferrer\" title=\"http://perldoc.perl.org/5.20.0/functions/splice.html\">Perl v 5.20.0</a></p></li><br/><li><p><a href=\"http://perldoc.perl.org/functions/splice.html\" rel=\"noreferrer\" title=\"http://perldoc.perl.org/functions/splice.html\">Perl v 5.22</a></p></li><br/></ul><br/><br/><p>Según lo anterior lo normal es el <em>warning</em>, pero por lo que se puede ver en el siguiente link, no en todas las versiones es así y también depende del OS.</p><br/><br/><p><a href=\"http://www.nntp.perl.org/group/perl.perl5.porters/2013/04/msg201134.html\" rel=\"noreferrer\">http://www.nntp.perl.org/group/perl.perl5.porters/2013/04/msg201134.html</a></p><br/><br/><p>Creo que eso ocurre entre la <code>5.14</code> y <code>5.16</code> en algunos sistemas, aquí puede ver la notificación de bug pero quizás también le suceda a usted en la <code>5.20</code> debido a su OS y no es que haya cambiado algo. </p><br/><br/><p><a href=\"https://rt.perl.org/Public/Bug/Display.html?id=117729\" rel=\"noreferrer\">https://rt.perl.org/Public/Bug/Display.html?id=117729</a></p><br/>',\n",
              "  'ClosedDate': None,\n",
              "  'CommentCount': 1,\n",
              "  'CommunityOwnedDate': None,\n",
              "  'ContentLicense': 'CC BY-SA 3.0',\n",
              "  'CreationDate': datetime.datetime(2015, 10, 31, 1, 15, 2, 47000),\n",
              "  'FavoriteCount': '',\n",
              "  'LastActivityDate': datetime.datetime(2015, 12, 15, 22, 22, 22, 80000),\n",
              "  'LastEditDate': datetime.datetime(2015, 12, 15, 22, 22, 22, 80000),\n",
              "  'LastEditorDisplayName': '',\n",
              "  'LastEditorUserId': 264,\n",
              "  'OwnerDisplayName': '',\n",
              "  'OwnerUserId': 24,\n",
              "  'ParentId': 12,\n",
              "  'PostTypeId': 2,\n",
              "  'Score': 13,\n",
              "  'Tags': '',\n",
              "  'Title': '',\n",
              "  'ViewCount': ''},\n",
              " {'_id': ObjectId('67b70819600680a3a1d2c9e6'),\n",
              "  'Id': 23,\n",
              "  'AcceptedAnswerId': '',\n",
              "  'AnswerCount': '',\n",
              "  'Body': '<p><em>voy a sumarme con la parte de la pregunta que no se ha respondido aun: <strong>¿Por qué cambió?</em></strong></p><br/><br/><p>Cambio por que la intención de este código:</p><br/><br/><pre><code>my @x = qw( 1 2 3 4 5 );<br/>splice(@x, 3);<br/></code></pre><br/><br/><p>es claramente truncar el array si es demasiado largo y <em>no hay razon para emitir una advertencia si el array tiene <strong>menos</strong> elementos que el máximo especificado</em> (como en el caso citado en la pregunta)</p><br/><br/><p><a href=\"http://perl5.git.perl.org/perl.git/commitdiff/5cd408a276e19848774860967c3ec06b67b863ee?hp=0890f1a536cff0aff68038cae78e02c9d9b6a2b2\">Fuente (en Inglés)</a> </p><br/>',\n",
              "  'ClosedDate': None,\n",
              "  'CommentCount': 0,\n",
              "  'CommunityOwnedDate': None,\n",
              "  'ContentLicense': 'CC BY-SA 3.0',\n",
              "  'CreationDate': datetime.datetime(2015, 10, 31, 2, 54, 43, 877000),\n",
              "  'FavoriteCount': '',\n",
              "  'LastActivityDate': datetime.datetime(2015, 10, 31, 5, 6, 45, 243000),\n",
              "  'LastEditDate': datetime.datetime(2015, 10, 31, 5, 6, 45, 243000),\n",
              "  'LastEditorDisplayName': '',\n",
              "  'LastEditorUserId': 25,\n",
              "  'OwnerDisplayName': '',\n",
              "  'OwnerUserId': 25,\n",
              "  'ParentId': 12,\n",
              "  'PostTypeId': 2,\n",
              "  'Score': 9,\n",
              "  'Tags': '',\n",
              "  'Title': '',\n",
              "  'ViewCount': ''},\n",
              " {'_id': ObjectId('67b70819600680a3a1d2c9e8'),\n",
              "  'Id': 25,\n",
              "  'AcceptedAnswerId': '',\n",
              "  'AnswerCount': '',\n",
              "  'Body': '<p>Creo que <a href=\"https://hexdocs.pm/elixir/Enum.html#to_list/1\" rel=\"noreferrer\">esto</a> es lo que usted esta buscando</p><br/><br/><p><strong>to_list (colección)</strong></p><br/><br/><p><strong><em>Convierte la colección a una lista</em></strong></p><br/><br/><pre><code>iex> Enum.to_list 1..5<br/>[1, 2, 3, 4, 5]<br/></code></pre><br/><br/><p>espero le ayude</p><br/>',\n",
              "  'ClosedDate': None,\n",
              "  'CommentCount': 0,\n",
              "  'CommunityOwnedDate': None,\n",
              "  'ContentLicense': 'CC BY-SA 4.0',\n",
              "  'CreationDate': datetime.datetime(2015, 10, 31, 19, 39, 29, 827000),\n",
              "  'FavoriteCount': '',\n",
              "  'LastActivityDate': datetime.datetime(2018, 11, 10, 2, 25, 30, 193000),\n",
              "  'LastEditDate': datetime.datetime(2018, 11, 10, 2, 25, 30, 193000),\n",
              "  'LastEditorDisplayName': '',\n",
              "  'LastEditorUserId': 29186,\n",
              "  'OwnerDisplayName': '',\n",
              "  'OwnerUserId': 24,\n",
              "  'ParentId': 24,\n",
              "  'PostTypeId': 2,\n",
              "  'Score': 12,\n",
              "  'Tags': '',\n",
              "  'Title': '',\n",
              "  'ViewCount': ''},\n",
              " {'_id': ObjectId('67b70819600680a3a1d2c9eb'),\n",
              "  'Id': 30,\n",
              "  'AcceptedAnswerId': '',\n",
              "  'AnswerCount': '',\n",
              "  'Body': '<p>Los <code>FPS</code> varian porque solo se solicita un marco cuando es necesario. por ejemplo si la imagen no cambia o es un fondo oscuro la tasa se puede reducir a una tasa más baja, ademas cuando se ejecuta en las pestañas de fondo tambien pude darse el caso para mejorar el rendimiento y la duración de la batería.</p><br/><br/><p>Puede mirar este caso como se \"ajustan los frames\" usando: <code>startAnimating(5)</code>;<br/><a href=\"http://jsfiddle.net/m1erickson/CtsY3/\" rel=\"noreferrer\">jsfiddle</a></p><br/><br/><p><div class=\"snippet\" data-lang=\"js\" data-hide=\"false\" data-console=\"true\" data-babel=\"false\"><br/><div class=\"snippet-code\"><br/><pre class=\"snippet-code-js lang-js prettyprint-override\"><code>var stop = false;<br/>var frameCount = 0;<br/>var $results = $(\"#results\");<br/>var fps, fpsInterval, startTime, now, then, elapsed;<br/><br/>startAnimating(5);<br/><br/>function startAnimating(fps) {<br/>    fpsInterval = 1000 / fps;<br/>    then = Date.now();<br/>    startTime = then;<br/>    console.log(startTime);<br/>    animate();<br/>}<br/><br/><br/>function animate() {<br/><br/>    // stop<br/>    if (stop) {<br/>        return;<br/>    }<br/><br/>    // request another frame<br/><br/>    requestAnimationFrame(animate);<br/><br/>    // calc elapsed time since last loop<br/><br/>    now = Date.now();<br/>    elapsed = now - then;<br/><br/>    // if enough time has elapsed, draw the next frame<br/><br/>    if (elapsed > fpsInterval) {<br/><br/>        // Get ready for next frame by setting then=now, but...<br/>        // Also, adjust for fpsInterval not being multiple of 16.67<br/>        then = now - (elapsed % fpsInterval);<br/><br/>        // draw stuff here<br/><br/><br/>        // TESTING...Report #seconds since start and achieved fps.<br/>        var sinceStart = now - startTime;<br/>        var currentFps = Math.round(1000 / (sinceStart / ++frameCount) * 100) / 100;<br/>        $results.text(\"Elapsed time= \" + Math.round(sinceStart / 1000 * 100) / 100 + \" secs @ \" + currentFps + \" fps.\");<br/><br/>    }<br/>}</code></pre><br/><pre class=\"snippet-code-html lang-html prettyprint-override\"><code><script src=\"https://ajax.googleapis.com/ajax/libs/jquery/1.9.1/jquery.min.js\"></script><br/><h3>Throttling requestAnimationFrame to a FPS</h3><br/><p>This test:  Results should be approximately 5 fps<br/><p id=\"results\">Results:</p><br/><canvas id=\"canvas\" width=300 height=300></canvas></code></pre><br/></div><br/></div><br/></p><br/>',\n",
              "  'ClosedDate': None,\n",
              "  'CommentCount': 1,\n",
              "  'CommunityOwnedDate': None,\n",
              "  'ContentLicense': 'CC BY-SA 3.0',\n",
              "  'CreationDate': datetime.datetime(2015, 11, 1, 16, 27, 13, 990000),\n",
              "  'FavoriteCount': '',\n",
              "  'LastActivityDate': datetime.datetime(2016, 11, 10, 23, 45, 37, 783000),\n",
              "  'LastEditDate': datetime.datetime(2016, 11, 10, 23, 45, 37, 783000),\n",
              "  'LastEditorDisplayName': '',\n",
              "  'LastEditorUserId': 22635,\n",
              "  'OwnerDisplayName': '',\n",
              "  'OwnerUserId': 24,\n",
              "  'ParentId': 29,\n",
              "  'PostTypeId': 2,\n",
              "  'Score': 6,\n",
              "  'Tags': '',\n",
              "  'Title': '',\n",
              "  'ViewCount': ''}]"
            ]
          },
          "metadata": {},
          "execution_count": 36
        }
      ],
      "source": [
        "list(respuestas)"
      ]
    },
    {
      "cell_type": "markdown",
      "id": "76df3e3c",
      "metadata": {
        "id": "76df3e3c"
      },
      "source": [
        "También se puede importar en un Dataframe de `pandas`:"
      ]
    },
    {
      "cell_type": "code",
      "execution_count": 37,
      "id": "3fe7cab1",
      "metadata": {
        "id": "3fe7cab1",
        "outputId": "78b3afa1-8b3f-4be3-bcec-b148045e2d9e",
        "colab": {
          "base_uri": "https://localhost:8080/",
          "height": 412
        }
      },
      "outputs": [
        {
          "output_type": "execute_result",
          "data": {
            "text/plain": [
              "                        _id  Id AcceptedAnswerId AnswerCount  \\\n",
              "0  67b70819600680a3a1d2c9d2   2                                \n",
              "1  67b70819600680a3a1d2c9d4   4                                \n",
              "2  67b70819600680a3a1d2c9d7   7                                \n",
              "3  67b70819600680a3a1d2c9d9   9                                \n",
              "4  67b70819600680a3a1d2c9db  11                                \n",
              "\n",
              "                                                Body ClosedDate  CommentCount  \\\n",
              "0  <p>He encontrado la solución.</p><br/><br/><p>...       None             2   \n",
              "1  <p><code>.AsString</code> devuelve el mismo \"<...       None             0   \n",
              "2  <p>Lo de elegancia es algo difícil de decir, e...       None             0   \n",
              "3  <p>Antes de responder directamente la respuest...       None             1   \n",
              "4  <p>En el primer caso:</p><br/><br/><pre><code>...       None             2   \n",
              "\n",
              "  CommunityOwnedDate ContentLicense            CreationDate  ...  \\\n",
              "0               None   CC BY-SA 3.0 2015-10-29 19:14:23.673  ...   \n",
              "1               None   CC BY-SA 3.0 2015-10-30 00:45:47.640  ...   \n",
              "2               None   CC BY-SA 3.0 2015-10-30 05:30:50.993  ...   \n",
              "3               None   CC BY-SA 3.0 2015-10-30 13:59:47.113  ...   \n",
              "4               None   CC BY-SA 3.0 2015-10-30 14:43:43.737  ...   \n",
              "\n",
              "  LastEditorDisplayName LastEditorUserId OwnerDisplayName OwnerUserId  \\\n",
              "0                                                                  23   \n",
              "1                                     25                           24   \n",
              "2                                  29967                           25   \n",
              "3                                                                  21   \n",
              "4                                     25                           23   \n",
              "\n",
              "  ParentId PostTypeId Score  Tags  Title  ViewCount  \n",
              "0        1          2    31                          \n",
              "1        3          2     6                          \n",
              "2        5          2    29                          \n",
              "3        3          2    12                          \n",
              "4       10          2    25                          \n",
              "\n",
              "[5 rows x 23 columns]"
            ],
            "text/html": [
              "\n",
              "  <div id=\"df-2e5e6198-31bc-4d32-a83b-85fd337121ea\" class=\"colab-df-container\">\n",
              "    <div>\n",
              "<style scoped>\n",
              "    .dataframe tbody tr th:only-of-type {\n",
              "        vertical-align: middle;\n",
              "    }\n",
              "\n",
              "    .dataframe tbody tr th {\n",
              "        vertical-align: top;\n",
              "    }\n",
              "\n",
              "    .dataframe thead th {\n",
              "        text-align: right;\n",
              "    }\n",
              "</style>\n",
              "<table border=\"1\" class=\"dataframe\">\n",
              "  <thead>\n",
              "    <tr style=\"text-align: right;\">\n",
              "      <th></th>\n",
              "      <th>_id</th>\n",
              "      <th>Id</th>\n",
              "      <th>AcceptedAnswerId</th>\n",
              "      <th>AnswerCount</th>\n",
              "      <th>Body</th>\n",
              "      <th>ClosedDate</th>\n",
              "      <th>CommentCount</th>\n",
              "      <th>CommunityOwnedDate</th>\n",
              "      <th>ContentLicense</th>\n",
              "      <th>CreationDate</th>\n",
              "      <th>...</th>\n",
              "      <th>LastEditorDisplayName</th>\n",
              "      <th>LastEditorUserId</th>\n",
              "      <th>OwnerDisplayName</th>\n",
              "      <th>OwnerUserId</th>\n",
              "      <th>ParentId</th>\n",
              "      <th>PostTypeId</th>\n",
              "      <th>Score</th>\n",
              "      <th>Tags</th>\n",
              "      <th>Title</th>\n",
              "      <th>ViewCount</th>\n",
              "    </tr>\n",
              "  </thead>\n",
              "  <tbody>\n",
              "    <tr>\n",
              "      <th>0</th>\n",
              "      <td>67b70819600680a3a1d2c9d2</td>\n",
              "      <td>2</td>\n",
              "      <td></td>\n",
              "      <td></td>\n",
              "      <td>&lt;p&gt;He encontrado la solución.&lt;/p&gt;&lt;br/&gt;&lt;br/&gt;&lt;p&gt;...</td>\n",
              "      <td>None</td>\n",
              "      <td>2</td>\n",
              "      <td>None</td>\n",
              "      <td>CC BY-SA 3.0</td>\n",
              "      <td>2015-10-29 19:14:23.673</td>\n",
              "      <td>...</td>\n",
              "      <td></td>\n",
              "      <td></td>\n",
              "      <td></td>\n",
              "      <td>23</td>\n",
              "      <td>1</td>\n",
              "      <td>2</td>\n",
              "      <td>31</td>\n",
              "      <td></td>\n",
              "      <td></td>\n",
              "      <td></td>\n",
              "    </tr>\n",
              "    <tr>\n",
              "      <th>1</th>\n",
              "      <td>67b70819600680a3a1d2c9d4</td>\n",
              "      <td>4</td>\n",
              "      <td></td>\n",
              "      <td></td>\n",
              "      <td>&lt;p&gt;&lt;code&gt;.AsString&lt;/code&gt; devuelve el mismo \"&lt;...</td>\n",
              "      <td>None</td>\n",
              "      <td>0</td>\n",
              "      <td>None</td>\n",
              "      <td>CC BY-SA 3.0</td>\n",
              "      <td>2015-10-30 00:45:47.640</td>\n",
              "      <td>...</td>\n",
              "      <td></td>\n",
              "      <td>25</td>\n",
              "      <td></td>\n",
              "      <td>24</td>\n",
              "      <td>3</td>\n",
              "      <td>2</td>\n",
              "      <td>6</td>\n",
              "      <td></td>\n",
              "      <td></td>\n",
              "      <td></td>\n",
              "    </tr>\n",
              "    <tr>\n",
              "      <th>2</th>\n",
              "      <td>67b70819600680a3a1d2c9d7</td>\n",
              "      <td>7</td>\n",
              "      <td></td>\n",
              "      <td></td>\n",
              "      <td>&lt;p&gt;Lo de elegancia es algo difícil de decir, e...</td>\n",
              "      <td>None</td>\n",
              "      <td>0</td>\n",
              "      <td>None</td>\n",
              "      <td>CC BY-SA 3.0</td>\n",
              "      <td>2015-10-30 05:30:50.993</td>\n",
              "      <td>...</td>\n",
              "      <td></td>\n",
              "      <td>29967</td>\n",
              "      <td></td>\n",
              "      <td>25</td>\n",
              "      <td>5</td>\n",
              "      <td>2</td>\n",
              "      <td>29</td>\n",
              "      <td></td>\n",
              "      <td></td>\n",
              "      <td></td>\n",
              "    </tr>\n",
              "    <tr>\n",
              "      <th>3</th>\n",
              "      <td>67b70819600680a3a1d2c9d9</td>\n",
              "      <td>9</td>\n",
              "      <td></td>\n",
              "      <td></td>\n",
              "      <td>&lt;p&gt;Antes de responder directamente la respuest...</td>\n",
              "      <td>None</td>\n",
              "      <td>1</td>\n",
              "      <td>None</td>\n",
              "      <td>CC BY-SA 3.0</td>\n",
              "      <td>2015-10-30 13:59:47.113</td>\n",
              "      <td>...</td>\n",
              "      <td></td>\n",
              "      <td></td>\n",
              "      <td></td>\n",
              "      <td>21</td>\n",
              "      <td>3</td>\n",
              "      <td>2</td>\n",
              "      <td>12</td>\n",
              "      <td></td>\n",
              "      <td></td>\n",
              "      <td></td>\n",
              "    </tr>\n",
              "    <tr>\n",
              "      <th>4</th>\n",
              "      <td>67b70819600680a3a1d2c9db</td>\n",
              "      <td>11</td>\n",
              "      <td></td>\n",
              "      <td></td>\n",
              "      <td>&lt;p&gt;En el primer caso:&lt;/p&gt;&lt;br/&gt;&lt;br/&gt;&lt;pre&gt;&lt;code&gt;...</td>\n",
              "      <td>None</td>\n",
              "      <td>2</td>\n",
              "      <td>None</td>\n",
              "      <td>CC BY-SA 3.0</td>\n",
              "      <td>2015-10-30 14:43:43.737</td>\n",
              "      <td>...</td>\n",
              "      <td></td>\n",
              "      <td>25</td>\n",
              "      <td></td>\n",
              "      <td>23</td>\n",
              "      <td>10</td>\n",
              "      <td>2</td>\n",
              "      <td>25</td>\n",
              "      <td></td>\n",
              "      <td></td>\n",
              "      <td></td>\n",
              "    </tr>\n",
              "  </tbody>\n",
              "</table>\n",
              "<p>5 rows × 23 columns</p>\n",
              "</div>\n",
              "    <div class=\"colab-df-buttons\">\n",
              "\n",
              "  <div class=\"colab-df-container\">\n",
              "    <button class=\"colab-df-convert\" onclick=\"convertToInteractive('df-2e5e6198-31bc-4d32-a83b-85fd337121ea')\"\n",
              "            title=\"Convert this dataframe to an interactive table.\"\n",
              "            style=\"display:none;\">\n",
              "\n",
              "  <svg xmlns=\"http://www.w3.org/2000/svg\" height=\"24px\" viewBox=\"0 -960 960 960\">\n",
              "    <path d=\"M120-120v-720h720v720H120Zm60-500h600v-160H180v160Zm220 220h160v-160H400v160Zm0 220h160v-160H400v160ZM180-400h160v-160H180v160Zm440 0h160v-160H620v160ZM180-180h160v-160H180v160Zm440 0h160v-160H620v160Z\"/>\n",
              "  </svg>\n",
              "    </button>\n",
              "\n",
              "  <style>\n",
              "    .colab-df-container {\n",
              "      display:flex;\n",
              "      gap: 12px;\n",
              "    }\n",
              "\n",
              "    .colab-df-convert {\n",
              "      background-color: #E8F0FE;\n",
              "      border: none;\n",
              "      border-radius: 50%;\n",
              "      cursor: pointer;\n",
              "      display: none;\n",
              "      fill: #1967D2;\n",
              "      height: 32px;\n",
              "      padding: 0 0 0 0;\n",
              "      width: 32px;\n",
              "    }\n",
              "\n",
              "    .colab-df-convert:hover {\n",
              "      background-color: #E2EBFA;\n",
              "      box-shadow: 0px 1px 2px rgba(60, 64, 67, 0.3), 0px 1px 3px 1px rgba(60, 64, 67, 0.15);\n",
              "      fill: #174EA6;\n",
              "    }\n",
              "\n",
              "    .colab-df-buttons div {\n",
              "      margin-bottom: 4px;\n",
              "    }\n",
              "\n",
              "    [theme=dark] .colab-df-convert {\n",
              "      background-color: #3B4455;\n",
              "      fill: #D2E3FC;\n",
              "    }\n",
              "\n",
              "    [theme=dark] .colab-df-convert:hover {\n",
              "      background-color: #434B5C;\n",
              "      box-shadow: 0px 1px 3px 1px rgba(0, 0, 0, 0.15);\n",
              "      filter: drop-shadow(0px 1px 2px rgba(0, 0, 0, 0.3));\n",
              "      fill: #FFFFFF;\n",
              "    }\n",
              "  </style>\n",
              "\n",
              "    <script>\n",
              "      const buttonEl =\n",
              "        document.querySelector('#df-2e5e6198-31bc-4d32-a83b-85fd337121ea button.colab-df-convert');\n",
              "      buttonEl.style.display =\n",
              "        google.colab.kernel.accessAllowed ? 'block' : 'none';\n",
              "\n",
              "      async function convertToInteractive(key) {\n",
              "        const element = document.querySelector('#df-2e5e6198-31bc-4d32-a83b-85fd337121ea');\n",
              "        const dataTable =\n",
              "          await google.colab.kernel.invokeFunction('convertToInteractive',\n",
              "                                                    [key], {});\n",
              "        if (!dataTable) return;\n",
              "\n",
              "        const docLinkHtml = 'Like what you see? Visit the ' +\n",
              "          '<a target=\"_blank\" href=https://colab.research.google.com/notebooks/data_table.ipynb>data table notebook</a>'\n",
              "          + ' to learn more about interactive tables.';\n",
              "        element.innerHTML = '';\n",
              "        dataTable['output_type'] = 'display_data';\n",
              "        await google.colab.output.renderOutput(dataTable, element);\n",
              "        const docLink = document.createElement('div');\n",
              "        docLink.innerHTML = docLinkHtml;\n",
              "        element.appendChild(docLink);\n",
              "      }\n",
              "    </script>\n",
              "  </div>\n",
              "\n",
              "\n",
              "<div id=\"df-8a542804-1b02-428f-a728-14be04cadee5\">\n",
              "  <button class=\"colab-df-quickchart\" onclick=\"quickchart('df-8a542804-1b02-428f-a728-14be04cadee5')\"\n",
              "            title=\"Suggest charts\"\n",
              "            style=\"display:none;\">\n",
              "\n",
              "<svg xmlns=\"http://www.w3.org/2000/svg\" height=\"24px\"viewBox=\"0 0 24 24\"\n",
              "     width=\"24px\">\n",
              "    <g>\n",
              "        <path d=\"M19 3H5c-1.1 0-2 .9-2 2v14c0 1.1.9 2 2 2h14c1.1 0 2-.9 2-2V5c0-1.1-.9-2-2-2zM9 17H7v-7h2v7zm4 0h-2V7h2v10zm4 0h-2v-4h2v4z\"/>\n",
              "    </g>\n",
              "</svg>\n",
              "  </button>\n",
              "\n",
              "<style>\n",
              "  .colab-df-quickchart {\n",
              "      --bg-color: #E8F0FE;\n",
              "      --fill-color: #1967D2;\n",
              "      --hover-bg-color: #E2EBFA;\n",
              "      --hover-fill-color: #174EA6;\n",
              "      --disabled-fill-color: #AAA;\n",
              "      --disabled-bg-color: #DDD;\n",
              "  }\n",
              "\n",
              "  [theme=dark] .colab-df-quickchart {\n",
              "      --bg-color: #3B4455;\n",
              "      --fill-color: #D2E3FC;\n",
              "      --hover-bg-color: #434B5C;\n",
              "      --hover-fill-color: #FFFFFF;\n",
              "      --disabled-bg-color: #3B4455;\n",
              "      --disabled-fill-color: #666;\n",
              "  }\n",
              "\n",
              "  .colab-df-quickchart {\n",
              "    background-color: var(--bg-color);\n",
              "    border: none;\n",
              "    border-radius: 50%;\n",
              "    cursor: pointer;\n",
              "    display: none;\n",
              "    fill: var(--fill-color);\n",
              "    height: 32px;\n",
              "    padding: 0;\n",
              "    width: 32px;\n",
              "  }\n",
              "\n",
              "  .colab-df-quickchart:hover {\n",
              "    background-color: var(--hover-bg-color);\n",
              "    box-shadow: 0 1px 2px rgba(60, 64, 67, 0.3), 0 1px 3px 1px rgba(60, 64, 67, 0.15);\n",
              "    fill: var(--button-hover-fill-color);\n",
              "  }\n",
              "\n",
              "  .colab-df-quickchart-complete:disabled,\n",
              "  .colab-df-quickchart-complete:disabled:hover {\n",
              "    background-color: var(--disabled-bg-color);\n",
              "    fill: var(--disabled-fill-color);\n",
              "    box-shadow: none;\n",
              "  }\n",
              "\n",
              "  .colab-df-spinner {\n",
              "    border: 2px solid var(--fill-color);\n",
              "    border-color: transparent;\n",
              "    border-bottom-color: var(--fill-color);\n",
              "    animation:\n",
              "      spin 1s steps(1) infinite;\n",
              "  }\n",
              "\n",
              "  @keyframes spin {\n",
              "    0% {\n",
              "      border-color: transparent;\n",
              "      border-bottom-color: var(--fill-color);\n",
              "      border-left-color: var(--fill-color);\n",
              "    }\n",
              "    20% {\n",
              "      border-color: transparent;\n",
              "      border-left-color: var(--fill-color);\n",
              "      border-top-color: var(--fill-color);\n",
              "    }\n",
              "    30% {\n",
              "      border-color: transparent;\n",
              "      border-left-color: var(--fill-color);\n",
              "      border-top-color: var(--fill-color);\n",
              "      border-right-color: var(--fill-color);\n",
              "    }\n",
              "    40% {\n",
              "      border-color: transparent;\n",
              "      border-right-color: var(--fill-color);\n",
              "      border-top-color: var(--fill-color);\n",
              "    }\n",
              "    60% {\n",
              "      border-color: transparent;\n",
              "      border-right-color: var(--fill-color);\n",
              "    }\n",
              "    80% {\n",
              "      border-color: transparent;\n",
              "      border-right-color: var(--fill-color);\n",
              "      border-bottom-color: var(--fill-color);\n",
              "    }\n",
              "    90% {\n",
              "      border-color: transparent;\n",
              "      border-bottom-color: var(--fill-color);\n",
              "    }\n",
              "  }\n",
              "</style>\n",
              "\n",
              "  <script>\n",
              "    async function quickchart(key) {\n",
              "      const quickchartButtonEl =\n",
              "        document.querySelector('#' + key + ' button');\n",
              "      quickchartButtonEl.disabled = true;  // To prevent multiple clicks.\n",
              "      quickchartButtonEl.classList.add('colab-df-spinner');\n",
              "      try {\n",
              "        const charts = await google.colab.kernel.invokeFunction(\n",
              "            'suggestCharts', [key], {});\n",
              "      } catch (error) {\n",
              "        console.error('Error during call to suggestCharts:', error);\n",
              "      }\n",
              "      quickchartButtonEl.classList.remove('colab-df-spinner');\n",
              "      quickchartButtonEl.classList.add('colab-df-quickchart-complete');\n",
              "    }\n",
              "    (() => {\n",
              "      let quickchartButtonEl =\n",
              "        document.querySelector('#df-8a542804-1b02-428f-a728-14be04cadee5 button');\n",
              "      quickchartButtonEl.style.display =\n",
              "        google.colab.kernel.accessAllowed ? 'block' : 'none';\n",
              "    })();\n",
              "  </script>\n",
              "</div>\n",
              "\n",
              "    </div>\n",
              "  </div>\n"
            ],
            "application/vnd.google.colaboratory.intrinsic+json": {
              "type": "dataframe",
              "variable_name": "df"
            }
          },
          "metadata": {},
          "execution_count": 37
        }
      ],
      "source": [
        "respuestas: Cursor[dict[str, Any]]  = posts.find({\"PostTypeId\": 2}).limit(30)\n",
        "df = pd.DataFrame(respuestas)\n",
        "df.head()"
      ]
    },
    {
      "cell_type": "code",
      "execution_count": 38,
      "id": "8e2ae7e5",
      "metadata": {
        "id": "8e2ae7e5",
        "outputId": "9ab6eded-3b12-4a73-93e7-8975eba63bbd",
        "colab": {
          "base_uri": "https://localhost:8080/",
          "height": 447
        }
      },
      "outputs": [
        {
          "output_type": "execute_result",
          "data": {
            "text/plain": [
              "<Axes: >"
            ]
          },
          "metadata": {},
          "execution_count": 38
        },
        {
          "output_type": "display_data",
          "data": {
            "text/plain": [
              "<Figure size 640x480 with 1 Axes>"
            ],
            "image/png": "[encoded data removed]"
          },
          "metadata": {}
        }
      ],
      "source": [
        "df['Id'].plot()"
      ]
    },
    {
      "cell_type": "markdown",
      "id": "3c96ecfc",
      "metadata": {
        "id": "3c96ecfc"
      },
      "source": [
        "### Búsquedas anidadas"
      ]
    },
    {
      "cell_type": "markdown",
      "id": "3f9ac19c",
      "metadata": {
        "id": "3f9ac19c"
      },
      "source": [
        "La función `find()` tiene un gran número de posibilidades para especificar la búsqueda. Se pueden utilizar cualificadores complejos como:\n",
        "\n",
        "- `$and`\n",
        "- `$or`\n",
        "- `$not`\n",
        "\n",
        "Estos calificadores unen \"objetos\", no valores. Por otro lado, hay otros calificadores que se refieren a valores:\n",
        "\n",
        "- `$lt` (menor)\n",
        "- `$lte` (menor o igual)\n",
        "- `$gt` (mayor)\n",
        "- `$gte` (mayor o igual)"
      ]
    },
    {
      "cell_type": "markdown",
      "id": "e6c8e13f",
      "metadata": {
        "id": "e6c8e13f"
      },
      "source": [
        "Obtenemos aquellas respuestas que tengan un `Id` mayor a 100, limitando la búsqueda a 10:"
      ]
    },
    {
      "cell_type": "code",
      "execution_count": null,
      "id": "940f7293",
      "metadata": {
        "id": "940f7293",
        "scrolled": true
      },
      "outputs": [],
      "source": [
        "respuestas: Cursor[dict[str, Any]] = posts.find({\n",
        "    '$and' : [\n",
        "        {\"PostTypeId\": 2} ,\n",
        "        {\"Id\" : {'$gte' : 100}}\n",
        "    ]}).limit(10)\n",
        "list(respuestas)"
      ]
    },
    {
      "cell_type": "markdown",
      "id": "2e11eb74",
      "metadata": {
        "id": "2e11eb74"
      },
      "source": [
        "Vamos ahora a obtener aquellas preguntas que tengan un `Score` mayor a 100, limitando la búsqueda a 10."
      ]
    },
    {
      "cell_type": "code",
      "execution_count": null,
      "id": "fa170b5e",
      "metadata": {
        "id": "fa170b5e"
      },
      "outputs": [],
      "source": [
        "respuestas: Cursor[dict[str, Any]] = posts.find({ '$and' : [ {\"PostTypeId\": 1} ,\n",
        "                                    {\"Score\" : {'$gt' : 100}} ]}).limit(10)\n",
        "list(respuestas)"
      ]
    },
    {
      "cell_type": "markdown",
      "id": "d02c67d6",
      "metadata": {
        "id": "d02c67d6"
      },
      "source": [
        "Con el método `.sort` podemos ordenar los resultados en base a un campo. Dependiendo del valor del segundo parámetros tendremos un orden\n",
        "* Ascendente (1)\n",
        "* Descendente (-1)"
      ]
    },
    {
      "cell_type": "markdown",
      "id": "99675979",
      "metadata": {
        "id": "99675979"
      },
      "source": [
        "Ahora obtenemos aquellas preguntas que tengan un `Score` mayor a 100, y las ordenamos de forma ascendente por `LastActivityDate`. Date cuenta que limitamos la búsqueda a 10."
      ]
    },
    {
      "cell_type": "code",
      "execution_count": null,
      "id": "783f3d6e",
      "metadata": {
        "id": "783f3d6e"
      },
      "outputs": [],
      "source": [
        "respuestas: Cursor[dict[str, Any]] = posts.find({ '$and' : [ {\"PostTypeId\": 1},\n",
        "                                    {\"Score\" : {'$gt' : 100}} ]}) \\\n",
        "                  .limit(10) \\\n",
        "                  .sort(\"LastActivityDate\",1)\n",
        "list(respuestas)"
      ]
    },
    {
      "cell_type": "markdown",
      "id": "fe58e6ca",
      "metadata": {
        "id": "fe58e6ca"
      },
      "source": [
        "### Búsqueda por fechas\n",
        "\n",
        "Es posible realizar búsquedas por fecha cuando los documentos incluyan atributos de ese tipo.\n",
        "\n",
        "Para ello podemos usar `datetime` a la hora de definir los filtros.\n",
        "\n",
        "En la siguiente búsqueda se buscan aquellos posts que tengan el `LastActivityDate` entre el 29/9/2021 y el 24/9/2023.   "
      ]
    },
    {
      "cell_type": "code",
      "execution_count": null,
      "id": "5ac47d21",
      "metadata": {
        "id": "5ac47d21"
      },
      "outputs": [],
      "source": [
        "start = datetime(2021, 9, 29)\n",
        "end = datetime(2023, 9, 24)\n",
        "\n",
        "respuestas: Cursor[dict[str, Any]] = posts.find({\n",
        "    '$and' : [\n",
        "        {\"LastActivityDate\": {'$gte': start,'$lt': end}}\n",
        "        ]\n",
        "    }).limit(10)\n",
        "list(respuestas)"
      ]
    },
    {
      "cell_type": "markdown",
      "id": "c9393046",
      "metadata": {
        "id": "c9393046"
      },
      "source": [
        "### Búsqueda con una lista\n",
        "\n",
        "Con el operador `$in` podemos comprobar si el valor de un campo se encuentra dentro de una lista.\n",
        "\n",
        "Vamos a obtener todos los documentos que tengan entre sus `Tags` los lenguajes *javascript* o *java*."
      ]
    },
    {
      "cell_type": "code",
      "execution_count": null,
      "id": "d3b34d2b",
      "metadata": {
        "id": "d3b34d2b"
      },
      "outputs": [],
      "source": [
        "respuestas: Cursor[dict[str, Any]] = posts.find({'Tags': {'$in':['<javascript>', '<java>']}}).limit(3)\n",
        "list(respuestas)"
      ]
    },
    {
      "cell_type": "markdown",
      "id": "118cde84",
      "metadata": {
        "id": "118cde84"
      },
      "source": [
        "### Búsqueda con expresiones regulares\n",
        "\n",
        "Aparte de los operadores vistos arriba también es posible usar expresiones regulares con el operador `$regex`.\n",
        "\n",
        "*Más info sobre expresiones regulares en la [documentación oficial de Python](https://docs.python.org/3/howto/regex.html).*\n",
        "\n",
        "Vamos extraer todas las preguntas de los usuarios cuyo título empiece por *python* o *Python*."
      ]
    },
    {
      "cell_type": "code",
      "execution_count": null,
      "id": "9e30dd20",
      "metadata": {
        "id": "9e30dd20"
      },
      "outputs": [],
      "source": [
        "respuestas: Cursor[dict[str, Any]] = posts.find({ '$and' : [ {\"PostTypeId\": 1},\n",
        "                                    {\"Title\" : {'$regex' : '^[Pp]ython'}} ]})\\\n",
        "                            .limit(10)\n",
        "list(respuestas)"
      ]
    },
    {
      "cell_type": "markdown",
      "id": "eaa5d1a1",
      "metadata": {
        "id": "eaa5d1a1"
      },
      "source": [
        "## Borrado de documentos\n",
        "\n",
        "A la hora de realizar el borrado de documentos debemos de usar los métodos `.delete_one`o `.delete_many` usando filtros de forma similar a como hemos empleado en las búsquedas.\n",
        "\n",
        "Vamos a eliminar aquellas respuestas que tengan un `Score` menor a 10 (no se ejecuta este código para no borrar realmente documentos de la base de datos)."
      ]
    },
    {
      "cell_type": "markdown",
      "id": "010e25aa",
      "metadata": {
        "id": "010e25aa"
      },
      "source": [
        "```python\n",
        "resultado = posts.delete_many({ '$and' : [ {\"PostTypeId\": 2} ,\n",
        "                                    {\"Score\" : {'$lt' : 10}} ]})\n",
        "print(f'Borrados {resultado.deleted_count} documentos')\n",
        "```"
      ]
    },
    {
      "cell_type": "markdown",
      "id": "274f9c28",
      "metadata": {
        "id": "274f9c28"
      },
      "source": [
        "## Inserción de elementos\n",
        "\n",
        "A la hora de insertar elementos en MongoDB puede hacerse con los métodos `.insert_one` (para insertar un único documento) o `insert_many` para insertar múltiples documentos al mismo tiempo. El método `insert_many` se ha usado anteriormente, vamos ahora a usar el método `insert_one`.\n",
        "\n"
      ]
    },
    {
      "cell_type": "code",
      "execution_count": null,
      "id": "e1785982",
      "metadata": {
        "id": "e1785982"
      },
      "outputs": [],
      "source": [
        "post_to_insert: dict[str, Any] | None = posts.find_one()\n",
        "if post_to_insert is not None:\n",
        "    post_to_insert['Body']='Texto de prueba'\n",
        "pp(post_to_insert)"
      ]
    },
    {
      "cell_type": "code",
      "execution_count": null,
      "id": "8c233cfc",
      "metadata": {
        "id": "8c233cfc"
      },
      "outputs": [],
      "source": [
        "try:\n",
        "    posts.insert_one(post_to_insert)\n",
        "except Exception as e:\n",
        "    print(e)"
      ]
    },
    {
      "cell_type": "markdown",
      "id": "d5a97548",
      "metadata": {
        "id": "d5a97548"
      },
      "source": [
        "¿Por qué ha fallado? Si comprobamos detenidamente el documento, vemos que contiene el campo `_id` por lo que MongoDB nos informa que ya hay un documento con ese identificador. Por tanto, debemos de eliminar dicho campo del documento antes de insertarlo como uno nuevo."
      ]
    },
    {
      "cell_type": "code",
      "execution_count": null,
      "id": "fc3c37d2",
      "metadata": {
        "id": "fc3c37d2"
      },
      "outputs": [],
      "source": [
        "post_to_insert.pop('_id', None) # Borramos la clave '_id'.\n",
        "posts.insert_one(post_to_insert)"
      ]
    },
    {
      "cell_type": "markdown",
      "id": "36ec3023",
      "metadata": {
        "id": "36ec3023"
      },
      "source": [
        "## Operadores de colección\n",
        "\n",
        "También hay operaciones específicas de la colección, como\n",
        "* `.count_documents` y\n",
        "* `.distinct`:\n",
        "\n",
        "![distinct.bakedsvg.svg](https://github.com/dsevilla/bdge-data/raw/master/misc/mongo-distinct.png)"
      ]
    },
    {
      "cell_type": "markdown",
      "id": "8b5b2a6b",
      "metadata": {
        "id": "8b5b2a6b"
      },
      "source": [
        "Podemos contar el número de elementos en una colección que cumplan una determinada condición"
      ]
    },
    {
      "cell_type": "code",
      "execution_count": null,
      "id": "b44c3f04",
      "metadata": {
        "id": "b44c3f04"
      },
      "outputs": [],
      "source": [
        "db.posts.count_documents({'ViewCount':{'$gt':10000}})"
      ]
    },
    {
      "cell_type": "markdown",
      "id": "0311f3db",
      "metadata": {
        "id": "0311f3db"
      },
      "source": [
        "Vamos a obtener los diferentes valors de `score` de los posts en la colección."
      ]
    },
    {
      "cell_type": "code",
      "execution_count": null,
      "id": "8a746c3a",
      "metadata": {
        "id": "8a746c3a",
        "scrolled": true
      },
      "outputs": [],
      "source": [
        "db.posts.distinct('Score')"
      ]
    },
    {
      "cell_type": "markdown",
      "id": "ef955e5c",
      "metadata": {
        "id": "ef955e5c"
      },
      "source": [
        "## Validación con `JSON` schema\n",
        "\n",
        "En determinadas ocasiones puede ser interesante el *forzar* que los documentos de una colección cumplan un determinado `JSON schema`.\n",
        "\n",
        "Vamos a crear una nueva colección `libro` y vamos a asociarle un `jsonschema` particular. Es importante destacar que dicho esquema fuerza a que el campo `autores` sea un array de otros objetos.\n",
        "\n",
        "Para insertar el esquema en la colección debemos de ejecutar el comando `collMod` de MongoDB."
      ]
    },
    {
      "cell_type": "code",
      "execution_count": null,
      "id": "fe34595e",
      "metadata": {
        "id": "fe34595e"
      },
      "outputs": [],
      "source": [
        "def create_coleccion_libros() -> None:\n",
        "\n",
        "    # Creamos una nueva colección\n",
        "    try:\n",
        "        db.create_collection(\"libro\")\n",
        "    except Exception as e:\n",
        "        print(e)\n",
        "\n",
        "    libro_validador: dict = {\n",
        "        \"$jsonSchema\": {\n",
        "            \"bsonType\": \"object\",\n",
        "            \"required\": [\"titulo\", \"autores\", \"fecha_publicacion\", \"tipo\", \"copias\"],\n",
        "            \"properties\": {\n",
        "                \"titulo\": {\n",
        "                    \"bsonType\": \"string\",\n",
        "                    \"description\": \"debe de ser un string y es obligatorio\"\n",
        "                },\n",
        "                \"autores\": {\n",
        "                    \"bsonType\": \"array\",\n",
        "                    \"description\": \"debe de ser un array y es obligatorio\",\n",
        "                    \"items\": {\n",
        "                        \"bsonType\": \"objectId\",\n",
        "                        \"description\": \"debe ser un objectId y es obligatorio\"\n",
        "                    },\n",
        "                    \"minItems\": 1,\n",
        "                },\n",
        "                \"fecha_publicacion\": {\n",
        "                    \"bsonType\": \"date\",\n",
        "                    \"description\": \"must be a date and is required\"\n",
        "                },\n",
        "                \"tipo\": {\n",
        "                    \"enum\": [\"tapa_dura\", \"tapa_blanda\"],\n",
        "                    \"description\": \"solo puede tomar los valores del enum y es obligatorio\"\n",
        "                },\n",
        "                \"copias\": {\n",
        "                    \"bsonType\": \"int\",\n",
        "                    \"description\": \"debe de ser un integer mayor que 0 y es obligatorio\",\n",
        "                    \"minimum\": 0\n",
        "                }\n",
        "            }\n",
        "        }\n",
        "    }\n",
        "\n",
        "    db.command(\"collMod\", \"libro\", validator=libro_validador)\n",
        "\n",
        "create_coleccion_libros()"
      ]
    },
    {
      "cell_type": "markdown",
      "id": "273f7c90",
      "metadata": {
        "id": "273f7c90"
      },
      "source": [
        "Ahora vamos a crear la colección de con los autores:"
      ]
    },
    {
      "cell_type": "code",
      "execution_count": null,
      "id": "671970d9",
      "metadata": {
        "id": "671970d9"
      },
      "outputs": [],
      "source": [
        "def create_coleccion_autor() -> None:\n",
        "    try:\n",
        "        db.create_collection(\"autor\")\n",
        "    except Exception as e:\n",
        "        print(e)\n",
        "\n",
        "    autor_validator: dict = {\n",
        "        \"$jsonSchema\": {\n",
        "            \"bsonType\": \"object\",\n",
        "            \"required\": [\"nombre_propio\", \"apellido\"],\n",
        "            \"properties\": {\n",
        "                \"nombre_propio\": {\n",
        "                    \"bsonType\": \"string\",\n",
        "                    \"description\": \"debe de ser un string y es obligatorio\"\n",
        "                },\n",
        "                \"apellido\": {\n",
        "                    \"bsonType\": \"string\",\n",
        "                    \"description\": \"debe de ser un string y es obligatorio\"\n",
        "                },\n",
        "                \"fecha_de_nacimiento\": {\n",
        "                    \"bsonType\": \"date\",\n",
        "                    \"description\": \"debe ser un date\"\n",
        "                }\n",
        "            }\n",
        "        }\n",
        "    }\n",
        "\n",
        "    db.command(\"collMod\", \"autor\", validator=autor_validator)\n",
        "\n",
        "create_coleccion_autor()"
      ]
    },
    {
      "cell_type": "markdown",
      "id": "cf60125d",
      "metadata": {
        "id": "cf60125d"
      },
      "source": [
        "Ahora podemos verificar las validaciones de ambas colecciones"
      ]
    },
    {
      "cell_type": "code",
      "execution_count": null,
      "id": "655b859f",
      "metadata": {
        "id": "655b859f"
      },
      "outputs": [],
      "source": [
        "print(f'Validación de book: {db.get_collection(\"libro\").options()}')\n",
        "print(f'Validación de autor: {db.get_collection(\"autor\").options()}')"
      ]
    },
    {
      "cell_type": "markdown",
      "id": "ef790747",
      "metadata": {
        "id": "ef790747"
      },
      "source": [
        "Vamos a insertar una serie de documentos en ambas colecciones que cumplan con el esquema dado."
      ]
    },
    {
      "cell_type": "code",
      "execution_count": null,
      "id": "c1b76d01",
      "metadata": {
        "id": "c1b76d01"
      },
      "outputs": [],
      "source": [
        "from pymongo.results import InsertManyResult\n",
        "\n",
        "def insertar_datos_validados() -> None:\n",
        "    autores: list[dict] = [\n",
        "        {\n",
        "            \"nombre_propio\": \"John\",\n",
        "            \"apellido\": \"Doe\",\n",
        "            \"fecha_de_nacimiento\": datetime(1990, 1, 20)\n",
        "        },\n",
        "        {\n",
        "            \"nombre_propio\": \"Jane\",\n",
        "            \"apellido\": \"Doe\",\n",
        "            \"fecha_de_nacimiento\": datetime(1990, 1, 1)\n",
        "        },\n",
        "        {\n",
        "            \"nombre_propio\": \"Jack\",\n",
        "            \"apellido\": \"Smith\",\n",
        "        }\n",
        "    ]\n",
        "\n",
        "    autor_coll: Collection = db.autor\n",
        "    autor_ids: list = autor_coll.insert_many(autores).inserted_ids\n",
        "    print(f\"IDs de los autores insertados: {autor_ids}\")\n",
        "\n",
        "    libros: list[dict] = [\n",
        "        {\n",
        "            \"titulo\": \"MongoDB, The Book for Beginners\",\n",
        "            \"autores\": [autor_ids[0], autor_ids[1]],\n",
        "            \"fecha_publicacion\": datetime(2022, 12, 17),\n",
        "            \"tipo\": \"tapa_dura\",\n",
        "            \"copias\": 10\n",
        "        },\n",
        "        {\n",
        "            \"titulo\": \"MongoDB, The Book for Advanced Users\",\n",
        "            \"autores\": [autor_ids[0], autor_ids[2]],\n",
        "            \"fecha_publicacion\": datetime(2023, 1, 2),\n",
        "            \"tipo\": \"tapa_blanda\",\n",
        "            \"copias\": 5\n",
        "        },\n",
        "        {\n",
        "            \"titulo\": \"MongoDB, The Book for Experts\",\n",
        "            \"autores\": [autor_ids[1], autor_ids[2]],\n",
        "            \"fecha_publicacion\": datetime(2023, 1, 2),\n",
        "            \"tipo\": \"tapa_blanda\",\n",
        "            \"copias\": 5\n",
        "        },\n",
        "        {\n",
        "            \"titulo\": \"100 Projects in Python\",\n",
        "            \"autores\": [autor_ids[0]],\n",
        "            \"fecha_publicacion\": datetime(2022, 1, 2),\n",
        "            \"tipo\": \"tapa_dura\",\n",
        "            \"copias\": 20\n",
        "        },\n",
        "        {\n",
        "            \"titulo\": \"100 Projects in JavaScript\",\n",
        "            \"autores\": [autor_ids[1]],\n",
        "            \"fecha_publicacion\": datetime(2022, 1, 2),\n",
        "            \"tipo\": \"tapa_blanda\",\n",
        "            \"copias\": 15\n",
        "        }\n",
        "    ]\n",
        "\n",
        "    libro_coll: Collection = db.libro\n",
        "    libros_insertados: InsertManyResult = libro_coll.insert_many(libros)\n",
        "\n",
        "    print(f\"Resultados de los libros insertados: {libros_insertados}\")\n",
        "    print(f\"IDs de los libros insertados: {libros_insertados.inserted_ids}\")\n",
        "\n",
        "insertar_datos_validados()"
      ]
    },
    {
      "cell_type": "markdown",
      "id": "0f1fd852",
      "metadata": {
        "id": "0f1fd852"
      },
      "source": [
        "Comprobamos, de nuevo, que los documentos han sido insertados correctamente, usando para ello el método `find_one` para mostrar el primero insertado."
      ]
    },
    {
      "cell_type": "code",
      "execution_count": null,
      "id": "6e51ad82",
      "metadata": {
        "id": "6e51ad82"
      },
      "outputs": [],
      "source": [
        "db.libro.find_one()"
      ]
    },
    {
      "cell_type": "markdown",
      "id": "7a222ecb",
      "metadata": {
        "id": "7a222ecb"
      },
      "source": [
        "Por último, si ahora se intentara insertar un libro que NO cumple con el esquema dado puesto que no incluye todos los campos obligatorios que tiene que tener un documento en dicha colección."
      ]
    },
    {
      "cell_type": "code",
      "execution_count": null,
      "id": "4eac1317",
      "metadata": {
        "id": "4eac1317"
      },
      "outputs": [],
      "source": [
        "try:\n",
        "    db.libro.insert_one({\n",
        "        \"title\": \"MongoDB, The Book\"\n",
        "    })\n",
        "except Exception as e:\n",
        "    print(e)"
      ]
    },
    {
      "cell_type": "markdown",
      "id": "1f755926",
      "metadata": {
        "id": "1f755926"
      },
      "source": [
        "Vemos que la operación arroja una excepción `WriteError` al no cumplir con el esquema de la colección."
      ]
    },
    {
      "cell_type": "markdown",
      "id": "8f330935",
      "metadata": {
        "id": "8f330935"
      },
      "source": [
        "## Ejercicios"
      ]
    },
    {
      "cell_type": "markdown",
      "id": "cccfbf1d",
      "metadata": {
        "id": "cccfbf1d"
      },
      "source": [
        "### EJERCICIO 1: Separar en dos colecciones las preguntas de las respuestas"
      ]
    },
    {
      "cell_type": "markdown",
      "id": "92e6f15f",
      "metadata": {
        "id": "92e6f15f"
      },
      "source": [
        "### EJERCICIO 2: Crear una nueva colección `posts_premium` que incluye sólo aquellas preguntas creadas en enero del año 2022. Igualmente se deberá incluir la respuesta aceptada (`AcceptedAnswerId`) siempre y cuando su `Score` asignado sea mayor o igual a 1"
      ]
    },
    {
      "cell_type": "markdown",
      "id": "48765ea1",
      "metadata": {
        "id": "48765ea1"
      },
      "source": [
        "¡Eso es todo amigos!"
      ]
    }
  ],
  "metadata": {
    "colab": {
      "provenance": []
    },
    "kernelspec": {
      "display_name": ".venv",
      "language": "python",
      "name": "python3"
    },
    "language_info": {
      "codemirror_mode": {
        "name": "ipython",
        "version": 3
      },
      "file_extension": ".py",
      "mimetype": "text/x-python",
      "name": "python",
      "nbconvert_exporter": "python",
      "pygments_lexer": "ipython3",
      "version": "3.13.1"
    },
    "widgets": {
      "application/vnd.jupyter.widget-state+json": {
        "ff60a055fdeb4d8fbf2b91a369cf5a54": {
          "model_module": "@jupyter-widgets/controls",
          "model_name": "HBoxModel",
          "model_module_version": "1.5.0",
          "state": {
            "_dom_classes": [],
            "_model_module": "@jupyter-widgets/controls",
            "_model_module_version": "1.5.0",
            "_model_name": "HBoxModel",
            "_view_count": null,
            "_view_module": "@jupyter-widgets/controls",
            "_view_module_version": "1.5.0",
            "_view_name": "HBoxView",
            "box_style": "",
            "children": [
              "IPY_MODEL_207e570455ee49649fb401db659f7a88",
              "IPY_MODEL_41fb4d8f0b4549ffa6f741503d7e8292",
              "IPY_MODEL_58887dc776a4419aaf64fa60fc1327f9"
            ],
            "layout": "IPY_MODEL_754fe82c0d044f6b93a57305b6edaf50"
          }
        },
        "207e570455ee49649fb401db659f7a88": {
          "model_module": "@jupyter-widgets/controls",
          "model_name": "HTMLModel",
          "model_module_version": "1.5.0",
          "state": {
            "_dom_classes": [],
            "_model_module": "@jupyter-widgets/controls",
            "_model_module_version": "1.5.0",
            "_model_name": "HTMLModel",
            "_view_count": null,
            "_view_module": "@jupyter-widgets/controls",
            "_view_module_version": "1.5.0",
            "_view_name": "HTMLView",
            "description": "",
            "description_tooltip": null,
            "layout": "IPY_MODEL_5b4800027c9d4426af627ac781b848fb",
            "placeholder": "​",
            "style": "IPY_MODEL_61595819ea884178a60dbc9a17e71688",
            "value": "Leyendo e insertando filas...: "
          }
        },
        "41fb4d8f0b4549ffa6f741503d7e8292": {
          "model_module": "@jupyter-widgets/controls",
          "model_name": "FloatProgressModel",
          "model_module_version": "1.5.0",
          "state": {
            "_dom_classes": [],
            "_model_module": "@jupyter-widgets/controls",
            "_model_module_version": "1.5.0",
            "_model_name": "FloatProgressModel",
            "_view_count": null,
            "_view_module": "@jupyter-widgets/controls",
            "_view_module_version": "1.5.0",
            "_view_name": "ProgressView",
            "bar_style": "success",
            "description": "",
            "description_tooltip": null,
            "layout": "IPY_MODEL_6a3bbb51eda14fba8acfbb63a53e9b9d",
            "max": 1,
            "min": 0,
            "orientation": "horizontal",
            "style": "IPY_MODEL_11d1fa48f8f643c19d3e012eb04128e0",
            "value": 1
          }
        },
        "58887dc776a4419aaf64fa60fc1327f9": {
          "model_module": "@jupyter-widgets/controls",
          "model_name": "HTMLModel",
          "model_module_version": "1.5.0",
          "state": {
            "_dom_classes": [],
            "_model_module": "@jupyter-widgets/controls",
            "_model_module_version": "1.5.0",
            "_model_name": "HTMLModel",
            "_view_count": null,
            "_view_module": "@jupyter-widgets/controls",
            "_view_module_version": "1.5.0",
            "_view_name": "HTMLView",
            "description": "",
            "description_tooltip": null,
            "layout": "IPY_MODEL_68838065c0da4795bb4b0597a3278002",
            "placeholder": "​",
            "style": "IPY_MODEL_a642270f023d4ee893e2d0b615ffd40e",
            "value": " 410346/? [00:55&lt;00:00, 7787.36it/s]"
          }
        },
        "754fe82c0d044f6b93a57305b6edaf50": {
          "model_module": "@jupyter-widgets/base",
          "model_name": "LayoutModel",
          "model_module_version": "1.2.0",
          "state": {
            "_model_module": "@jupyter-widgets/base",
            "_model_module_version": "1.2.0",
            "_model_name": "LayoutModel",
            "_view_count": null,
            "_view_module": "@jupyter-widgets/base",
            "_view_module_version": "1.2.0",
            "_view_name": "LayoutView",
            "align_content": null,
            "align_items": null,
            "align_self": null,
            "border": null,
            "bottom": null,
            "display": null,
            "flex": null,
            "flex_flow": null,
            "grid_area": null,
            "grid_auto_columns": null,
            "grid_auto_flow": null,
            "grid_auto_rows": null,
            "grid_column": null,
            "grid_gap": null,
            "grid_row": null,
            "grid_template_areas": null,
            "grid_template_columns": null,
            "grid_template_rows": null,
            "height": null,
            "justify_content": null,
            "justify_items": null,
            "left": null,
            "margin": null,
            "max_height": null,
            "max_width": null,
            "min_height": null,
            "min_width": null,
            "object_fit": null,
            "object_position": null,
            "order": null,
            "overflow": null,
            "overflow_x": null,
            "overflow_y": null,
            "padding": null,
            "right": null,
            "top": null,
            "visibility": null,
            "width": null
          }
        },
        "5b4800027c9d4426af627ac781b848fb": {
          "model_module": "@jupyter-widgets/base",
          "model_name": "LayoutModel",
          "model_module_version": "1.2.0",
          "state": {
            "_model_module": "@jupyter-widgets/base",
            "_model_module_version": "1.2.0",
            "_model_name": "LayoutModel",
            "_view_count": null,
            "_view_module": "@jupyter-widgets/base",
            "_view_module_version": "1.2.0",
            "_view_name": "LayoutView",
            "align_content": null,
            "align_items": null,
            "align_self": null,
            "border": null,
            "bottom": null,
            "display": null,
            "flex": null,
            "flex_flow": null,
            "grid_area": null,
            "grid_auto_columns": null,
            "grid_auto_flow": null,
            "grid_auto_rows": null,
            "grid_column": null,
            "grid_gap": null,
            "grid_row": null,
            "grid_template_areas": null,
            "grid_template_columns": null,
            "grid_template_rows": null,
            "height": null,
            "justify_content": null,
            "justify_items": null,
            "left": null,
            "margin": null,
            "max_height": null,
            "max_width": null,
            "min_height": null,
            "min_width": null,
            "object_fit": null,
            "object_position": null,
            "order": null,
            "overflow": null,
            "overflow_x": null,
            "overflow_y": null,
            "padding": null,
            "right": null,
            "top": null,
            "visibility": null,
            "width": null
          }
        },
        "61595819ea884178a60dbc9a17e71688": {
          "model_module": "@jupyter-widgets/controls",
          "model_name": "DescriptionStyleModel",
          "model_module_version": "1.5.0",
          "state": {
            "_model_module": "@jupyter-widgets/controls",
            "_model_module_version": "1.5.0",
            "_model_name": "DescriptionStyleModel",
            "_view_count": null,
            "_view_module": "@jupyter-widgets/base",
            "_view_module_version": "1.2.0",
            "_view_name": "StyleView",
            "description_width": ""
          }
        },
        "6a3bbb51eda14fba8acfbb63a53e9b9d": {
          "model_module": "@jupyter-widgets/base",
          "model_name": "LayoutModel",
          "model_module_version": "1.2.0",
          "state": {
            "_model_module": "@jupyter-widgets/base",
            "_model_module_version": "1.2.0",
            "_model_name": "LayoutModel",
            "_view_count": null,
            "_view_module": "@jupyter-widgets/base",
            "_view_module_version": "1.2.0",
            "_view_name": "LayoutView",
            "align_content": null,
            "align_items": null,
            "align_self": null,
            "border": null,
            "bottom": null,
            "display": null,
            "flex": null,
            "flex_flow": null,
            "grid_area": null,
            "grid_auto_columns": null,
            "grid_auto_flow": null,
            "grid_auto_rows": null,
            "grid_column": null,
            "grid_gap": null,
            "grid_row": null,
            "grid_template_areas": null,
            "grid_template_columns": null,
            "grid_template_rows": null,
            "height": null,
            "justify_content": null,
            "justify_items": null,
            "left": null,
            "margin": null,
            "max_height": null,
            "max_width": null,
            "min_height": null,
            "min_width": null,
            "object_fit": null,
            "object_position": null,
            "order": null,
            "overflow": null,
            "overflow_x": null,
            "overflow_y": null,
            "padding": null,
            "right": null,
            "top": null,
            "visibility": null,
            "width": "20px"
          }
        },
        "11d1fa48f8f643c19d3e012eb04128e0": {
          "model_module": "@jupyter-widgets/controls",
          "model_name": "ProgressStyleModel",
          "model_module_version": "1.5.0",
          "state": {
            "_model_module": "@jupyter-widgets/controls",
            "_model_module_version": "1.5.0",
            "_model_name": "ProgressStyleModel",
            "_view_count": null,
            "_view_module": "@jupyter-widgets/base",
            "_view_module_version": "1.2.0",
            "_view_name": "StyleView",
            "bar_color": null,
            "description_width": ""
          }
        },
        "68838065c0da4795bb4b0597a3278002": {
          "model_module": "@jupyter-widgets/base",
          "model_name": "LayoutModel",
          "model_module_version": "1.2.0",
          "state": {
            "_model_module": "@jupyter-widgets/base",
            "_model_module_version": "1.2.0",
            "_model_name": "LayoutModel",
            "_view_count": null,
            "_view_module": "@jupyter-widgets/base",
            "_view_module_version": "1.2.0",
            "_view_name": "LayoutView",
            "align_content": null,
            "align_items": null,
            "align_self": null,
            "border": null,
            "bottom": null,
            "display": null,
            "flex": null,
            "flex_flow": null,
            "grid_area": null,
            "grid_auto_columns": null,
            "grid_auto_flow": null,
            "grid_auto_rows": null,
            "grid_column": null,
            "grid_gap": null,
            "grid_row": null,
            "grid_template_areas": null,
            "grid_template_columns": null,
            "grid_template_rows": null,
            "height": null,
            "justify_content": null,
            "justify_items": null,
            "left": null,
            "margin": null,
            "max_height": null,
            "max_width": null,
            "min_height": null,
            "min_width": null,
            "object_fit": null,
            "object_position": null,
            "order": null,
            "overflow": null,
            "overflow_x": null,
            "overflow_y": null,
            "padding": null,
            "right": null,
            "top": null,
            "visibility": null,
            "width": null
          }
        },
        "a642270f023d4ee893e2d0b615ffd40e": {
          "model_module": "@jupyter-widgets/controls",
          "model_name": "DescriptionStyleModel",
          "model_module_version": "1.5.0",
          "state": {
            "_model_module": "@jupyter-widgets/controls",
            "_model_module_version": "1.5.0",
            "_model_name": "DescriptionStyleModel",
            "_view_count": null,
            "_view_module": "@jupyter-widgets/base",
            "_view_module_version": "1.2.0",
            "_view_name": "StyleView",
            "description_width": ""
          }
        },
        "00a237b3af794c35a9a7644062728486": {
          "model_module": "@jupyter-widgets/controls",
          "model_name": "HBoxModel",
          "model_module_version": "1.5.0",
          "state": {
            "_dom_classes": [],
            "_model_module": "@jupyter-widgets/controls",
            "_model_module_version": "1.5.0",
            "_model_name": "HBoxModel",
            "_view_count": null,
            "_view_module": "@jupyter-widgets/controls",
            "_view_module_version": "1.5.0",
            "_view_name": "HBoxView",
            "box_style": "",
            "children": [
              "IPY_MODEL_0d778b95f4d1485e8b351897299e9865",
              "IPY_MODEL_b7d7624097dd4c67892a2dd271005658",
              "IPY_MODEL_27e51b51086144fbbc1ec21bcef8c401"
            ],
            "layout": "IPY_MODEL_1071f5bcd2f5409186af344887aa4c0f"
          }
        },
        "0d778b95f4d1485e8b351897299e9865": {
          "model_module": "@jupyter-widgets/controls",
          "model_name": "HTMLModel",
          "model_module_version": "1.5.0",
          "state": {
            "_dom_classes": [],
            "_model_module": "@jupyter-widgets/controls",
            "_model_module_version": "1.5.0",
            "_model_name": "HTMLModel",
            "_view_count": null,
            "_view_module": "@jupyter-widgets/controls",
            "_view_module_version": "1.5.0",
            "_view_name": "HTMLView",
            "description": "",
            "description_tooltip": null,
            "layout": "IPY_MODEL_0a8d8576e4764b449525341234883630",
            "placeholder": "​",
            "style": "IPY_MODEL_82dfc00bca29456c9fb005215aa74bc8",
            "value": "Leyendo e insertando filas...: "
          }
        },
        "b7d7624097dd4c67892a2dd271005658": {
          "model_module": "@jupyter-widgets/controls",
          "model_name": "FloatProgressModel",
          "model_module_version": "1.5.0",
          "state": {
            "_dom_classes": [],
            "_model_module": "@jupyter-widgets/controls",
            "_model_module_version": "1.5.0",
            "_model_name": "FloatProgressModel",
            "_view_count": null,
            "_view_module": "@jupyter-widgets/controls",
            "_view_module_version": "1.5.0",
            "_view_name": "ProgressView",
            "bar_style": "success",
            "description": "",
            "description_tooltip": null,
            "layout": "IPY_MODEL_27b434d902be41839e286747e8be3b29",
            "max": 1,
            "min": 0,
            "orientation": "horizontal",
            "style": "IPY_MODEL_75d05cfd2c924424bd23472fd34ca0e0",
            "value": 1
          }
        },
        "27e51b51086144fbbc1ec21bcef8c401": {
          "model_module": "@jupyter-widgets/controls",
          "model_name": "HTMLModel",
          "model_module_version": "1.5.0",
          "state": {
            "_dom_classes": [],
            "_model_module": "@jupyter-widgets/controls",
            "_model_module_version": "1.5.0",
            "_model_name": "HTMLModel",
            "_view_count": null,
            "_view_module": "@jupyter-widgets/controls",
            "_view_module_version": "1.5.0",
            "_view_name": "HTMLView",
            "description": "",
            "description_tooltip": null,
            "layout": "IPY_MODEL_406b0501cbca4aa495e89c1465f2d6aa",
            "placeholder": "​",
            "style": "IPY_MODEL_85eb10ebad5e41b4bc2e937b22243823",
            "value": " 319535/? [00:14&lt;00:00, 23358.21it/s]"
          }
        },
        "1071f5bcd2f5409186af344887aa4c0f": {
          "model_module": "@jupyter-widgets/base",
          "model_name": "LayoutModel",
          "model_module_version": "1.2.0",
          "state": {
            "_model_module": "@jupyter-widgets/base",
            "_model_module_version": "1.2.0",
            "_model_name": "LayoutModel",
            "_view_count": null,
            "_view_module": "@jupyter-widgets/base",
            "_view_module_version": "1.2.0",
            "_view_name": "LayoutView",
            "align_content": null,
            "align_items": null,
            "align_self": null,
            "border": null,
            "bottom": null,
            "display": null,
            "flex": null,
            "flex_flow": null,
            "grid_area": null,
            "grid_auto_columns": null,
            "grid_auto_flow": null,
            "grid_auto_rows": null,
            "grid_column": null,
            "grid_gap": null,
            "grid_row": null,
            "grid_template_areas": null,
            "grid_template_columns": null,
            "grid_template_rows": null,
            "height": null,
            "justify_content": null,
            "justify_items": null,
            "left": null,
            "margin": null,
            "max_height": null,
            "max_width": null,
            "min_height": null,
            "min_width": null,
            "object_fit": null,
            "object_position": null,
            "order": null,
            "overflow": null,
            "overflow_x": null,
            "overflow_y": null,
            "padding": null,
            "right": null,
            "top": null,
            "visibility": null,
            "width": null
          }
        },
        "0a8d8576e4764b449525341234883630": {
          "model_module": "@jupyter-widgets/base",
          "model_name": "LayoutModel",
          "model_module_version": "1.2.0",
          "state": {
            "_model_module": "@jupyter-widgets/base",
            "_model_module_version": "1.2.0",
            "_model_name": "LayoutModel",
            "_view_count": null,
            "_view_module": "@jupyter-widgets/base",
            "_view_module_version": "1.2.0",
            "_view_name": "LayoutView",
            "align_content": null,
            "align_items": null,
            "align_self": null,
            "border": null,
            "bottom": null,
            "display": null,
            "flex": null,
            "flex_flow": null,
            "grid_area": null,
            "grid_auto_columns": null,
            "grid_auto_flow": null,
            "grid_auto_rows": null,
            "grid_column": null,
            "grid_gap": null,
            "grid_row": null,
            "grid_template_areas": null,
            "grid_template_columns": null,
            "grid_template_rows": null,
            "height": null,
            "justify_content": null,
            "justify_items": null,
            "left": null,
            "margin": null,
            "max_height": null,
            "max_width": null,
            "min_height": null,
            "min_width": null,
            "object_fit": null,
            "object_position": null,
            "order": null,
            "overflow": null,
            "overflow_x": null,
            "overflow_y": null,
            "padding": null,
            "right": null,
            "top": null,
            "visibility": null,
            "width": null
          }
        },
        "82dfc00bca29456c9fb005215aa74bc8": {
          "model_module": "@jupyter-widgets/controls",
          "model_name": "DescriptionStyleModel",
          "model_module_version": "1.5.0",
          "state": {
            "_model_module": "@jupyter-widgets/controls",
            "_model_module_version": "1.5.0",
            "_model_name": "DescriptionStyleModel",
            "_view_count": null,
            "_view_module": "@jupyter-widgets/base",
            "_view_module_version": "1.2.0",
            "_view_name": "StyleView",
            "description_width": ""
          }
        },
        "27b434d902be41839e286747e8be3b29": {
          "model_module": "@jupyter-widgets/base",
          "model_name": "LayoutModel",
          "model_module_version": "1.2.0",
          "state": {
            "_model_module": "@jupyter-widgets/base",
            "_model_module_version": "1.2.0",
            "_model_name": "LayoutModel",
            "_view_count": null,
            "_view_module": "@jupyter-widgets/base",
            "_view_module_version": "1.2.0",
            "_view_name": "LayoutView",
            "align_content": null,
            "align_items": null,
            "align_self": null,
            "border": null,
            "bottom": null,
            "display": null,
            "flex": null,
            "flex_flow": null,
            "grid_area": null,
            "grid_auto_columns": null,
            "grid_auto_flow": null,
            "grid_auto_rows": null,
            "grid_column": null,
            "grid_gap": null,
            "grid_row": null,
            "grid_template_areas": null,
            "grid_template_columns": null,
            "grid_template_rows": null,
            "height": null,
            "justify_content": null,
            "justify_items": null,
            "left": null,
            "margin": null,
            "max_height": null,
            "max_width": null,
            "min_height": null,
            "min_width": null,
            "object_fit": null,
            "object_position": null,
            "order": null,
            "overflow": null,
            "overflow_x": null,
            "overflow_y": null,
            "padding": null,
            "right": null,
            "top": null,
            "visibility": null,
            "width": "20px"
          }
        },
        "75d05cfd2c924424bd23472fd34ca0e0": {
          "model_module": "@jupyter-widgets/controls",
          "model_name": "ProgressStyleModel",
          "model_module_version": "1.5.0",
          "state": {
            "_model_module": "@jupyter-widgets/controls",
            "_model_module_version": "1.5.0",
            "_model_name": "ProgressStyleModel",
            "_view_count": null,
            "_view_module": "@jupyter-widgets/base",
            "_view_module_version": "1.2.0",
            "_view_name": "StyleView",
            "bar_color": null,
            "description_width": ""
          }
        },
        "406b0501cbca4aa495e89c1465f2d6aa": {
          "model_module": "@jupyter-widgets/base",
          "model_name": "LayoutModel",
          "model_module_version": "1.2.0",
          "state": {
            "_model_module": "@jupyter-widgets/base",
            "_model_module_version": "1.2.0",
            "_model_name": "LayoutModel",
            "_view_count": null,
            "_view_module": "@jupyter-widgets/base",
            "_view_module_version": "1.2.0",
            "_view_name": "LayoutView",
            "align_content": null,
            "align_items": null,
            "align_self": null,
            "border": null,
            "bottom": null,
            "display": null,
            "flex": null,
            "flex_flow": null,
            "grid_area": null,
            "grid_auto_columns": null,
            "grid_auto_flow": null,
            "grid_auto_rows": null,
            "grid_column": null,
            "grid_gap": null,
            "grid_row": null,
            "grid_template_areas": null,
            "grid_template_columns": null,
            "grid_template_rows": null,
            "height": null,
            "justify_content": null,
            "justify_items": null,
            "left": null,
            "margin": null,
            "max_height": null,
            "max_width": null,
            "min_height": null,
            "min_width": null,
            "object_fit": null,
            "object_position": null,
            "order": null,
            "overflow": null,
            "overflow_x": null,
            "overflow_y": null,
            "padding": null,
            "right": null,
            "top": null,
            "visibility": null,
            "width": null
          }
        },
        "85eb10ebad5e41b4bc2e937b22243823": {
          "model_module": "@jupyter-widgets/controls",
          "model_name": "DescriptionStyleModel",
          "model_module_version": "1.5.0",
          "state": {
            "_model_module": "@jupyter-widgets/controls",
            "_model_module_version": "1.5.0",
            "_model_name": "DescriptionStyleModel",
            "_view_count": null,
            "_view_module": "@jupyter-widgets/base",
            "_view_module_version": "1.2.0",
            "_view_name": "StyleView",
            "description_width": ""
          }
        },
        "fabbd33757ed40c99cf6f73627d74b58": {
          "model_module": "@jupyter-widgets/controls",
          "model_name": "HBoxModel",
          "model_module_version": "1.5.0",
          "state": {
            "_dom_classes": [],
            "_model_module": "@jupyter-widgets/controls",
            "_model_module_version": "1.5.0",
            "_model_name": "HBoxModel",
            "_view_count": null,
            "_view_module": "@jupyter-widgets/controls",
            "_view_module_version": "1.5.0",
            "_view_name": "HBoxView",
            "box_style": "",
            "children": [
              "IPY_MODEL_b4492d32194a4e00996e4967fa5150d0",
              "IPY_MODEL_23d278322ce14d2289404734ac36e08a",
              "IPY_MODEL_b4a9b269a2b8434f9c04d060f1243cfe"
            ],
            "layout": "IPY_MODEL_09cf6218ac11434fbe854cbd2609a69f"
          }
        },
        "b4492d32194a4e00996e4967fa5150d0": {
          "model_module": "@jupyter-widgets/controls",
          "model_name": "HTMLModel",
          "model_module_version": "1.5.0",
          "state": {
            "_dom_classes": [],
            "_model_module": "@jupyter-widgets/controls",
            "_model_module_version": "1.5.0",
            "_model_name": "HTMLModel",
            "_view_count": null,
            "_view_module": "@jupyter-widgets/controls",
            "_view_module_version": "1.5.0",
            "_view_name": "HTMLView",
            "description": "",
            "description_tooltip": null,
            "layout": "IPY_MODEL_1c2d46c94f8949849fca09e9c4bb902b",
            "placeholder": "​",
            "style": "IPY_MODEL_55355e8d233f41fbbe57c0f05b1f0c76",
            "value": "Leyendo e insertando filas...: "
          }
        },
        "23d278322ce14d2289404734ac36e08a": {
          "model_module": "@jupyter-widgets/controls",
          "model_name": "FloatProgressModel",
          "model_module_version": "1.5.0",
          "state": {
            "_dom_classes": [],
            "_model_module": "@jupyter-widgets/controls",
            "_model_module_version": "1.5.0",
            "_model_name": "FloatProgressModel",
            "_view_count": null,
            "_view_module": "@jupyter-widgets/controls",
            "_view_module_version": "1.5.0",
            "_view_name": "ProgressView",
            "bar_style": "success",
            "description": "",
            "description_tooltip": null,
            "layout": "IPY_MODEL_d7eea4a3b3e343329879ad4084cbd958",
            "max": 1,
            "min": 0,
            "orientation": "horizontal",
            "style": "IPY_MODEL_c486379a14c9495384141e10b199cea8",
            "value": 1
          }
        },
        "b4a9b269a2b8434f9c04d060f1243cfe": {
          "model_module": "@jupyter-widgets/controls",
          "model_name": "HTMLModel",
          "model_module_version": "1.5.0",
          "state": {
            "_dom_classes": [],
            "_model_module": "@jupyter-widgets/controls",
            "_model_module_version": "1.5.0",
            "_model_name": "HTMLModel",
            "_view_count": null,
            "_view_module": "@jupyter-widgets/controls",
            "_view_module_version": "1.5.0",
            "_view_name": "HTMLView",
            "description": "",
            "description_tooltip": null,
            "layout": "IPY_MODEL_893c466e02b0442585cca9df060d4000",
            "placeholder": "​",
            "style": "IPY_MODEL_e610e4eec03f4e95a6f7838666215bd8",
            "value": " 787607/? [00:24&lt;00:00, 23375.49it/s]"
          }
        },
        "09cf6218ac11434fbe854cbd2609a69f": {
          "model_module": "@jupyter-widgets/base",
          "model_name": "LayoutModel",
          "model_module_version": "1.2.0",
          "state": {
            "_model_module": "@jupyter-widgets/base",
            "_model_module_version": "1.2.0",
            "_model_name": "LayoutModel",
            "_view_count": null,
            "_view_module": "@jupyter-widgets/base",
            "_view_module_version": "1.2.0",
            "_view_name": "LayoutView",
            "align_content": null,
            "align_items": null,
            "align_self": null,
            "border": null,
            "bottom": null,
            "display": null,
            "flex": null,
            "flex_flow": null,
            "grid_area": null,
            "grid_auto_columns": null,
            "grid_auto_flow": null,
            "grid_auto_rows": null,
            "grid_column": null,
            "grid_gap": null,
            "grid_row": null,
            "grid_template_areas": null,
            "grid_template_columns": null,
            "grid_template_rows": null,
            "height": null,
            "justify_content": null,
            "justify_items": null,
            "left": null,
            "margin": null,
            "max_height": null,
            "max_width": null,
            "min_height": null,
            "min_width": null,
            "object_fit": null,
            "object_position": null,
            "order": null,
            "overflow": null,
            "overflow_x": null,
            "overflow_y": null,
            "padding": null,
            "right": null,
            "top": null,
            "visibility": null,
            "width": null
          }
        },
        "1c2d46c94f8949849fca09e9c4bb902b": {
          "model_module": "@jupyter-widgets/base",
          "model_name": "LayoutModel",
          "model_module_version": "1.2.0",
          "state": {
            "_model_module": "@jupyter-widgets/base",
            "_model_module_version": "1.2.0",
            "_model_name": "LayoutModel",
            "_view_count": null,
            "_view_module": "@jupyter-widgets/base",
            "_view_module_version": "1.2.0",
            "_view_name": "LayoutView",
            "align_content": null,
            "align_items": null,
            "align_self": null,
            "border": null,
            "bottom": null,
            "display": null,
            "flex": null,
            "flex_flow": null,
            "grid_area": null,
            "grid_auto_columns": null,
            "grid_auto_flow": null,
            "grid_auto_rows": null,
            "grid_column": null,
            "grid_gap": null,
            "grid_row": null,
            "grid_template_areas": null,
            "grid_template_columns": null,
            "grid_template_rows": null,
            "height": null,
            "justify_content": null,
            "justify_items": null,
            "left": null,
            "margin": null,
            "max_height": null,
            "max_width": null,
            "min_height": null,
            "min_width": null,
            "object_fit": null,
            "object_position": null,
            "order": null,
            "overflow": null,
            "overflow_x": null,
            "overflow_y": null,
            "padding": null,
            "right": null,
            "top": null,
            "visibility": null,
            "width": null
          }
        },
        "55355e8d233f41fbbe57c0f05b1f0c76": {
          "model_module": "@jupyter-widgets/controls",
          "model_name": "DescriptionStyleModel",
          "model_module_version": "1.5.0",
          "state": {
            "_model_module": "@jupyter-widgets/controls",
            "_model_module_version": "1.5.0",
            "_model_name": "DescriptionStyleModel",
            "_view_count": null,
            "_view_module": "@jupyter-widgets/base",
            "_view_module_version": "1.2.0",
            "_view_name": "StyleView",
            "description_width": ""
          }
        },
        "d7eea4a3b3e343329879ad4084cbd958": {
          "model_module": "@jupyter-widgets/base",
          "model_name": "LayoutModel",
          "model_module_version": "1.2.0",
          "state": {
            "_model_module": "@jupyter-widgets/base",
            "_model_module_version": "1.2.0",
            "_model_name": "LayoutModel",
            "_view_count": null,
            "_view_module": "@jupyter-widgets/base",
            "_view_module_version": "1.2.0",
            "_view_name": "LayoutView",
            "align_content": null,
            "align_items": null,
            "align_self": null,
            "border": null,
            "bottom": null,
            "display": null,
            "flex": null,
            "flex_flow": null,
            "grid_area": null,
            "grid_auto_columns": null,
            "grid_auto_flow": null,
            "grid_auto_rows": null,
            "grid_column": null,
            "grid_gap": null,
            "grid_row": null,
            "grid_template_areas": null,
            "grid_template_columns": null,
            "grid_template_rows": null,
            "height": null,
            "justify_content": null,
            "justify_items": null,
            "left": null,
            "margin": null,
            "max_height": null,
            "max_width": null,
            "min_height": null,
            "min_width": null,
            "object_fit": null,
            "object_position": null,
            "order": null,
            "overflow": null,
            "overflow_x": null,
            "overflow_y": null,
            "padding": null,
            "right": null,
            "top": null,
            "visibility": null,
            "width": "20px"
          }
        },
        "c486379a14c9495384141e10b199cea8": {
          "model_module": "@jupyter-widgets/controls",
          "model_name": "ProgressStyleModel",
          "model_module_version": "1.5.0",
          "state": {
            "_model_module": "@jupyter-widgets/controls",
            "_model_module_version": "1.5.0",
            "_model_name": "ProgressStyleModel",
            "_view_count": null,
            "_view_module": "@jupyter-widgets/base",
            "_view_module_version": "1.2.0",
            "_view_name": "StyleView",
            "bar_color": null,
            "description_width": ""
          }
        },
        "893c466e02b0442585cca9df060d4000": {
          "model_module": "@jupyter-widgets/base",
          "model_name": "LayoutModel",
          "model_module_version": "1.2.0",
          "state": {
            "_model_module": "@jupyter-widgets/base",
            "_model_module_version": "1.2.0",
            "_model_name": "LayoutModel",
            "_view_count": null,
            "_view_module": "@jupyter-widgets/base",
            "_view_module_version": "1.2.0",
            "_view_name": "LayoutView",
            "align_content": null,
            "align_items": null,
            "align_self": null,
            "border": null,
            "bottom": null,
            "display": null,
            "flex": null,
            "flex_flow": null,
            "grid_area": null,
            "grid_auto_columns": null,
            "grid_auto_flow": null,
            "grid_auto_rows": null,
            "grid_column": null,
            "grid_gap": null,
            "grid_row": null,
            "grid_template_areas": null,
            "grid_template_columns": null,
            "grid_template_rows": null,
            "height": null,
            "justify_content": null,
            "justify_items": null,
            "left": null,
            "margin": null,
            "max_height": null,
            "max_width": null,
            "min_height": null,
            "min_width": null,
            "object_fit": null,
            "object_position": null,
            "order": null,
            "overflow": null,
            "overflow_x": null,
            "overflow_y": null,
            "padding": null,
            "right": null,
            "top": null,
            "visibility": null,
            "width": null
          }
        },
        "e610e4eec03f4e95a6f7838666215bd8": {
          "model_module": "@jupyter-widgets/controls",
          "model_name": "DescriptionStyleModel",
          "model_module_version": "1.5.0",
          "state": {
            "_model_module": "@jupyter-widgets/controls",
            "_model_module_version": "1.5.0",
            "_model_name": "DescriptionStyleModel",
            "_view_count": null,
            "_view_module": "@jupyter-widgets/base",
            "_view_module_version": "1.2.0",
            "_view_name": "StyleView",
            "description_width": ""
          }
        },
        "ec84b2643b6d4138a9f369acdecb8892": {
          "model_module": "@jupyter-widgets/controls",
          "model_name": "HBoxModel",
          "model_module_version": "1.5.0",
          "state": {
            "_dom_classes": [],
            "_model_module": "@jupyter-widgets/controls",
            "_model_module_version": "1.5.0",
            "_model_name": "HBoxModel",
            "_view_count": null,
            "_view_module": "@jupyter-widgets/controls",
            "_view_module_version": "1.5.0",
            "_view_name": "HBoxView",
            "box_style": "",
            "children": [
              "IPY_MODEL_d1d5db625fef400a8ccd419e6d31fc43",
              "IPY_MODEL_711882d4157c42858545e367657ba192",
              "IPY_MODEL_6036ba5c214d4428a472fb4cfbc85455"
            ],
            "layout": "IPY_MODEL_a197838ff0254f319eb194018c42cb29"
          }
        },
        "d1d5db625fef400a8ccd419e6d31fc43": {
          "model_module": "@jupyter-widgets/controls",
          "model_name": "HTMLModel",
          "model_module_version": "1.5.0",
          "state": {
            "_dom_classes": [],
            "_model_module": "@jupyter-widgets/controls",
            "_model_module_version": "1.5.0",
            "_model_name": "HTMLModel",
            "_view_count": null,
            "_view_module": "@jupyter-widgets/controls",
            "_view_module_version": "1.5.0",
            "_view_name": "HTMLView",
            "description": "",
            "description_tooltip": null,
            "layout": "IPY_MODEL_73dec8e482ae41839e964ed8beac3137",
            "placeholder": "​",
            "style": "IPY_MODEL_996524874676443b89ce3a5cfeed8eab",
            "value": "Leyendo e insertando filas...: "
          }
        },
        "711882d4157c42858545e367657ba192": {
          "model_module": "@jupyter-widgets/controls",
          "model_name": "FloatProgressModel",
          "model_module_version": "1.5.0",
          "state": {
            "_dom_classes": [],
            "_model_module": "@jupyter-widgets/controls",
            "_model_module_version": "1.5.0",
            "_model_name": "FloatProgressModel",
            "_view_count": null,
            "_view_module": "@jupyter-widgets/controls",
            "_view_module_version": "1.5.0",
            "_view_name": "ProgressView",
            "bar_style": "success",
            "description": "",
            "description_tooltip": null,
            "layout": "IPY_MODEL_fbc5355367f6415a8119de9977154a75",
            "max": 1,
            "min": 0,
            "orientation": "horizontal",
            "style": "IPY_MODEL_a7c7c9fca662431fa8e4540eb32ac3fe",
            "value": 1
          }
        },
        "6036ba5c214d4428a472fb4cfbc85455": {
          "model_module": "@jupyter-widgets/controls",
          "model_name": "HTMLModel",
          "model_module_version": "1.5.0",
          "state": {
            "_dom_classes": [],
            "_model_module": "@jupyter-widgets/controls",
            "_model_module_version": "1.5.0",
            "_model_name": "HTMLModel",
            "_view_count": null,
            "_view_module": "@jupyter-widgets/controls",
            "_view_module_version": "1.5.0",
            "_view_name": "HTMLView",
            "description": "",
            "description_tooltip": null,
            "layout": "IPY_MODEL_20020244893249df85a0e7b20ec86e97",
            "placeholder": "​",
            "style": "IPY_MODEL_4a23fd6b51f8439e8daa5eaf26c42ca9",
            "value": " 689730/? [00:30&lt;00:00, 23153.59it/s]"
          }
        },
        "a197838ff0254f319eb194018c42cb29": {
          "model_module": "@jupyter-widgets/base",
          "model_name": "LayoutModel",
          "model_module_version": "1.2.0",
          "state": {
            "_model_module": "@jupyter-widgets/base",
            "_model_module_version": "1.2.0",
            "_model_name": "LayoutModel",
            "_view_count": null,
            "_view_module": "@jupyter-widgets/base",
            "_view_module_version": "1.2.0",
            "_view_name": "LayoutView",
            "align_content": null,
            "align_items": null,
            "align_self": null,
            "border": null,
            "bottom": null,
            "display": null,
            "flex": null,
            "flex_flow": null,
            "grid_area": null,
            "grid_auto_columns": null,
            "grid_auto_flow": null,
            "grid_auto_rows": null,
            "grid_column": null,
            "grid_gap": null,
            "grid_row": null,
            "grid_template_areas": null,
            "grid_template_columns": null,
            "grid_template_rows": null,
            "height": null,
            "justify_content": null,
            "justify_items": null,
            "left": null,
            "margin": null,
            "max_height": null,
            "max_width": null,
            "min_height": null,
            "min_width": null,
            "object_fit": null,
            "object_position": null,
            "order": null,
            "overflow": null,
            "overflow_x": null,
            "overflow_y": null,
            "padding": null,
            "right": null,
            "top": null,
            "visibility": null,
            "width": null
          }
        },
        "73dec8e482ae41839e964ed8beac3137": {
          "model_module": "@jupyter-widgets/base",
          "model_name": "LayoutModel",
          "model_module_version": "1.2.0",
          "state": {
            "_model_module": "@jupyter-widgets/base",
            "_model_module_version": "1.2.0",
            "_model_name": "LayoutModel",
            "_view_count": null,
            "_view_module": "@jupyter-widgets/base",
            "_view_module_version": "1.2.0",
            "_view_name": "LayoutView",
            "align_content": null,
            "align_items": null,
            "align_self": null,
            "border": null,
            "bottom": null,
            "display": null,
            "flex": null,
            "flex_flow": null,
            "grid_area": null,
            "grid_auto_columns": null,
            "grid_auto_flow": null,
            "grid_auto_rows": null,
            "grid_column": null,
            "grid_gap": null,
            "grid_row": null,
            "grid_template_areas": null,
            "grid_template_columns": null,
            "grid_template_rows": null,
            "height": null,
            "justify_content": null,
            "justify_items": null,
            "left": null,
            "margin": null,
            "max_height": null,
            "max_width": null,
            "min_height": null,
            "min_width": null,
            "object_fit": null,
            "object_position": null,
            "order": null,
            "overflow": null,
            "overflow_x": null,
            "overflow_y": null,
            "padding": null,
            "right": null,
            "top": null,
            "visibility": null,
            "width": null
          }
        },
        "996524874676443b89ce3a5cfeed8eab": {
          "model_module": "@jupyter-widgets/controls",
          "model_name": "DescriptionStyleModel",
          "model_module_version": "1.5.0",
          "state": {
            "_model_module": "@jupyter-widgets/controls",
            "_model_module_version": "1.5.0",
            "_model_name": "DescriptionStyleModel",
            "_view_count": null,
            "_view_module": "@jupyter-widgets/base",
            "_view_module_version": "1.2.0",
            "_view_name": "StyleView",
            "description_width": ""
          }
        },
        "fbc5355367f6415a8119de9977154a75": {
          "model_module": "@jupyter-widgets/base",
          "model_name": "LayoutModel",
          "model_module_version": "1.2.0",
          "state": {
            "_model_module": "@jupyter-widgets/base",
            "_model_module_version": "1.2.0",
            "_model_name": "LayoutModel",
            "_view_count": null,
            "_view_module": "@jupyter-widgets/base",
            "_view_module_version": "1.2.0",
            "_view_name": "LayoutView",
            "align_content": null,
            "align_items": null,
            "align_self": null,
            "border": null,
            "bottom": null,
            "display": null,
            "flex": null,
            "flex_flow": null,
            "grid_area": null,
            "grid_auto_columns": null,
            "grid_auto_flow": null,
            "grid_auto_rows": null,
            "grid_column": null,
            "grid_gap": null,
            "grid_row": null,
            "grid_template_areas": null,
            "grid_template_columns": null,
            "grid_template_rows": null,
            "height": null,
            "justify_content": null,
            "justify_items": null,
            "left": null,
            "margin": null,
            "max_height": null,
            "max_width": null,
            "min_height": null,
            "min_width": null,
            "object_fit": null,
            "object_position": null,
            "order": null,
            "overflow": null,
            "overflow_x": null,
            "overflow_y": null,
            "padding": null,
            "right": null,
            "top": null,
            "visibility": null,
            "width": "20px"
          }
        },
        "a7c7c9fca662431fa8e4540eb32ac3fe": {
          "model_module": "@jupyter-widgets/controls",
          "model_name": "ProgressStyleModel",
          "model_module_version": "1.5.0",
          "state": {
            "_model_module": "@jupyter-widgets/controls",
            "_model_module_version": "1.5.0",
            "_model_name": "ProgressStyleModel",
            "_view_count": null,
            "_view_module": "@jupyter-widgets/base",
            "_view_module_version": "1.2.0",
            "_view_name": "StyleView",
            "bar_color": null,
            "description_width": ""
          }
        },
        "20020244893249df85a0e7b20ec86e97": {
          "model_module": "@jupyter-widgets/base",
          "model_name": "LayoutModel",
          "model_module_version": "1.2.0",
          "state": {
            "_model_module": "@jupyter-widgets/base",
            "_model_module_version": "1.2.0",
            "_model_name": "LayoutModel",
            "_view_count": null,
            "_view_module": "@jupyter-widgets/base",
            "_view_module_version": "1.2.0",
            "_view_name": "LayoutView",
            "align_content": null,
            "align_items": null,
            "align_self": null,
            "border": null,
            "bottom": null,
            "display": null,
            "flex": null,
            "flex_flow": null,
            "grid_area": null,
            "grid_auto_columns": null,
            "grid_auto_flow": null,
            "grid_auto_rows": null,
            "grid_column": null,
            "grid_gap": null,
            "grid_row": null,
            "grid_template_areas": null,
            "grid_template_columns": null,
            "grid_template_rows": null,
            "height": null,
            "justify_content": null,
            "justify_items": null,
            "left": null,
            "margin": null,
            "max_height": null,
            "max_width": null,
            "min_height": null,
            "min_width": null,
            "object_fit": null,
            "object_position": null,
            "order": null,
            "overflow": null,
            "overflow_x": null,
            "overflow_y": null,
            "padding": null,
            "right": null,
            "top": null,
            "visibility": null,
            "width": null
          }
        },
        "4a23fd6b51f8439e8daa5eaf26c42ca9": {
          "model_module": "@jupyter-widgets/controls",
          "model_name": "DescriptionStyleModel",
          "model_module_version": "1.5.0",
          "state": {
            "_model_module": "@jupyter-widgets/controls",
            "_model_module_version": "1.5.0",
            "_model_name": "DescriptionStyleModel",
            "_view_count": null,
            "_view_module": "@jupyter-widgets/base",
            "_view_module_version": "1.2.0",
            "_view_name": "StyleView",
            "description_width": ""
          }
        },
        "e4f3b8da602840258cf537a3c1cea3ed": {
          "model_module": "@jupyter-widgets/controls",
          "model_name": "HBoxModel",
          "model_module_version": "1.5.0",
          "state": {
            "_dom_classes": [],
            "_model_module": "@jupyter-widgets/controls",
            "_model_module_version": "1.5.0",
            "_model_name": "HBoxModel",
            "_view_count": null,
            "_view_module": "@jupyter-widgets/controls",
            "_view_module_version": "1.5.0",
            "_view_name": "HBoxView",
            "box_style": "",
            "children": [
              "IPY_MODEL_28155000c7484cdf8bb77f00ac4e8d82",
              "IPY_MODEL_1939dea4d9444701acf5a554ad2bb76d",
              "IPY_MODEL_a8e9e2b70cc4481fb0000024931679f7"
            ],
            "layout": "IPY_MODEL_682c6d8b0cb4486b917638aae5443c3f"
          }
        },
        "28155000c7484cdf8bb77f00ac4e8d82": {
          "model_module": "@jupyter-widgets/controls",
          "model_name": "HTMLModel",
          "model_module_version": "1.5.0",
          "state": {
            "_dom_classes": [],
            "_model_module": "@jupyter-widgets/controls",
            "_model_module_version": "1.5.0",
            "_model_name": "HTMLModel",
            "_view_count": null,
            "_view_module": "@jupyter-widgets/controls",
            "_view_module_version": "1.5.0",
            "_view_name": "HTMLView",
            "description": "",
            "description_tooltip": null,
            "layout": "IPY_MODEL_56d2094ab8114c0a960e7ceb2988f947",
            "placeholder": "​",
            "style": "IPY_MODEL_ab59df6542a042d492aa74bc36fc3a6d",
            "value": "Leyendo e insertando filas...: "
          }
        },
        "1939dea4d9444701acf5a554ad2bb76d": {
          "model_module": "@jupyter-widgets/controls",
          "model_name": "FloatProgressModel",
          "model_module_version": "1.5.0",
          "state": {
            "_dom_classes": [],
            "_model_module": "@jupyter-widgets/controls",
            "_model_module_version": "1.5.0",
            "_model_name": "FloatProgressModel",
            "_view_count": null,
            "_view_module": "@jupyter-widgets/controls",
            "_view_module_version": "1.5.0",
            "_view_name": "ProgressView",
            "bar_style": "success",
            "description": "",
            "description_tooltip": null,
            "layout": "IPY_MODEL_525adffeb2744672a265a125048bb911",
            "max": 1,
            "min": 0,
            "orientation": "horizontal",
            "style": "IPY_MODEL_188060a0b7df445c8e26755f6ad0cdba",
            "value": 1
          }
        },
        "a8e9e2b70cc4481fb0000024931679f7": {
          "model_module": "@jupyter-widgets/controls",
          "model_name": "HTMLModel",
          "model_module_version": "1.5.0",
          "state": {
            "_dom_classes": [],
            "_model_module": "@jupyter-widgets/controls",
            "_model_module_version": "1.5.0",
            "_model_name": "HTMLModel",
            "_view_count": null,
            "_view_module": "@jupyter-widgets/controls",
            "_view_module_version": "1.5.0",
            "_view_name": "HTMLView",
            "description": "",
            "description_tooltip": null,
            "layout": "IPY_MODEL_af8bb190f6f0497fa9ba59db497b6992",
            "placeholder": "​",
            "style": "IPY_MODEL_46d7439a938f4569a20302ff3801434f",
            "value": " 3048/? [00:00&lt;00:00, 107385.46it/s]"
          }
        },
        "682c6d8b0cb4486b917638aae5443c3f": {
          "model_module": "@jupyter-widgets/base",
          "model_name": "LayoutModel",
          "model_module_version": "1.2.0",
          "state": {
            "_model_module": "@jupyter-widgets/base",
            "_model_module_version": "1.2.0",
            "_model_name": "LayoutModel",
            "_view_count": null,
            "_view_module": "@jupyter-widgets/base",
            "_view_module_version": "1.2.0",
            "_view_name": "LayoutView",
            "align_content": null,
            "align_items": null,
            "align_self": null,
            "border": null,
            "bottom": null,
            "display": null,
            "flex": null,
            "flex_flow": null,
            "grid_area": null,
            "grid_auto_columns": null,
            "grid_auto_flow": null,
            "grid_auto_rows": null,
            "grid_column": null,
            "grid_gap": null,
            "grid_row": null,
            "grid_template_areas": null,
            "grid_template_columns": null,
            "grid_template_rows": null,
            "height": null,
            "justify_content": null,
            "justify_items": null,
            "left": null,
            "margin": null,
            "max_height": null,
            "max_width": null,
            "min_height": null,
            "min_width": null,
            "object_fit": null,
            "object_position": null,
            "order": null,
            "overflow": null,
            "overflow_x": null,
            "overflow_y": null,
            "padding": null,
            "right": null,
            "top": null,
            "visibility": null,
            "width": null
          }
        },
        "56d2094ab8114c0a960e7ceb2988f947": {
          "model_module": "@jupyter-widgets/base",
          "model_name": "LayoutModel",
          "model_module_version": "1.2.0",
          "state": {
            "_model_module": "@jupyter-widgets/base",
            "_model_module_version": "1.2.0",
            "_model_name": "LayoutModel",
            "_view_count": null,
            "_view_module": "@jupyter-widgets/base",
            "_view_module_version": "1.2.0",
            "_view_name": "LayoutView",
            "align_content": null,
            "align_items": null,
            "align_self": null,
            "border": null,
            "bottom": null,
            "display": null,
            "flex": null,
            "flex_flow": null,
            "grid_area": null,
            "grid_auto_columns": null,
            "grid_auto_flow": null,
            "grid_auto_rows": null,
            "grid_column": null,
            "grid_gap": null,
            "grid_row": null,
            "grid_template_areas": null,
            "grid_template_columns": null,
            "grid_template_rows": null,
            "height": null,
            "justify_content": null,
            "justify_items": null,
            "left": null,
            "margin": null,
            "max_height": null,
            "max_width": null,
            "min_height": null,
            "min_width": null,
            "object_fit": null,
            "object_position": null,
            "order": null,
            "overflow": null,
            "overflow_x": null,
            "overflow_y": null,
            "padding": null,
            "right": null,
            "top": null,
            "visibility": null,
            "width": null
          }
        },
        "ab59df6542a042d492aa74bc36fc3a6d": {
          "model_module": "@jupyter-widgets/controls",
          "model_name": "DescriptionStyleModel",
          "model_module_version": "1.5.0",
          "state": {
            "_model_module": "@jupyter-widgets/controls",
            "_model_module_version": "1.5.0",
            "_model_name": "DescriptionStyleModel",
            "_view_count": null,
            "_view_module": "@jupyter-widgets/base",
            "_view_module_version": "1.2.0",
            "_view_name": "StyleView",
            "description_width": ""
          }
        },
        "525adffeb2744672a265a125048bb911": {
          "model_module": "@jupyter-widgets/base",
          "model_name": "LayoutModel",
          "model_module_version": "1.2.0",
          "state": {
            "_model_module": "@jupyter-widgets/base",
            "_model_module_version": "1.2.0",
            "_model_name": "LayoutModel",
            "_view_count": null,
            "_view_module": "@jupyter-widgets/base",
            "_view_module_version": "1.2.0",
            "_view_name": "LayoutView",
            "align_content": null,
            "align_items": null,
            "align_self": null,
            "border": null,
            "bottom": null,
            "display": null,
            "flex": null,
            "flex_flow": null,
            "grid_area": null,
            "grid_auto_columns": null,
            "grid_auto_flow": null,
            "grid_auto_rows": null,
            "grid_column": null,
            "grid_gap": null,
            "grid_row": null,
            "grid_template_areas": null,
            "grid_template_columns": null,
            "grid_template_rows": null,
            "height": null,
            "justify_content": null,
            "justify_items": null,
            "left": null,
            "margin": null,
            "max_height": null,
            "max_width": null,
            "min_height": null,
            "min_width": null,
            "object_fit": null,
            "object_position": null,
            "order": null,
            "overflow": null,
            "overflow_x": null,
            "overflow_y": null,
            "padding": null,
            "right": null,
            "top": null,
            "visibility": null,
            "width": "20px"
          }
        },
        "188060a0b7df445c8e26755f6ad0cdba": {
          "model_module": "@jupyter-widgets/controls",
          "model_name": "ProgressStyleModel",
          "model_module_version": "1.5.0",
          "state": {
            "_model_module": "@jupyter-widgets/controls",
            "_model_module_version": "1.5.0",
            "_model_name": "ProgressStyleModel",
            "_view_count": null,
            "_view_module": "@jupyter-widgets/base",
            "_view_module_version": "1.2.0",
            "_view_name": "StyleView",
            "bar_color": null,
            "description_width": ""
          }
        },
        "af8bb190f6f0497fa9ba59db497b6992": {
          "model_module": "@jupyter-widgets/base",
          "model_name": "LayoutModel",
          "model_module_version": "1.2.0",
          "state": {
            "_model_module": "@jupyter-widgets/base",
            "_model_module_version": "1.2.0",
            "_model_name": "LayoutModel",
            "_view_count": null,
            "_view_module": "@jupyter-widgets/base",
            "_view_module_version": "1.2.0",
            "_view_name": "LayoutView",
            "align_content": null,
            "align_items": null,
            "align_self": null,
            "border": null,
            "bottom": null,
            "display": null,
            "flex": null,
            "flex_flow": null,
            "grid_area": null,
            "grid_auto_columns": null,
            "grid_auto_flow": null,
            "grid_auto_rows": null,
            "grid_column": null,
            "grid_gap": null,
            "grid_row": null,
            "grid_template_areas": null,
            "grid_template_columns": null,
            "grid_template_rows": null,
            "height": null,
            "justify_content": null,
            "justify_items": null,
            "left": null,
            "margin": null,
            "max_height": null,
            "max_width": null,
            "min_height": null,
            "min_width": null,
            "object_fit": null,
            "object_position": null,
            "order": null,
            "overflow": null,
            "overflow_x": null,
            "overflow_y": null,
            "padding": null,
            "right": null,
            "top": null,
            "visibility": null,
            "width": null
          }
        },
        "46d7439a938f4569a20302ff3801434f": {
          "model_module": "@jupyter-widgets/controls",
          "model_name": "DescriptionStyleModel",
          "model_module_version": "1.5.0",
          "state": {
            "_model_module": "@jupyter-widgets/controls",
            "_model_module_version": "1.5.0",
            "_model_name": "DescriptionStyleModel",
            "_view_count": null,
            "_view_module": "@jupyter-widgets/base",
            "_view_module_version": "1.2.0",
            "_view_name": "StyleView",
            "description_width": ""
          }
        }
      }
    }
  },
  "nbformat": 4,
  "nbformat_minor": 5
}